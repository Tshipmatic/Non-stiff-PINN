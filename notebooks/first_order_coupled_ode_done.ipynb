{
 "cells": [
  {
   "cell_type": "markdown",
   "id": "7eb88836",
   "metadata": {},
   "source": [
    "# Coupled ode\n",
    "# $$ \\dot{x} (t)= -x + 6y$$\n",
    "# Vertical velocity\n",
    "# $$\\dot{y}(t) = x- 2y$$\n",
    "\n",
    "\n",
    "## Initial condition:\n",
    "# $$x(0) = 2$$\n",
    "# $$y(0) = 0$$\n",
    "\n",
    "# Solutions\n",
    "# $$x(t) = \\frac{2}{5}\\left( 3e^{t}+2e^{-4t}\\right)$$\n",
    "# $$y(t) = \\frac{2}{5}\\left( e^{t}-e^{-4t}\\right)$$"
   ]
  },
  {
   "cell_type": "code",
   "execution_count": 43,
   "id": "fd15ca9a",
   "metadata": {},
   "outputs": [],
   "source": [
    "import tensorflow as tf\n",
    "import numpy as np\n",
    "from functools import partial\n",
    "import matplotlib.pyplot as plt"
   ]
  },
  {
   "cell_type": "code",
   "execution_count": 2,
   "id": "d2d380bb",
   "metadata": {},
   "outputs": [
    {
     "name": "stdout",
     "output_type": "stream",
     "text": [
      "WARNING: GPU device not found.\n"
     ]
    },
    {
     "name": "stderr",
     "output_type": "stream",
     "text": [
      "2022-11-11 19:45:23.853177: I tensorflow/core/platform/cpu_feature_guard.cc:193] This TensorFlow binary is optimized with oneAPI Deep Neural Network Library (oneDNN) to use the following CPU instructions in performance-critical operations:  AVX2 AVX512F AVX512_VNNI FMA\n",
      "To enable them in other operations, rebuild TensorFlow with the appropriate compiler flags.\n",
      "2022-11-11 19:45:24.524607: E tensorflow/stream_executor/cuda/cuda_driver.cc:265] failed call to cuInit: CUDA_ERROR_UNKNOWN: unknown error\n",
      "2022-11-11 19:45:24.524631: I tensorflow/stream_executor/cuda/cuda_diagnostics.cc:169] retrieving CUDA diagnostic information for host: tshegofatso-GE76-Raider-11UG\n",
      "2022-11-11 19:45:24.524634: I tensorflow/stream_executor/cuda/cuda_diagnostics.cc:176] hostname: tshegofatso-GE76-Raider-11UG\n",
      "2022-11-11 19:45:24.524714: I tensorflow/stream_executor/cuda/cuda_diagnostics.cc:200] libcuda reported version is: 470.141.3\n",
      "2022-11-11 19:45:24.524724: I tensorflow/stream_executor/cuda/cuda_diagnostics.cc:204] kernel reported version is: 470.141.3\n",
      "2022-11-11 19:45:24.524726: I tensorflow/stream_executor/cuda/cuda_diagnostics.cc:310] kernel version seems to match DSO: 470.141.3\n"
     ]
    }
   ],
   "source": [
    "tf.__version__\n",
    "if tf.test.gpu_device_name() != '/device:GPU:0':\n",
    "    print('WARNING: GPU device not found.')\n",
    "else:\n",
    "    print('SUCCESS: Found GPU: {}'.format(tf.test.gpu_device_name()))"
   ]
  },
  {
   "cell_type": "code",
   "execution_count": 3,
   "id": "e2eef538",
   "metadata": {},
   "outputs": [],
   "source": [
    "gpus = tf.config.experimental.list_physical_devices('GPU')\n",
    "if gpus:\n",
    "    try:\n",
    "        tf.config.experimental.set_virtual_device_configuration(\n",
    "        gpus[0],[tf.config.experimental.VirtualDeviceConfiguration(memory_limit=5120)])\n",
    "    except RuntimeError as e:\n",
    "        print(e)"
   ]
  },
  {
   "cell_type": "code",
   "execution_count": 4,
   "id": "b2ae6b9b",
   "metadata": {},
   "outputs": [
    {
     "data": {
      "text/plain": [
       "<matplotlib.legend.Legend at 0x7efe9413c790>"
      ]
     },
     "execution_count": 4,
     "metadata": {},
     "output_type": "execute_result"
    },
    {
     "data": {
      "image/png": "[encoded data removed]",
      "text/plain": [
       "<Figure size 432x288 with 1 Axes>"
      ]
     },
     "metadata": {
      "needs_background": "light"
     },
     "output_type": "display_data"
    }
   ],
   "source": [
    "n_samples = 100\n",
    "x_true = lambda t: (2./5.)*(3.*tf.exp(t)+2.*tf.exp(-4.*t))\n",
    "y_true = lambda t: (2./5.)*(tf.exp(t) - tf.exp(-4.*t))\n",
    "\n",
    "t= tf.linspace(0., 1., n_samples)[:, tf.newaxis]\n",
    "\n",
    "\n",
    "plt.plot(t, x_true(t) ,label = 'x(t)')\n",
    "plt.plot(t, y_true(t), label = 'y(t)')\n",
    "plt.legend()"
   ]
  },
  {
   "cell_type": "code",
   "execution_count": 67,
   "id": "313b2a44",
   "metadata": {},
   "outputs": [],
   "source": [
    "class MyDense(tf.keras.layers.Layer):\n",
    "    '''\n",
    "    Inputs:\n",
    "    \n",
    "    units : number of neurons\n",
    "    initialization = 0,1\n",
    "           if activations are:\n",
    "           init =0(He): ReLU, Leaky ReLU, ELU, GELU, Swish, Mish\n",
    "           init =1(Xavier_Glorot): None, tanh, sigmoid, softmax \n",
    "           \n",
    "    activation: activation to be use either string or callable\n",
    "    \n",
    "    \n",
    "    Output:\n",
    "            returns activation(wx+b) with appropriate initialization\n",
    "    \n",
    "    '''\n",
    "    def __init__(self, units = 20, initialization=None, activation = None): #None = gives basic activation\n",
    "        super(MyDense, self).__init__()\n",
    "        self.units = units   \n",
    "        self.init = initialization\n",
    "        \n",
    "        if activation == 'mish':\n",
    "            self.activation = tf.keras.activations.get(self.mish_activation)\n",
    "        else:\n",
    "            self.activation = tf.keras.activations.get(activation)\n",
    "       \n",
    "    @tf.function\n",
    "    def mish_activation(self, x):\n",
    "        print(f'called_mish')\n",
    "    #     mish(x) = xtanh(softsplus(x))  it needs  He initialization\n",
    "        return x*tf.math.tanh(tf.nn.softplus(x))       \n",
    "    \n",
    "    \n",
    "# We get them from the shape of w= shape\n",
    "# shape[0] : number of inputs to the neuron\n",
    "# shape[1] : number of output from the neuron\n",
    "#     @tf.function(reduce_retracing=True)\n",
    "    def Xavier_Glorot_initializer(self,shape, dtype=tf.float32):\n",
    "        '''\n",
    "        Xavier Glorot: initialization must be used for the following activations:\n",
    "        None, tanh, sigmoid, softmax\n",
    "\n",
    "       input: \n",
    "            shape = [number of columns, units]\n",
    "\n",
    "       output:\n",
    "               samples normal distribution of mean = 0 stddev = sqrt(2./inputs_shape+units)\n",
    "        '''\n",
    "        print('Initial weight with  Xavier Glorot ')\n",
    "        \n",
    "        shape_to_float = tf.cast(shape, dtype=tf.float32)\n",
    "        fanin = shape_to_float[0]\n",
    "        fanout = shape_to_float[1]\n",
    "        stddev = tf.sqrt(2. /(fanin+fanout)  )\n",
    "        return tf.random.normal(shape, stddev=stddev, dtype=dtype)\n",
    "    \n",
    "#     @tf.function(reduce_retracing=True) \n",
    "    def He_initializer(self,shape,dtype = tf.float32):\n",
    "        '''\n",
    "        input: \n",
    "                shape = [number of columns, units]\n",
    "\n",
    "        He (aka He normal)initialization must be used for the following activations:\n",
    "        ReLU, Leaky ReLU, ELU, GELU, Swish, Mish\n",
    "\n",
    "        He initialization:\n",
    "        random normal with variance and mean of 2/fanin = 2/no. of inputs = 2/inputs\n",
    "        '''\n",
    "        shape_to_float = tf.cast(shape, dtype=tf.float32)\n",
    "#         print(f'INIT shape = {shape}, dtype = {shape.dtype}')\n",
    "#         fanin = tf.constant(shape[0], dtype = tf.float32)\n",
    "        fanin = shape_to_float[0]\n",
    "#         print(f'fanin = {fanin}')\n",
    "        stddev = tf.sqrt(2. /fanin)\n",
    "#         print(f'stddev = {stddev}')\n",
    "        print('Initial weight with  He')\n",
    "        return tf.random.normal(shape, stddev=stddev, dtype=dtype)        \n",
    "\n",
    "#     Initialize kernel aka w\n",
    "    def init_w(self, input_shape):\n",
    "        shape = [input_shape[-1], self.units]\n",
    "        shape = tf.constant(shape, dtype=tf.int32)\n",
    "\n",
    "        if self.init == 0:\n",
    "#             Initialize with He : Relu and variants activation functions\n",
    "            value = self.He_initializer(shape)\n",
    "        else:\n",
    "#             Initialize with Xavier_Glorot : None, tanh, sigmoid, softmax activation functions\n",
    "            value = self.Xavier_Glorot_initializer(shape)\n",
    "            \n",
    "        return tf.Variable(name = 'kernel', initial_value=value ,trainable = True )\n",
    "\n",
    "#     Initialize biase aka b\n",
    "    def init_b(self):\n",
    "        value = tf.zeros(self.units)\n",
    "        return tf.Variable(name = 'bias', initial_value=value ,trainable = True )    \n",
    "       \n",
    "        \n",
    "    def build(self, input_shape):\n",
    "        self.w = self.init_w(input_shape)\n",
    "        self.b = self.init_b()\n",
    "        \n",
    "    def call(self, inputs):\n",
    "        out_put = self.activation(tf.matmul(inputs, self.w) + self.b)\n",
    "        return out_put"
   ]
  },
  {
   "cell_type": "code",
   "execution_count": 68,
   "id": "2bace8d4",
   "metadata": {},
   "outputs": [],
   "source": [
    "class X_approx(tf.keras.Model):\n",
    "    def __init__(self,num_of_hid_layers = None, units_per_layer = None, num_out=1, initialization=None, activation=None ):\n",
    "        super(X_approx,self).__init__()\n",
    "        self.num_of_hid_layers = num_of_hid_layers\n",
    "        self.units_per_layer = units_per_layer\n",
    "        self.num_out = num_out\n",
    "        self.init = initialization\n",
    "        self.normalize = tf.keras.layers.Normalization()\n",
    "        \n",
    "        if self.init == 0:\n",
    "            kerner_init = tf.keras.initializers.he_normal()\n",
    "        else:\n",
    "            kerner_init = tf.keras.initializers.glorot_normal()\n",
    "            \n",
    "        \n",
    "        \n",
    "        \n",
    "        self.initialization = initialization\n",
    "        self.activation = activation\n",
    "        \n",
    "        \n",
    "        self.hidden_layers = [MyDense(self.units_per_layer, self.initialization, self.activation) \n",
    "                              for _ in range(self.num_of_hid_layers)]\n",
    "        \n",
    "        self.out = MyDense(units=self.num_out, initialization=self.initialization)\n",
    "        \n",
    "        self.bn = [tf.keras.layers.BatchNormalization() for _ in range(self.num_of_hid_layers)]\n",
    "    \n",
    "    def call(self, inputs):\n",
    "        '''\n",
    "        Add BN before since the layer includes activations\n",
    "        \n",
    "        '''\n",
    "        \n",
    "        for i in range(self.num_of_hid_layers):\n",
    "            if i == 0:\n",
    "                x = self.normalize(inputs)\n",
    "                x = self.bn[i](x)\n",
    "            else:\n",
    "                x = self.bn[i](x)\n",
    "                \n",
    "            x = self.hidden_layers[i](x)\n",
    "            \n",
    "        return self.out(x)  \n",
    "    \n",
    "class Y_approx(tf.keras.Model):\n",
    "    def __init__(self,num_of_hid_layers = None, units_per_layer = None, num_out=1, initialization=None, activation=None ):\n",
    "        super(Y_approx,self).__init__()\n",
    "        self.num_of_hid_layers = num_of_hid_layers\n",
    "        self.units_per_layer = units_per_layer\n",
    "        self.num_out = num_out\n",
    "        self.init = initialization\n",
    "        self.normalize = tf.keras.layers.Normalization()\n",
    "        \n",
    "        if self.init == 0:\n",
    "            kerner_init = tf.keras.initializers.he_normal()\n",
    "        else:\n",
    "            kerner_init = tf.keras.initializers.glorot_normal()\n",
    "            \n",
    "        \n",
    "        \n",
    "        \n",
    "        self.initialization = initialization\n",
    "        self.activation = activation\n",
    "        \n",
    "        \n",
    "        self.hidden_layers = [MyDense(self.units_per_layer, self.initialization, self.activation) \n",
    "                              for _ in range(self.num_of_hid_layers)]\n",
    "        \n",
    "        self.out = MyDense(units=self.num_out, initialization=self.initialization)\n",
    "        \n",
    "        self.bn = [tf.keras.layers.BatchNormalization() for _ in range(self.num_of_hid_layers)]\n",
    "    \n",
    "    def call(self, inputs):\n",
    "        '''\n",
    "        Add BN before since the layer includes activations\n",
    "        \n",
    "        '''\n",
    "        \n",
    "        for i in range(self.num_of_hid_layers):\n",
    "            if i == 0:\n",
    "                x = self.normalize(inputs)\n",
    "                x = self.bn[i](x)\n",
    "            else:\n",
    "                x = self.bn[i](x)\n",
    "                \n",
    "            x = self.hidden_layers[i](x)\n",
    "            \n",
    "        return self.out(x)  \n",
    "    \n",
    "    \n",
    "class Z_approx(tf.keras.Model):\n",
    "    def __init__(self,num_of_hid_layers = None, units_per_layer = None, num_out=1, initialization=None, activation=None ):\n",
    "        super(Z_approx,self).__init__()\n",
    "        self.num_of_hid_layers = num_of_hid_layers\n",
    "        self.units_per_layer = units_per_layer\n",
    "        self.num_out = num_out\n",
    "        self.init = initialization\n",
    "        self.normalize = tf.keras.layers.Normalization()\n",
    "        \n",
    "        if self.init == 0:\n",
    "            kerner_init = tf.keras.initializers.he_normal()\n",
    "        else:\n",
    "            kerner_init = tf.keras.initializers.glorot_normal()\n",
    "            \n",
    "        \n",
    "        \n",
    "        \n",
    "        self.initialization = initialization\n",
    "        self.activation = activation\n",
    "        \n",
    "        \n",
    "        self.hidden_layers = [MyDense(self.units_per_layer, self.initialization, self.activation) \n",
    "                              for _ in range(self.num_of_hid_layers)]\n",
    "        \n",
    "        self.out = MyDense(units=self.num_out, initialization=self.initialization)\n",
    "        \n",
    "        self.bn = [tf.keras.layers.BatchNormalization() for _ in range(self.num_of_hid_layers)]\n",
    "    \n",
    "    def call(self, inputs):\n",
    "        '''\n",
    "        Add BN before since the layer includes activations\n",
    "        \n",
    "        '''\n",
    "        \n",
    "        for i in range(self.num_of_hid_layers):\n",
    "            if i == 0:\n",
    "                x = self.normalize(inputs)\n",
    "                x = self.bn[i](x)\n",
    "            else:\n",
    "                x = self.bn[i](x)\n",
    "                \n",
    "            x = self.hidden_layers[i](x)\n",
    "            \n",
    "        return self.out(x)          "
   ]
  },
  {
   "cell_type": "code",
   "execution_count": 69,
   "id": "a7001087",
   "metadata": {},
   "outputs": [],
   "source": [
    "# New idea z = [x,y]"
   ]
  },
  {
   "cell_type": "code",
   "execution_count": 70,
   "id": "5344da3a",
   "metadata": {},
   "outputs": [
    {
     "name": "stdout",
     "output_type": "stream",
     "text": [
      "Initial weight with  He\n",
      "called_mish\n",
      "Initial weight with  He\n",
      "called_mish\n",
      "Initial weight with  He\n",
      "called_mish\n",
      "Initial weight with  He\n"
     ]
    }
   ],
   "source": [
    "z_hat = Z_approx(num_of_hid_layers = 3, units_per_layer = 5, num_out=2, initialization = 0,activation = 'mish')\n",
    "z_hat.build(t.shape)"
   ]
  },
  {
   "cell_type": "code",
   "execution_count": 71,
   "id": "e8952aaf",
   "metadata": {},
   "outputs": [],
   "source": [
    "with tf.GradientTape(persistent=True) as tape:\n",
    "    tape.watch(t)\n",
    "    x_fun = z_hat(t)[:,0:1]\n",
    "    y_fun = z_hat(t)[:,1:]\n",
    "x_prime = tape.gradient(x_fun,t)  \n",
    "y_prime = tape.gradient(y_fun,t) \n",
    "del tape"
   ]
  },
  {
   "cell_type": "code",
   "execution_count": 72,
   "id": "23218a7d",
   "metadata": {},
   "outputs": [],
   "source": [
    "# New idea z = [x,y]\n",
    "class PINN:\n",
    "    def __init__(self, t, model,z_init,optim):\n",
    "        self.model = model\n",
    "        self.t = t\n",
    "        self.x_init = z_init[0]\n",
    "        self.y_init = z_init[1]\n",
    "        self.optim = optim\n",
    "\n",
    "        \n",
    "    def get_derivatives(self,t):\n",
    "        '''\n",
    "        Calculate the derivatives and function that correspond to the ode\n",
    "\n",
    "        input:\n",
    "                t : independent variant\n",
    "\n",
    "        output:\n",
    "                value and corresponding derivative\n",
    "\n",
    "        '''\n",
    "        with tf.GradientTape(persistent=True) as tape:\n",
    "            tape.watch(t) \n",
    "            x = self.model(t)[:,0:1]\n",
    "            y = self.model(t)[:,1:]\n",
    "        x_prime = tape.gradient(x,t)    \n",
    "        y_prime = tape.gradient(y,t)   \n",
    "        del tape\n",
    "        \n",
    "        return x,y,x_prime,y_prime   \n",
    "\n",
    "        \n",
    "    def ode_ic(self,t):\n",
    "        # d^2xdx^2 = g\n",
    "        # v(0) = 0.0m/s\n",
    "#         yo = 20.0\n",
    "        # x(t) = 0.5*gt^2 + v(0)t +x(0)\n",
    "        x,y,x_prime,y_prime = self.get_derivatives(t)\n",
    "       \n",
    "        u1 =  x_prime + x - 6.0*y\n",
    "        u2 =  y_prime - x + 2.0*y\n",
    "#         Initial conditions\n",
    "        x0,y0,x_prime0,y_prime0 = self.get_derivatives(tf.zeros_like(t))\n",
    "#        \n",
    "        u3 =  x0 - self.x_init\n",
    "        u4 =  y0 - self.y_init\n",
    "\n",
    "        return u1,u2,u3,u4\n",
    "        \n",
    "    def loss(self,t):\n",
    "        u1,u2,u3,u4 = self.ode_ic(t)\n",
    "        mse_x  = tf.reduce_mean(tf.square(u1))\n",
    "        mse_y  = tf.reduce_mean(tf.square(u2))\n",
    "        mse_x0 = tf.reduce_mean(tf.square(u3))\n",
    "        mse_y0 = tf.reduce_mean(tf.square(u4))\n",
    "        return mse_x+mse_y+mse_x0+mse_y0\n",
    "    \n",
    "    def train_with_adam(self,batch_mode,epochs,batch_size,t):\n",
    "        @tf.function\n",
    "        def train_and_update(t):\n",
    "    #         print(f'params : \\n {self.model.trainable_variables}')\n",
    "            with tf.GradientTape() as tape:\n",
    "#                 tape.watch(model.trainable_variables)\n",
    "                los  = self.loss(t)\n",
    "            dlossdpa = tape.gradient(los,self.model.trainable_variables) \n",
    "            self.optim.apply_gradients(zip(dlossdpa, self.model.trainable_variables))\n",
    "            return los\n",
    "        \n",
    "        def train_and_update_batch(epochs, batch_size,t):\n",
    "            loss_batch = []\n",
    "            steps_per_epoch = int(t.shape[0]/batch_size)\n",
    "            \n",
    "            initial_loss = train_and_update(t).numpy()\n",
    "            print(f'initial loss : {initial_loss}')\n",
    "            \n",
    "            for epoch in range(epochs):\n",
    "#                 print(f'Epoch {epoch} ', end = \".\")\n",
    "                for i in range(steps_per_epoch):\n",
    "                    t_batch = t[i*batch_size:batch_size*(i+1)]\n",
    "                    loss = train_and_update(t_batch).numpy()\n",
    "                    loss_batch.append(loss)\n",
    "                    \n",
    "#                     if i%(steps_per_epoch/10)==0:\n",
    "#                         print(end=\".\")\n",
    "                        \n",
    "                if epoch%1000==0:   \n",
    "                    print(f'loss for epoch {epoch} : {loss}')  \n",
    "            print(f'Final loss : {loss}')    \n",
    "            return loss_batch      \n",
    "                        \n",
    "                        \n",
    "        def train_whole_set(t):                \n",
    "            losses =[]\n",
    "            initial_loss = train_and_update(t).numpy()\n",
    "            print(f'initial loss : {initial_loss}')\n",
    "            losses.append(initial_loss)\n",
    "\n",
    "            for epoch in range(epochs):\n",
    "            #     print(f'epoch {epoch}')\n",
    "            #     print('epoch {}'.format(epoch),end = \".\")\n",
    "                loss = train_and_update(t).numpy()\n",
    "                losses.append(loss)\n",
    "            #     print(f'loss : {loss}')\n",
    "\n",
    "                if epoch%1000==0:\n",
    "                    print(f'loss for epoch {epoch} : {loss}') \n",
    "            #         print(end = \".\")\n",
    "            print(f'Final loss : {loss}') \n",
    "            return losses\n",
    "        \n",
    "        if batch_mode == True:\n",
    "            losses = train_and_update_batch(epochs, batch_size,t)\n",
    "        else:\n",
    "            losses = train_whole_set(t)\n",
    "            \n",
    "        return losses                "
   ]
  },
  {
   "cell_type": "code",
   "execution_count": 73,
   "id": "36c60d06",
   "metadata": {},
   "outputs": [],
   "source": [
    "optim = tf.keras.optimizers.Adam()\n",
    "epochs = 5000\n",
    "batch = 10\n",
    "x_int = tf.constant(2.0, dtype = tf.float32)\n",
    "y_int = tf.constant(0.0, dtype = tf.float32)\n",
    "\n",
    "z_init = tf.constant(np.array([x_int,y_int]), dtype=tf.float32)\n",
    "# New idea z = [x,y]"
   ]
  },
  {
   "cell_type": "code",
   "execution_count": 74,
   "id": "b403390e",
   "metadata": {},
   "outputs": [],
   "source": [
    "pinn = PINN(t, z_hat,z_init,optim)"
   ]
  },
  {
   "cell_type": "code",
   "execution_count": 61,
   "id": "286ce88b",
   "metadata": {},
   "outputs": [
    {
     "name": "stdout",
     "output_type": "stream",
     "text": [
      "initial loss : 4.806628227233887\n",
      "loss for epoch 0 : 4.712865352630615\n",
      "loss for epoch 1000 : 0.020664017647504807\n",
      "loss for epoch 2000 : 0.003295968985185027\n",
      "loss for epoch 3000 : 0.0009915559785440564\n",
      "loss for epoch 4000 : 0.0003054724365938455\n",
      "Final loss : 0.00013912978465668857\n"
     ]
    }
   ],
   "source": [
    "losss =  pinn.train_with_adam(batch_mode=False,epochs=epochs,batch_size=batch,t=t)"
   ]
  },
  {
   "cell_type": "code",
   "execution_count": 75,
   "id": "802719e0",
   "metadata": {},
   "outputs": [
    {
     "name": "stdout",
     "output_type": "stream",
     "text": [
      "initial loss : 122.21931457519531\n",
      "called_mish\n",
      "called_mish\n",
      "called_mish\n",
      "loss for epoch 0 : 176.60443115234375\n",
      "loss for epoch 1000 : 0.011417795903980732\n",
      "loss for epoch 2000 : 0.002602552529424429\n",
      "loss for epoch 3000 : 0.00016832095570862293\n",
      "loss for epoch 4000 : 0.0002042055275524035\n",
      "Final loss : 0.0010590704623609781\n"
     ]
    }
   ],
   "source": [
    "losss =  pinn.train_with_adam(batch_mode=True,epochs=epochs,batch_size=batch,t=t)"
   ]
  },
  {
   "cell_type": "code",
   "execution_count": 76,
   "id": "e2d98eaf",
   "metadata": {},
   "outputs": [
    {
     "data": {
      "text/plain": [
       "[<matplotlib.lines.Line2D at 0x7efdfaff9d90>]"
      ]
     },
     "execution_count": 76,
     "metadata": {},
     "output_type": "execute_result"
    },
    {
     "data": {
      "image/png": "[encoded data removed]",
      "text/plain": [
       "<Figure size 432x288 with 1 Axes>"
      ]
     },
     "metadata": {
      "needs_background": "light"
     },
     "output_type": "display_data"
    }
   ],
   "source": [
    "plt.plot(losss)"
   ]
  },
  {
   "cell_type": "code",
   "execution_count": 77,
   "id": "96469be3",
   "metadata": {},
   "outputs": [
    {
     "data": {
      "text/plain": [
       "<matplotlib.legend.Legend at 0x7efdfa528ee0>"
      ]
     },
     "execution_count": 77,
     "metadata": {},
     "output_type": "execute_result"
    },
    {
     "data": {
      "image/png": "[encoded data removed]",
      "text/plain": [
       "<Figure size 432x288 with 1 Axes>"
      ]
     },
     "metadata": {
      "needs_background": "light"
     },
     "output_type": "display_data"
    }
   ],
   "source": [
    "t= tf.linspace(0., 1., n_samples)[:, tf.newaxis]\n",
    "\n",
    "\n",
    "plt.plot(t, x_true(t) ,label = 'x(t)')\n",
    "plt.plot(t, y_true(t), label = 'y(t)')\n",
    "plt.legend()"
   ]
  },
  {
   "cell_type": "code",
   "execution_count": 78,
   "id": "2ef1c0f1",
   "metadata": {},
   "outputs": [
    {
     "data": {
      "text/plain": [
       "<matplotlib.legend.Legend at 0x7efdfa85dd90>"
      ]
     },
     "execution_count": 78,
     "metadata": {},
     "output_type": "execute_result"
    },
    {
     "data": {
      "image/png": "[encoded data removed]",
      "text/plain": [
       "<Figure size 432x288 with 1 Axes>"
      ]
     },
     "metadata": {
      "needs_background": "light"
     },
     "output_type": "display_data"
    }
   ],
   "source": [
    "#  z = [x,y]\n",
    "plt.plot(t, x_true(t) ,label = 'x(t)')\n",
    "plt.plot(t, z_hat(t)[:,0:1], label = 'NN')\n",
    "plt.legend()"
   ]
  },
  {
   "cell_type": "code",
   "execution_count": 79,
   "id": "bbd1b5f8",
   "metadata": {},
   "outputs": [
    {
     "data": {
      "text/plain": [
       "<matplotlib.legend.Legend at 0x7efdfa615430>"
      ]
     },
     "execution_count": 79,
     "metadata": {},
     "output_type": "execute_result"
    },
    {
     "data": {
      "image/png": "[encoded data removed]",
      "text/plain": [
       "<Figure size 432x288 with 1 Axes>"
      ]
     },
     "metadata": {
      "needs_background": "light"
     },
     "output_type": "display_data"
    }
   ],
   "source": [
    "plt.plot(t, y_true(t) ,label = 'x(t)')\n",
    "plt.plot(t, z_hat(t)[:,1:], label = 'NN')\n",
    "plt.legend()"
   ]
  },
  {
   "cell_type": "code",
   "execution_count": null,
   "id": "74d04b83",
   "metadata": {},
   "outputs": [],
   "source": []
  },
  {
   "cell_type": "code",
   "execution_count": null,
   "id": "e81e28f0",
   "metadata": {},
   "outputs": [],
   "source": []
  },
  {
   "cell_type": "code",
   "execution_count": null,
   "id": "a6211b2c",
   "metadata": {},
   "outputs": [],
   "source": []
  },
  {
   "cell_type": "code",
   "execution_count": null,
   "id": "317fadb5",
   "metadata": {},
   "outputs": [],
   "source": []
  },
  {
   "cell_type": "code",
   "execution_count": null,
   "id": "75100afa",
   "metadata": {},
   "outputs": [],
   "source": []
  },
  {
   "cell_type": "code",
   "execution_count": null,
   "id": "c730f086",
   "metadata": {},
   "outputs": [],
   "source": []
  },
  {
   "cell_type": "code",
   "execution_count": null,
   "id": "0b5849d5",
   "metadata": {},
   "outputs": [],
   "source": []
  },
  {
   "cell_type": "code",
   "execution_count": null,
   "id": "a1503026",
   "metadata": {},
   "outputs": [],
   "source": []
  },
  {
   "cell_type": "code",
   "execution_count": null,
   "id": "9f2f205e",
   "metadata": {},
   "outputs": [],
   "source": []
  },
  {
   "cell_type": "code",
   "execution_count": null,
   "id": "6424e154",
   "metadata": {},
   "outputs": [],
   "source": []
  },
  {
   "cell_type": "code",
   "execution_count": null,
   "id": "77c1117c",
   "metadata": {},
   "outputs": [],
   "source": []
  },
  {
   "cell_type": "code",
   "execution_count": null,
   "id": "e741e513",
   "metadata": {},
   "outputs": [],
   "source": []
  },
  {
   "cell_type": "code",
   "execution_count": null,
   "id": "b82cd510",
   "metadata": {},
   "outputs": [],
   "source": []
  },
  {
   "cell_type": "code",
   "execution_count": null,
   "id": "acdef0bd",
   "metadata": {},
   "outputs": [],
   "source": []
  },
  {
   "cell_type": "code",
   "execution_count": null,
   "id": "f794c9a9",
   "metadata": {},
   "outputs": [],
   "source": []
  },
  {
   "cell_type": "code",
   "execution_count": null,
   "id": "e4514461",
   "metadata": {},
   "outputs": [],
   "source": []
  },
  {
   "cell_type": "code",
   "execution_count": null,
   "id": "2cf4cd2a",
   "metadata": {},
   "outputs": [],
   "source": []
  },
  {
   "cell_type": "code",
   "execution_count": null,
   "id": "23d79e8a",
   "metadata": {},
   "outputs": [],
   "source": []
  },
  {
   "cell_type": "code",
   "execution_count": null,
   "id": "ff7f973e",
   "metadata": {},
   "outputs": [],
   "source": []
  },
  {
   "cell_type": "code",
   "execution_count": null,
   "id": "4fb1d986",
   "metadata": {},
   "outputs": [],
   "source": []
  },
  {
   "cell_type": "code",
   "execution_count": null,
   "id": "53fdfbfa",
   "metadata": {},
   "outputs": [],
   "source": []
  },
  {
   "cell_type": "code",
   "execution_count": null,
   "id": "77254b06",
   "metadata": {},
   "outputs": [],
   "source": []
  },
  {
   "cell_type": "code",
   "execution_count": null,
   "id": "b494e1c7",
   "metadata": {},
   "outputs": [],
   "source": []
  },
  {
   "cell_type": "code",
   "execution_count": null,
   "id": "5e484527",
   "metadata": {},
   "outputs": [],
   "source": []
  },
  {
   "cell_type": "code",
   "execution_count": null,
   "id": "e7d73db6",
   "metadata": {},
   "outputs": [],
   "source": []
  },
  {
   "cell_type": "code",
   "execution_count": null,
   "id": "e0c4882c",
   "metadata": {},
   "outputs": [],
   "source": []
  },
  {
   "cell_type": "code",
   "execution_count": null,
   "id": "d1aee8fd",
   "metadata": {},
   "outputs": [],
   "source": []
  },
  {
   "cell_type": "code",
   "execution_count": null,
   "id": "b065d028",
   "metadata": {},
   "outputs": [],
   "source": []
  },
  {
   "cell_type": "code",
   "execution_count": null,
   "id": "24e07f07",
   "metadata": {},
   "outputs": [],
   "source": []
  },
  {
   "cell_type": "code",
   "execution_count": null,
   "id": "8dbbd49a",
   "metadata": {},
   "outputs": [],
   "source": []
  },
  {
   "cell_type": "code",
   "execution_count": null,
   "id": "5640b7ba",
   "metadata": {},
   "outputs": [],
   "source": []
  },
  {
   "cell_type": "code",
   "execution_count": null,
   "id": "5371c22d",
   "metadata": {},
   "outputs": [],
   "source": []
  },
  {
   "cell_type": "code",
   "execution_count": null,
   "id": "0defd78e",
   "metadata": {},
   "outputs": [],
   "source": []
  },
  {
   "cell_type": "code",
   "execution_count": null,
   "id": "37fd323d",
   "metadata": {},
   "outputs": [],
   "source": []
  },
  {
   "cell_type": "code",
   "execution_count": null,
   "id": "4a00e965",
   "metadata": {},
   "outputs": [],
   "source": []
  },
  {
   "cell_type": "code",
   "execution_count": null,
   "id": "9b27599d",
   "metadata": {},
   "outputs": [],
   "source": []
  },
  {
   "cell_type": "code",
   "execution_count": null,
   "id": "758e28b5",
   "metadata": {},
   "outputs": [],
   "source": []
  },
  {
   "cell_type": "code",
   "execution_count": 22,
   "id": "d855d77f",
   "metadata": {},
   "outputs": [],
   "source": [
    "x_hat = X_approx(num_of_hid_layers = 3, units_per_layer = 5, num_out=1, initialization = 0,activation = 'mish')\n",
    "y_hat = Y_approx(num_of_hid_layers = 3, units_per_layer = 5, num_out=1, initialization = 0,activation = 'mish')"
   ]
  },
  {
   "cell_type": "code",
   "execution_count": 25,
   "id": "4a6a368c",
   "metadata": {},
   "outputs": [
    {
     "name": "stdout",
     "output_type": "stream",
     "text": [
      "x prime [[-0.04691141]\n",
      " [-0.04580088]\n",
      " [-0.04488641]\n",
      " [-0.04389558]\n",
      " [-0.043158  ]\n",
      " [-0.04230914]\n",
      " [-0.04150027]\n",
      " [-0.04096917]\n",
      " [-0.04029977]\n",
      " [-0.03980972]\n",
      " [-0.03932826]\n",
      " [-0.03878361]\n",
      " [-0.03844483]\n",
      " [-0.0380714 ]\n",
      " [-0.03777011]\n",
      " [-0.03750508]\n",
      " [-0.03729995]\n",
      " [-0.03701679]\n",
      " [-0.03681608]\n",
      " [-0.03672321]\n",
      " [-0.03664884]\n",
      " [-0.03652166]\n",
      " [-0.03646646]\n",
      " [-0.03636636]\n",
      " [-0.03637227]\n",
      " [-0.03632809]\n",
      " [-0.03634595]\n",
      " [-0.03639278]\n",
      " [-0.03642997]\n",
      " [-0.036442  ]\n",
      " [-0.03648344]\n",
      " [-0.03647701]\n",
      " [-0.03653761]\n",
      " [-0.03662881]\n",
      " [-0.03669764]\n",
      " [-0.03675947]\n",
      " [-0.03684453]\n",
      " [-0.03696074]\n",
      " [-0.03699692]\n",
      " [-0.03705414]\n",
      " [-0.03713073]\n",
      " [-0.03717476]\n",
      " [-0.03723507]\n",
      " [-0.03731408]\n",
      " [-0.03736116]\n",
      " [-0.03742646]\n",
      " [-0.03746198]\n",
      " [-0.03747474]\n",
      " [-0.03752461]\n",
      " [-0.03753534]\n",
      " [-0.03754866]\n",
      " [-0.03752921]\n",
      " [-0.03754056]\n",
      " [-0.03753002]\n",
      " [-0.03750424]\n",
      " [-0.03748228]\n",
      " [-0.0374103 ]\n",
      " [-0.03739306]\n",
      " [-0.03733627]\n",
      " [-0.03725561]\n",
      " [-0.03719684]\n",
      " [-0.03709857]\n",
      " [-0.03701421]\n",
      " [-0.03691789]\n",
      " [-0.03682933]\n",
      " [-0.03666963]\n",
      " [-0.03655115]\n",
      " [-0.03642002]\n",
      " [-0.03627374]\n",
      " [-0.03609196]\n",
      " [-0.03595727]\n",
      " [-0.0357832 ]\n",
      " [-0.03560645]\n",
      " [-0.03542266]\n",
      " [-0.03524411]\n",
      " [-0.03500322]\n",
      " [-0.03479844]\n",
      " [-0.03459103]\n",
      " [-0.03436468]\n",
      " [-0.03415184]\n",
      " [-0.03391324]\n",
      " [-0.03367183]\n",
      " [-0.03343185]\n",
      " [-0.03317185]\n",
      " [-0.03292319]\n",
      " [-0.03265684]\n",
      " [-0.03237683]\n",
      " [-0.03210758]\n",
      " [-0.03182239]\n",
      " [-0.03153836]\n",
      " [-0.0312509 ]\n",
      " [-0.03096159]\n",
      " [-0.03066252]\n",
      " [-0.03038106]\n",
      " [-0.03006693]\n",
      " [-0.02976796]\n",
      " [-0.02945108]\n",
      " [-0.02912945]\n",
      " [-0.02881433]\n",
      " [-0.02849426]] \n",
      " y_prime [[-0.873345  ]\n",
      " [-0.9014929 ]\n",
      " [-0.92947143]\n",
      " [-0.96069384]\n",
      " [-0.9916118 ]\n",
      " [-1.0249698 ]\n",
      " [-1.059465  ]\n",
      " [-1.0953821 ]\n",
      " [-1.1319846 ]\n",
      " [-1.1703027 ]\n",
      " [-1.2101289 ]\n",
      " [-1.2516001 ]\n",
      " [-1.2939574 ]\n",
      " [-1.3385301 ]\n",
      " [-1.3847044 ]\n",
      " [-1.4308811 ]\n",
      " [-1.4783027 ]\n",
      " [-1.5274078 ]\n",
      " [-1.5779964 ]\n",
      " [-1.6279789 ]\n",
      " [-1.6797978 ]\n",
      " [-1.7324792 ]\n",
      " [-1.7862759 ]\n",
      " [-1.8400075 ]\n",
      " [-1.8940868 ]\n",
      " [-1.9495919 ]\n",
      " [-2.0029774 ]\n",
      " [-2.0575037 ]\n",
      " [-2.1125245 ]\n",
      " [-2.165781  ]\n",
      " [-2.2196825 ]\n",
      " [-2.2724025 ]\n",
      " [-2.324757  ]\n",
      " [-2.3757966 ]\n",
      " [-2.4240928 ]\n",
      " [-2.4722633 ]\n",
      " [-2.518731  ]\n",
      " [-2.5631738 ]\n",
      " [-2.6065404 ]\n",
      " [-2.6479537 ]\n",
      " [-2.6862097 ]\n",
      " [-2.721566  ]\n",
      " [-2.7561436 ]\n",
      " [-2.7883463 ]\n",
      " [-2.8172467 ]\n",
      " [-2.8437026 ]\n",
      " [-2.8658965 ]\n",
      " [-2.8882837 ]\n",
      " [-2.9068599 ]\n",
      " [-2.9237094 ]\n",
      " [-2.9352014 ]\n",
      " [-2.9454107 ]\n",
      " [-2.9528065 ]\n",
      " [-2.9577157 ]\n",
      " [-2.9601107 ]\n",
      " [-2.959089  ]\n",
      " [-2.9547155 ]\n",
      " [-2.9496148 ]\n",
      " [-2.941869  ]\n",
      " [-2.9320168 ]\n",
      " [-2.919036  ]\n",
      " [-2.9047735 ]\n",
      " [-2.8872056 ]\n",
      " [-2.8676007 ]\n",
      " [-2.848034  ]\n",
      " [-2.826697  ]\n",
      " [-2.8003073 ]\n",
      " [-2.7773814 ]\n",
      " [-2.7497401 ]\n",
      " [-2.721178  ]\n",
      " [-2.6940136 ]\n",
      " [-2.6623552 ]\n",
      " [-2.6312222 ]\n",
      " [-2.6001077 ]\n",
      " [-2.5671341 ]\n",
      " [-2.534605  ]\n",
      " [-2.4994519 ]\n",
      " [-2.466247  ]\n",
      " [-2.4314673 ]\n",
      " [-2.3994417 ]\n",
      " [-2.364571  ]\n",
      " [-2.3287575 ]\n",
      " [-2.2952769 ]\n",
      " [-2.2607865 ]\n",
      " [-2.2259896 ]\n",
      " [-2.1914146 ]\n",
      " [-2.1567507 ]\n",
      " [-2.12151   ]\n",
      " [-2.0887136 ]\n",
      " [-2.0561304 ]\n",
      " [-2.0239882 ]\n",
      " [-1.9923265 ]\n",
      " [-1.9645844 ]\n",
      " [-1.9305606 ]\n",
      " [-1.9007996 ]\n",
      " [-1.871942  ]\n",
      " [-1.8412747 ]\n",
      " [-1.8134251 ]\n",
      " [-1.7868681 ]\n",
      " [-1.7600766 ]]\n"
     ]
    }
   ],
   "source": [
    "with tf.GradientTape(persistent=True) as tape:\n",
    "    tape.watch(t) \n",
    "    x = x_hat(t)\n",
    "    y = y_hat(t)\n",
    "x_prime = tape.gradient(x,t)    \n",
    "y_prime = tape.gradient(y,t)  \n",
    "del tape\n",
    "print(f'x prime {x_prime} \\n y_prime {y_prime}')"
   ]
  },
  {
   "cell_type": "code",
   "execution_count": 29,
   "id": "16060ac9",
   "metadata": {},
   "outputs": [],
   "source": [
    "class PINN:\n",
    "    def __init__(self, t,model_x, model_y, x_init, y_init,optim):\n",
    "        self.model_x = model_x\n",
    "        self.model_y = model_y\n",
    "        \n",
    "        self.t = t\n",
    "        self.x_init = x_init\n",
    "        self.y_init = y_init\n",
    "        \n",
    "        self.optim = optim\n",
    "\n",
    "        \n",
    "    def get_derivatives(self,t):\n",
    "        '''\n",
    "        Calculate the derivatives and function that correspond to the ode\n",
    "\n",
    "        input:\n",
    "                t : independent variant\n",
    "\n",
    "        output:\n",
    "                value and corresponding derivatives\n",
    "                \n",
    "        \n",
    "\n",
    "        '''\n",
    "        with tf.GradientTape(persistent=True) as tape:\n",
    "            tape.watch(t) \n",
    "            x = self.model_x(t)\n",
    "            y = self.model_y(t)\n",
    "        x_prime = tape.gradient(x,t)    \n",
    "        y_prime = tape.gradient(y,t)   \n",
    "        del tape\n",
    "        \n",
    "        return x,y,x_prime,y_prime   \n",
    "        \n",
    "    def ode_ic(self,t):\n",
    "        x_hat,y_hat,x_prime,y_prime = self.get_derivatives(self.t)\n",
    "       \n",
    "        u1 =  x_prime + x_hat - 6.0*y_hat\n",
    "        u2 =  y_prime - x_hat + 2.0*y_hat\n",
    "#         Initial conditions\n",
    "        x0,y0,x_prime0,y_prime0 = self.get_derivatives(tf.zeros_like(self.t))\n",
    "#        \n",
    "        u3 =  x0-self.x_init\n",
    "        u4 =  y0 - self.y_init\n",
    "\n",
    "        return u1,u2,u3,u4\n",
    "        \n",
    "    def loss(self,t):\n",
    "        u1,u2,u3,u4 = self.ode_ic(t)\n",
    "        mse_x  = tf.reduce_mean(tf.square(u1))\n",
    "        mse_y  = tf.reduce_mean(tf.square(u2))\n",
    "        mse_x0 = tf.reduce_mean(tf.square(u3))\n",
    "        mse_y0 = tf.reduce_mean(tf.square(u4))\n",
    "        return mse_x+mse_y+mse_x0+mse_y0\n",
    "    \n",
    "    \n",
    "    def train_with_adam(self,batch_mode,epochs,batch_size,t):\n",
    "#         which parameters???\n",
    "        @tf.function\n",
    "        def train_and_update(t):\n",
    "    #         print(f'params : \\n {self.model.trainable_variables}')\n",
    "            with tf.GradientTape() as tape:\n",
    "                tape.watch(model.trainable_variables)\n",
    "                los  = self.loss(t)\n",
    "            dlossdpa = tape.gradient(los,self.model.trainable_variables) \n",
    "            self.optim.apply_gradients(zip(dlossdpa, self.model.trainable_variables))\n",
    "            return los\n",
    "        \n",
    "        def train_and_update_batch(epochs, batch_size,t):\n",
    "            loss_batch = []\n",
    "            steps_per_epoch = int(t.shape[0]/batch_size)\n",
    "            \n",
    "            initial_loss = train_and_update(t).numpy()\n",
    "            print(f'initial loss : {initial_loss}')\n",
    "            \n",
    "            for epoch in range(epochs):\n",
    "#                 print(f'Epoch {epoch} ', end = \".\")\n",
    "                for i in range(steps_per_epoch):\n",
    "                    t_batch = t[i*batch_size:batch_size*(i+1)]\n",
    "                    loss = train_and_update(t_batch).numpy()\n",
    "                    loss_batch.append(loss)\n",
    "                    \n",
    "#                     if i%(steps_per_epoch/10)==0:\n",
    "#                         print(end=\".\")\n",
    "                        \n",
    "                if epoch%1000==0:   \n",
    "                    print(f'loss for epoch {epoch} : {loss}')  \n",
    "            print(f'Final loss : {loss}')    \n",
    "            return loss_batch      \n",
    "                        \n",
    "                        \n",
    "        def train_whole_set(t):                \n",
    "            losses =[]\n",
    "            initial_loss = train_and_update(t).numpy()\n",
    "            print(f'initial loss : {initial_loss}')\n",
    "            losses.append(initial_loss)\n",
    "\n",
    "            for epoch in range(epochs):\n",
    "            #     print(f'epoch {epoch}')\n",
    "            #     print('epoch {}'.format(epoch),end = \".\")\n",
    "                loss = train_and_update(t).numpy()\n",
    "                losses.append(loss)\n",
    "            #     print(f'loss : {loss}')\n",
    "\n",
    "                if epoch%1000==0:\n",
    "                    print(f'loss for epoch {epoch} : {loss}') \n",
    "            #         print(end = \".\")\n",
    "            print(f'Final loss : {loss}') \n",
    "            return losses\n",
    "        \n",
    "        if batch_mode == True:\n",
    "            losses = train_and_update_batch(epochs, batch_size,t)\n",
    "        else:\n",
    "            losses = train_whole_set(t)\n",
    "            \n",
    "        return losses   "
   ]
  },
  {
   "cell_type": "code",
   "execution_count": 34,
   "id": "6998f69d",
   "metadata": {},
   "outputs": [],
   "source": [
    "optim = tf.keras.optimizers.Adam()\n",
    "epochs = 5000\n",
    "batch = 10\n",
    "x_int = tf.constant(2.0, dtype = tf.float32)\n",
    "y_int = tf.constant(0.0, dtype = tf.float32)\n",
    "\n",
    "\n",
    "pinn = PINN(t,x_hat, y_hat, x_int, y_int,optim)"
   ]
  },
  {
   "cell_type": "code",
   "execution_count": 35,
   "id": "8bbafb95",
   "metadata": {},
   "outputs": [
    {
     "ename": "NameError",
     "evalue": "in user code:\n\n    File \"/tmp/ipykernel_42571/1049554588.py\", line 64, in train_and_update  *\n        tape.watch(model.trainable_variables)\n\n    NameError: name 'model' is not defined\n",
     "output_type": "error",
     "traceback": [
      "\u001b[0;31m---------------------------------------------------------------------------\u001b[0m",
      "\u001b[0;31mNameError\u001b[0m                                 Traceback (most recent call last)",
      "\u001b[0;32m/tmp/ipykernel_42571/2907977790.py\u001b[0m in \u001b[0;36m<module>\u001b[0;34m\u001b[0m\n\u001b[0;32m----> 1\u001b[0;31m \u001b[0mloss_list\u001b[0m \u001b[0;34m=\u001b[0m \u001b[0mpinn\u001b[0m\u001b[0;34m.\u001b[0m\u001b[0mtrain_with_adam\u001b[0m\u001b[0;34m(\u001b[0m\u001b[0mbatch_mode\u001b[0m\u001b[0;34m=\u001b[0m\u001b[0;32mFalse\u001b[0m\u001b[0;34m,\u001b[0m\u001b[0mepochs\u001b[0m\u001b[0;34m=\u001b[0m\u001b[0mepochs\u001b[0m\u001b[0;34m,\u001b[0m\u001b[0mbatch_size\u001b[0m\u001b[0;34m=\u001b[0m\u001b[0mbatch\u001b[0m\u001b[0;34m,\u001b[0m\u001b[0mt\u001b[0m\u001b[0;34m=\u001b[0m\u001b[0mt\u001b[0m\u001b[0;34m)\u001b[0m\u001b[0;34m\u001b[0m\u001b[0;34m\u001b[0m\u001b[0m\n\u001b[0m",
      "\u001b[0;32m/tmp/ipykernel_42571/1049554588.py\u001b[0m in \u001b[0;36mtrain_with_adam\u001b[0;34m(self, batch_mode, epochs, batch_size, t)\u001b[0m\n\u001b[1;32m    113\u001b[0m             \u001b[0mlosses\u001b[0m \u001b[0;34m=\u001b[0m \u001b[0mtrain_and_update_batch\u001b[0m\u001b[0;34m(\u001b[0m\u001b[0mepochs\u001b[0m\u001b[0;34m,\u001b[0m \u001b[0mbatch_size\u001b[0m\u001b[0;34m,\u001b[0m\u001b[0mt\u001b[0m\u001b[0;34m)\u001b[0m\u001b[0;34m\u001b[0m\u001b[0;34m\u001b[0m\u001b[0m\n\u001b[1;32m    114\u001b[0m         \u001b[0;32melse\u001b[0m\u001b[0;34m:\u001b[0m\u001b[0;34m\u001b[0m\u001b[0;34m\u001b[0m\u001b[0m\n\u001b[0;32m--> 115\u001b[0;31m             \u001b[0mlosses\u001b[0m \u001b[0;34m=\u001b[0m \u001b[0mtrain_whole_set\u001b[0m\u001b[0;34m(\u001b[0m\u001b[0mt\u001b[0m\u001b[0;34m)\u001b[0m\u001b[0;34m\u001b[0m\u001b[0;34m\u001b[0m\u001b[0m\n\u001b[0m\u001b[1;32m    116\u001b[0m \u001b[0;34m\u001b[0m\u001b[0m\n\u001b[1;32m    117\u001b[0m         \u001b[0;32mreturn\u001b[0m \u001b[0mlosses\u001b[0m\u001b[0;34m\u001b[0m\u001b[0;34m\u001b[0m\u001b[0m\n",
      "\u001b[0;32m/tmp/ipykernel_42571/1049554588.py\u001b[0m in \u001b[0;36mtrain_whole_set\u001b[0;34m(t)\u001b[0m\n\u001b[1;32m     93\u001b[0m         \u001b[0;32mdef\u001b[0m \u001b[0mtrain_whole_set\u001b[0m\u001b[0;34m(\u001b[0m\u001b[0mt\u001b[0m\u001b[0;34m)\u001b[0m\u001b[0;34m:\u001b[0m\u001b[0;34m\u001b[0m\u001b[0;34m\u001b[0m\u001b[0m\n\u001b[1;32m     94\u001b[0m             \u001b[0mlosses\u001b[0m \u001b[0;34m=\u001b[0m\u001b[0;34m[\u001b[0m\u001b[0;34m]\u001b[0m\u001b[0;34m\u001b[0m\u001b[0;34m\u001b[0m\u001b[0m\n\u001b[0;32m---> 95\u001b[0;31m             \u001b[0minitial_loss\u001b[0m \u001b[0;34m=\u001b[0m \u001b[0mtrain_and_update\u001b[0m\u001b[0;34m(\u001b[0m\u001b[0mt\u001b[0m\u001b[0;34m)\u001b[0m\u001b[0;34m.\u001b[0m\u001b[0mnumpy\u001b[0m\u001b[0;34m(\u001b[0m\u001b[0;34m)\u001b[0m\u001b[0;34m\u001b[0m\u001b[0;34m\u001b[0m\u001b[0m\n\u001b[0m\u001b[1;32m     96\u001b[0m             \u001b[0mprint\u001b[0m\u001b[0;34m(\u001b[0m\u001b[0;34mf'initial loss : {initial_loss}'\u001b[0m\u001b[0;34m)\u001b[0m\u001b[0;34m\u001b[0m\u001b[0;34m\u001b[0m\u001b[0m\n\u001b[1;32m     97\u001b[0m             \u001b[0mlosses\u001b[0m\u001b[0;34m.\u001b[0m\u001b[0mappend\u001b[0m\u001b[0;34m(\u001b[0m\u001b[0minitial_loss\u001b[0m\u001b[0;34m)\u001b[0m\u001b[0;34m\u001b[0m\u001b[0;34m\u001b[0m\u001b[0m\n",
      "\u001b[0;32m~/.local/lib/python3.8/site-packages/tensorflow/python/util/traceback_utils.py\u001b[0m in \u001b[0;36merror_handler\u001b[0;34m(*args, **kwargs)\u001b[0m\n\u001b[1;32m    151\u001b[0m     \u001b[0;32mexcept\u001b[0m \u001b[0mException\u001b[0m \u001b[0;32mas\u001b[0m \u001b[0me\u001b[0m\u001b[0;34m:\u001b[0m\u001b[0;34m\u001b[0m\u001b[0;34m\u001b[0m\u001b[0m\n\u001b[1;32m    152\u001b[0m       \u001b[0mfiltered_tb\u001b[0m \u001b[0;34m=\u001b[0m \u001b[0m_process_traceback_frames\u001b[0m\u001b[0;34m(\u001b[0m\u001b[0me\u001b[0m\u001b[0;34m.\u001b[0m\u001b[0m__traceback__\u001b[0m\u001b[0;34m)\u001b[0m\u001b[0;34m\u001b[0m\u001b[0;34m\u001b[0m\u001b[0m\n\u001b[0;32m--> 153\u001b[0;31m       \u001b[0;32mraise\u001b[0m \u001b[0me\u001b[0m\u001b[0;34m.\u001b[0m\u001b[0mwith_traceback\u001b[0m\u001b[0;34m(\u001b[0m\u001b[0mfiltered_tb\u001b[0m\u001b[0;34m)\u001b[0m \u001b[0;32mfrom\u001b[0m \u001b[0;32mNone\u001b[0m\u001b[0;34m\u001b[0m\u001b[0;34m\u001b[0m\u001b[0m\n\u001b[0m\u001b[1;32m    154\u001b[0m     \u001b[0;32mfinally\u001b[0m\u001b[0;34m:\u001b[0m\u001b[0;34m\u001b[0m\u001b[0;34m\u001b[0m\u001b[0m\n\u001b[1;32m    155\u001b[0m       \u001b[0;32mdel\u001b[0m \u001b[0mfiltered_tb\u001b[0m\u001b[0;34m\u001b[0m\u001b[0;34m\u001b[0m\u001b[0m\n",
      "\u001b[0;32m/tmp/__autograph_generated_file32quhzrw.py\u001b[0m in \u001b[0;36mtf__train_and_update\u001b[0;34m(t)\u001b[0m\n\u001b[1;32m     10\u001b[0m                 \u001b[0mretval_\u001b[0m \u001b[0;34m=\u001b[0m \u001b[0mag__\u001b[0m\u001b[0;34m.\u001b[0m\u001b[0mUndefinedReturnValue\u001b[0m\u001b[0;34m(\u001b[0m\u001b[0;34m)\u001b[0m\u001b[0;34m\u001b[0m\u001b[0;34m\u001b[0m\u001b[0m\n\u001b[1;32m     11\u001b[0m                 \u001b[0;32mwith\u001b[0m \u001b[0mag__\u001b[0m\u001b[0;34m.\u001b[0m\u001b[0mld\u001b[0m\u001b[0;34m(\u001b[0m\u001b[0mtf\u001b[0m\u001b[0;34m)\u001b[0m\u001b[0;34m.\u001b[0m\u001b[0mGradientTape\u001b[0m\u001b[0;34m(\u001b[0m\u001b[0;34m)\u001b[0m \u001b[0;32mas\u001b[0m \u001b[0mtape\u001b[0m\u001b[0;34m:\u001b[0m\u001b[0;34m\u001b[0m\u001b[0;34m\u001b[0m\u001b[0m\n\u001b[0;32m---> 12\u001b[0;31m                     \u001b[0mag__\u001b[0m\u001b[0;34m.\u001b[0m\u001b[0mconverted_call\u001b[0m\u001b[0;34m(\u001b[0m\u001b[0mag__\u001b[0m\u001b[0;34m.\u001b[0m\u001b[0mld\u001b[0m\u001b[0;34m(\u001b[0m\u001b[0mtape\u001b[0m\u001b[0;34m)\u001b[0m\u001b[0;34m.\u001b[0m\u001b[0mwatch\u001b[0m\u001b[0;34m,\u001b[0m \u001b[0;34m(\u001b[0m\u001b[0mag__\u001b[0m\u001b[0;34m.\u001b[0m\u001b[0mld\u001b[0m\u001b[0;34m(\u001b[0m\u001b[0mmodel\u001b[0m\u001b[0;34m)\u001b[0m\u001b[0;34m.\u001b[0m\u001b[0mtrainable_variables\u001b[0m\u001b[0;34m,\u001b[0m\u001b[0;34m)\u001b[0m\u001b[0;34m,\u001b[0m \u001b[0;32mNone\u001b[0m\u001b[0;34m,\u001b[0m \u001b[0mfscope\u001b[0m\u001b[0;34m)\u001b[0m\u001b[0;34m\u001b[0m\u001b[0;34m\u001b[0m\u001b[0m\n\u001b[0m\u001b[1;32m     13\u001b[0m                     \u001b[0mlos\u001b[0m \u001b[0;34m=\u001b[0m \u001b[0mag__\u001b[0m\u001b[0;34m.\u001b[0m\u001b[0mconverted_call\u001b[0m\u001b[0;34m(\u001b[0m\u001b[0mag__\u001b[0m\u001b[0;34m.\u001b[0m\u001b[0mld\u001b[0m\u001b[0;34m(\u001b[0m\u001b[0mself\u001b[0m\u001b[0;34m)\u001b[0m\u001b[0;34m.\u001b[0m\u001b[0mloss\u001b[0m\u001b[0;34m,\u001b[0m \u001b[0;34m(\u001b[0m\u001b[0mag__\u001b[0m\u001b[0;34m.\u001b[0m\u001b[0mld\u001b[0m\u001b[0;34m(\u001b[0m\u001b[0mt\u001b[0m\u001b[0;34m)\u001b[0m\u001b[0;34m,\u001b[0m\u001b[0;34m)\u001b[0m\u001b[0;34m,\u001b[0m \u001b[0;32mNone\u001b[0m\u001b[0;34m,\u001b[0m \u001b[0mfscope\u001b[0m\u001b[0;34m)\u001b[0m\u001b[0;34m\u001b[0m\u001b[0;34m\u001b[0m\u001b[0m\n\u001b[1;32m     14\u001b[0m                 \u001b[0mdlossdpa\u001b[0m \u001b[0;34m=\u001b[0m \u001b[0mag__\u001b[0m\u001b[0;34m.\u001b[0m\u001b[0mconverted_call\u001b[0m\u001b[0;34m(\u001b[0m\u001b[0mag__\u001b[0m\u001b[0;34m.\u001b[0m\u001b[0mld\u001b[0m\u001b[0;34m(\u001b[0m\u001b[0mtape\u001b[0m\u001b[0;34m)\u001b[0m\u001b[0;34m.\u001b[0m\u001b[0mgradient\u001b[0m\u001b[0;34m,\u001b[0m \u001b[0;34m(\u001b[0m\u001b[0mag__\u001b[0m\u001b[0;34m.\u001b[0m\u001b[0mld\u001b[0m\u001b[0;34m(\u001b[0m\u001b[0mlos\u001b[0m\u001b[0;34m)\u001b[0m\u001b[0;34m,\u001b[0m \u001b[0mag__\u001b[0m\u001b[0;34m.\u001b[0m\u001b[0mld\u001b[0m\u001b[0;34m(\u001b[0m\u001b[0mself\u001b[0m\u001b[0;34m)\u001b[0m\u001b[0;34m.\u001b[0m\u001b[0mmodel\u001b[0m\u001b[0;34m.\u001b[0m\u001b[0mtrainable_variables\u001b[0m\u001b[0;34m)\u001b[0m\u001b[0;34m,\u001b[0m \u001b[0;32mNone\u001b[0m\u001b[0;34m,\u001b[0m \u001b[0mfscope\u001b[0m\u001b[0;34m)\u001b[0m\u001b[0;34m\u001b[0m\u001b[0;34m\u001b[0m\u001b[0m\n",
      "\u001b[0;31mNameError\u001b[0m: in user code:\n\n    File \"/tmp/ipykernel_42571/1049554588.py\", line 64, in train_and_update  *\n        tape.watch(model.trainable_variables)\n\n    NameError: name 'model' is not defined\n"
     ]
    }
   ],
   "source": [
    "loss_list = pinn.train_with_adam(batch_mode=False,epochs=epochs,batch_size=batch,t=t)"
   ]
  },
  {
   "cell_type": "code",
   "execution_count": null,
   "id": "ea40ed3f",
   "metadata": {},
   "outputs": [],
   "source": []
  }
 ],
 "metadata": {
  "kernelspec": {
   "display_name": "Python 3 (ipykernel)",
   "language": "python",
   "name": "python3"
  },
  "language_info": {
   "codemirror_mode": {
    "name": "ipython",
    "version": 3
   },
   "file_extension": ".py",
   "mimetype": "text/x-python",
   "name": "python",
   "nbconvert_exporter": "python",
   "pygments_lexer": "ipython3",
   "version": "3.8.13"
  }
 },
 "nbformat": 4,
 "nbformat_minor": 5
}
