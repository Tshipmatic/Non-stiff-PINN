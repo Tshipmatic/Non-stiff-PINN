{
 "cells": [
  {
   "cell_type": "code",
   "execution_count": 34,
   "id": "68af8d49",
   "metadata": {},
   "outputs": [],
   "source": [
    "# https://kitchingroup.cheme.cmu.edu/blog/2018/11/02/Solving-coupled-ODEs-with-a-neural-network-and-autograd/"
   ]
  },
  {
   "cell_type": "code",
   "execution_count": 67,
   "id": "579185db",
   "metadata": {},
   "outputs": [],
   "source": [
    "from scipy.integrate import solve_ivp, odeint, complex_ode,ode\n",
    "import numpy as np\n",
    "%matplotlib inline\n",
    "import matplotlib.pyplot as plt"
   ]
  },
  {
   "cell_type": "code",
   "execution_count": 4,
   "id": "3038d0e6",
   "metadata": {},
   "outputs": [],
   "source": [
    "def rhs(t,z):\n",
    "    x,y = z[0],z[1]\n",
    "    dxdt = -y\n",
    "    dydt = x\n",
    "    return [dxdt, dydt]"
   ]
  },
  {
   "cell_type": "code",
   "execution_count": 16,
   "id": "c8cb58c7",
   "metadata": {},
   "outputs": [
    {
     "data": {
      "text/plain": [
       "array([1., 0.])"
      ]
     },
     "execution_count": 16,
     "metadata": {},
     "output_type": "execute_result"
    }
   ],
   "source": [
    "t = np.linspace(0,1,100)\n",
    "x0 = 1.\n",
    "y0 = 0.\n",
    "z0 = np.array([x0,y0])\n",
    "z0"
   ]
  },
  {
   "cell_type": "code",
   "execution_count": 17,
   "id": "84d670d5",
   "metadata": {},
   "outputs": [],
   "source": [
    "solution_x_y = solve_ivp(rhs,t_span=t,y0=z0 )"
   ]
  },
  {
   "cell_type": "code",
   "execution_count": 27,
   "id": "314a0de6",
   "metadata": {},
   "outputs": [],
   "source": [
    "solution_x_y_odeint = odeint(func=rhs,y0=z0,t=t,tfirst=True)"
   ]
  },
  {
   "cell_type": "code",
   "execution_count": 18,
   "id": "71138df4",
   "metadata": {
    "scrolled": true
   },
   "outputs": [
    {
     "data": {
      "text/plain": [
       "  message: 'The solver successfully reached the end of the integration interval.'\n",
       "     nfev: 14\n",
       "     njev: 0\n",
       "      nlu: 0\n",
       "      sol: None\n",
       "   status: 0\n",
       "  success: True\n",
       "        t: array([0.        , 0.000999  , 0.01010101])\n",
       " t_events: None\n",
       "        y: array([[1.00000000e+00, 9.99999501e-01, 9.99948985e-01],\n",
       "       [0.00000000e+00, 9.99000833e-04, 1.01008383e-02]])\n",
       " y_events: None"
      ]
     },
     "execution_count": 18,
     "metadata": {},
     "output_type": "execute_result"
    }
   ],
   "source": [
    "solution_x_y"
   ]
  },
  {
   "cell_type": "code",
   "execution_count": 29,
   "id": "7a6f9fae",
   "metadata": {},
   "outputs": [],
   "source": [
    "x_odeint = solution_x_y_odeint[:,0]\n",
    "y_odeint = solution_x_y_odeint[:,1]"
   ]
  },
  {
   "cell_type": "code",
   "execution_count": 31,
   "id": "e8cdb043",
   "metadata": {},
   "outputs": [
    {
     "data": {
      "text/plain": [
       "Text(0, 0.5, 'Solution')"
      ]
     },
     "execution_count": 31,
     "metadata": {},
     "output_type": "execute_result"
    },
    {
     "data": {
      "image/png": "[encoded data removed]",
      "text/plain": [
       "<Figure size 432x288 with 1 Axes>"
      ]
     },
     "metadata": {
      "needs_background": "light"
     },
     "output_type": "display_data"
    }
   ],
   "source": [
    "plt.plot(t,x_odeint,label = 'model')\n",
    "plt.plot(t,np.cos(t),label = 'theory')\n",
    "plt.legend()\n",
    "plt.xlabel('Time')\n",
    "plt.ylabel('Solution')"
   ]
  },
  {
   "cell_type": "code",
   "execution_count": 32,
   "id": "b8c1fcea",
   "metadata": {},
   "outputs": [
    {
     "data": {
      "text/plain": [
       "Text(0, 0.5, 'Solution')"
      ]
     },
     "execution_count": 32,
     "metadata": {},
     "output_type": "execute_result"
    },
    {
     "data": {
      "image/png": "[encoded data removed]",
      "text/plain": [
       "<Figure size 432x288 with 1 Axes>"
      ]
     },
     "metadata": {
      "needs_background": "light"
     },
     "output_type": "display_data"
    }
   ],
   "source": [
    "plt.plot(t,y_odeint,label = 'model')\n",
    "plt.plot(t,np.sin(t),label = 'theory')\n",
    "plt.legend()\n",
    "plt.xlabel('Time')\n",
    "plt.ylabel('Solution')"
   ]
  },
  {
   "cell_type": "code",
   "execution_count": 24,
   "id": "1dda3238",
   "metadata": {},
   "outputs": [
    {
     "data": {
      "text/plain": [
       "array([[1.00000000e+00, 9.99999501e-01, 9.99948985e-01],\n",
       "       [0.00000000e+00, 9.99000833e-04, 1.01008383e-02]])"
      ]
     },
     "execution_count": 24,
     "metadata": {},
     "output_type": "execute_result"
    }
   ],
   "source": [
    "solution_x_y.y"
   ]
  },
  {
   "cell_type": "code",
   "execution_count": 52,
   "id": "ffd6f3a8",
   "metadata": {},
   "outputs": [],
   "source": [
    "# Complex\n",
    "def rhs_complex(t,z):\n",
    "    dzdt = z*1.j\n",
    "    return dzdt"
   ]
  },
  {
   "cell_type": "code",
   "execution_count": 137,
   "id": "da812ef3",
   "metadata": {},
   "outputs": [
    {
     "data": {
      "text/plain": [
       "[1.0, 0j]"
      ]
     },
     "execution_count": 137,
     "metadata": {},
     "output_type": "execute_result"
    }
   ],
   "source": [
    "# z0 = [y0*1.j,x0] initial\n",
    "z0 = [x0,y0*1.j]\n",
    "# z0 = x0+y0*1.j Doesn't work\n",
    "z0"
   ]
  },
  {
   "cell_type": "code",
   "execution_count": 138,
   "id": "7d340032",
   "metadata": {},
   "outputs": [
    {
     "name": "stdout",
     "output_type": "stream",
     "text": [
      "0.0 [0.5148197+0.85730096j 0.       +0.j        ]\n"
     ]
    },
    {
     "data": {
      "text/plain": [
       "<matplotlib.legend.Legend at 0x7ff13a155640>"
      ]
     },
     "execution_count": 138,
     "metadata": {},
     "output_type": "execute_result"
    },
    {
     "data": {
      "image/png": "[encoded data removed]",
      "text/plain": [
       "<Figure size 432x288 with 1 Axes>"
      ]
     },
     "metadata": {
      "needs_background": "light"
     },
     "output_type": "display_data"
    }
   ],
   "source": [
    "rn = complex_ode(rhs_complex).set_initial_value(z0, 0.0)\n",
    "t1 = 1.02\n",
    "dt = 0.01\n",
    "x_list_cm = []\n",
    "y_list_cm = []\n",
    "t_list_cm = []\n",
    "while rn.successful() and rn.t < t1:\n",
    "    print(rn.t,rn.integrate(r.t+dt))\n",
    "    x_list_cm.append(rn.integrate(r.t+dt).real[1])\n",
    "    y_list_cm.append(rn.integrate(r.t+dt).imag[1])\n",
    "    t_list_cm.append(rn.t)\n",
    "    \n",
    "plt.plot(t_list,x_list, label = 'ode_x')\n",
    "plt.plot(t_list_cm,x_list_cm, label = 'complex_ode_x')\n",
    "plt.legend()"
   ]
  },
  {
   "cell_type": "code",
   "execution_count": 139,
   "id": "2b9bc497",
   "metadata": {},
   "outputs": [
    {
     "data": {
      "text/plain": [
       "<matplotlib.legend.Legend at 0x7ff13a09f9d0>"
      ]
     },
     "execution_count": 139,
     "metadata": {},
     "output_type": "execute_result"
    },
    {
     "data": {
      "image/png": "[encoded data removed]",
      "text/plain": [
       "<Figure size 432x288 with 1 Axes>"
      ]
     },
     "metadata": {
      "needs_background": "light"
     },
     "output_type": "display_data"
    }
   ],
   "source": [
    "plt.plot(t_list,y_list, label = 'ode_y')\n",
    "plt.plot(t_list_cm,y_list_cm, label = 'complex_ode_y')\n",
    "plt.legend()"
   ]
  },
  {
   "cell_type": "code",
   "execution_count": 77,
   "id": "ef5ef596",
   "metadata": {},
   "outputs": [
    {
     "data": {
      "text/plain": [
       "0.02"
      ]
     },
     "execution_count": 77,
     "metadata": {},
     "output_type": "execute_result"
    }
   ],
   "source": [
    "1/50"
   ]
  },
  {
   "cell_type": "code",
   "execution_count": 121,
   "id": "460f6198",
   "metadata": {},
   "outputs": [
    {
     "name": "stdout",
     "output_type": "stream",
     "text": [
      "0.0 [0.        +0.j         0.99994862+0.00999981j]\n",
      "0.03 [0.        +0.j        0.99919865+0.0399887j]\n",
      "0.060000000000000005 [0.        +0.j         0.99754958+0.06994192j]\n",
      "0.09 [0.        +0.j         0.99500288+0.09983248j]\n",
      "0.11999999999999998 [0.        +0.j         0.99156088+0.12963325j]\n",
      "0.15 [0.        +0.j         0.98722661+0.15931738j]\n",
      "0.18000000000000002 [0.        +0.j         0.98200399+0.18885813j]\n",
      "0.21000000000000005 [0.       +0.j         0.9758976+0.21822893j]\n",
      "0.24000000000000007 [0.        +0.j         0.96891318+0.24740339j]\n",
      "0.2700000000000001 [0.        +0.j         0.96105718+0.27635533j]\n",
      "0.3000000000000001 [0.        +0.j         0.95233616+0.30505859j]\n",
      "0.3300000000000001 [0.        +0.j         0.94275854+0.33348749j]\n",
      "0.36000000000000015 [0.        +0.j         0.93233188+0.36161615j]\n",
      "0.3900000000000002 [0.        +0.j         0.92106634+0.38941953j]\n",
      "0.4200000000000002 [0.       +0.j        0.9089714+0.4168723j]\n",
      "0.45000000000000023 [0.        +0.j         0.89605831+0.44394999j]\n",
      "0.48000000000000026 [0.        +0.j         0.88233864+0.47062807j]\n",
      "0.5100000000000002 [0.        +0.j         0.86782478+0.49688261j]\n",
      "0.5400000000000003 [0.       +0.j         0.8525299+0.52268997j]\n",
      "0.5700000000000003 [0.        +0.j         0.83646782+0.54802691j]\n",
      "0.6000000000000003 [0.        +0.j         0.81965295+0.57287069j]\n",
      "0.6300000000000003 [0.        +0.j         0.80210052+0.59719889j]\n",
      "0.6600000000000004 [0.        +0.j         0.78382625+0.62098971j]\n",
      "0.6900000000000004 [0.        +0.j         0.76484664+0.64422163j]\n",
      "0.7200000000000004 [0.        +0.j         0.74517871+0.66687385j]\n",
      "0.7500000000000004 [0.        +0.j         0.72484018+0.68892588j]\n",
      "0.7800000000000005 [0.        +0.j         0.70384931+0.71035796j]\n",
      "0.8100000000000005 [0.        +0.j         0.68222504+0.73115074j]\n",
      "0.8400000000000005 [0.        +0.j        0.65998672+0.7512856j]\n",
      "0.8700000000000006 [0.        +0.j         0.63715434+0.77074445j]\n",
      "0.9000000000000006 [0.        +0.j         0.61374852+0.78950969j]\n",
      "0.9300000000000006 [0.        +0.j        0.58979046+0.8075643j]\n",
      "0.9600000000000006 [0.        +0.j         0.56530127+0.82489247j]\n",
      "0.9900000000000007 [0.       +0.j        0.5403033+0.8414783j]\n"
     ]
    },
    {
     "data": {
      "text/plain": [
       "array([0.        +0.j        , 0.52336648+0.85211565j])"
      ]
     },
     "execution_count": 121,
     "metadata": {},
     "output_type": "execute_result"
    }
   ],
   "source": [
    "r = ode(rhs_complex).set_integrator('zvode', method='bdf', with_jacobian=False)\n",
    "r.set_initial_value(z0, 0.0)\n",
    "t1 = 1.02\n",
    "dt = 0.01\n",
    "x_list = []\n",
    "y_list = []\n",
    "t_list = []\n",
    "while r.successful() and r.t < t1:\n",
    "    print(r.t,r.integrate(r.t+dt))\n",
    "    x_list.append(r.integrate(r.t+dt).real[1])\n",
    "    y_list.append(r.integrate(r.t+dt).imag[1])\n",
    "    t_list.append(r.t)\n",
    "#     print(r.t)\n",
    "r.y"
   ]
  },
  {
   "cell_type": "code",
   "execution_count": 122,
   "id": "fc86ad7c",
   "metadata": {},
   "outputs": [
    {
     "data": {
      "text/plain": [
       "[<matplotlib.lines.Line2D at 0x7ff1410a6880>]"
      ]
     },
     "execution_count": 122,
     "metadata": {},
     "output_type": "execute_result"
    },
    {
     "data": {
      "image/png": "[encoded data removed]",
      "text/plain": [
       "<Figure size 432x288 with 1 Axes>"
      ]
     },
     "metadata": {
      "needs_background": "light"
     },
     "output_type": "display_data"
    }
   ],
   "source": [
    "plt.plot(t_list,x_list, label = 'new')\n",
    "plt.plot(t,x_odeint)"
   ]
  },
  {
   "cell_type": "code",
   "execution_count": 123,
   "id": "c41d932e",
   "metadata": {},
   "outputs": [
    {
     "data": {
      "text/plain": [
       "[<matplotlib.lines.Line2D at 0x7ff140c3a5b0>]"
      ]
     },
     "execution_count": 123,
     "metadata": {},
     "output_type": "execute_result"
    },
    {
     "data": {
      "image/png": "[encoded data removed]",
      "text/plain": [
       "<Figure size 432x288 with 1 Axes>"
      ]
     },
     "metadata": {
      "needs_background": "light"
     },
     "output_type": "display_data"
    }
   ],
   "source": [
    "plt.plot(t_list,y_list, label = 'new')\n",
    "plt.plot(t,y_odeint)"
   ]
  },
  {
   "cell_type": "code",
   "execution_count": null,
   "id": "0dbb6867",
   "metadata": {},
   "outputs": [],
   "source": []
  }
 ],
 "metadata": {
  "kernelspec": {
   "display_name": "Python 3 (ipykernel)",
   "language": "python",
   "name": "python3"
  },
  "language_info": {
   "codemirror_mode": {
    "name": "ipython",
    "version": 3
   },
   "file_extension": ".py",
   "mimetype": "text/x-python",
   "name": "python",
   "nbconvert_exporter": "python",
   "pygments_lexer": "ipython3",
   "version": "3.8.10"
  }
 },
 "nbformat": 4,
 "nbformat_minor": 5
}
