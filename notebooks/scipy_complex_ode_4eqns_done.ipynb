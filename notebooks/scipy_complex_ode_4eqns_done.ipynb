{
 "cells": [
  {
   "cell_type": "code",
   "execution_count": 34,
   "id": "68af8d49",
   "metadata": {},
   "outputs": [],
   "source": [
    "# https://kitchingroup.cheme.cmu.edu/blog/2018/11/02/Solving-coupled-ODEs-with-a-neural-network-and-autograd/"
   ]
  },
  {
   "cell_type": "code",
   "execution_count": 2,
   "id": "579185db",
   "metadata": {},
   "outputs": [],
   "source": [
    "from scipy.integrate import solve_ivp, odeint, complex_ode,ode\n",
    "import numpy as np\n",
    "%matplotlib inline\n",
    "import matplotlib.pyplot as plt"
   ]
  },
  {
   "cell_type": "code",
   "execution_count": 24,
   "id": "3038d0e6",
   "metadata": {},
   "outputs": [],
   "source": [
    "def rhs(t,z):\n",
    "    u1,v1,u2,v2= z\n",
    "    du1dt = -v2\n",
    "    dv1dt = -u2\n",
    "    du2dt = -v1\n",
    "    dv2dt = -u1    \n",
    "    return [du1dt,dv1dt,du2dt,dv2dt]"
   ]
  },
  {
   "cell_type": "code",
   "execution_count": 25,
   "id": "c8cb58c7",
   "metadata": {},
   "outputs": [
    {
     "data": {
      "text/plain": [
       "[-0.0, -1.0, -0.0, -1.0]"
      ]
     },
     "execution_count": 25,
     "metadata": {},
     "output_type": "execute_result"
    }
   ],
   "source": [
    "t = np.linspace(0,1,100)\n",
    "u10,v10,u20,v20 = 1.,0.,1.,0.\n",
    "z0 = np.array([u10,v10,u20,v20])\n",
    "rhs(t,z0)"
   ]
  },
  {
   "cell_type": "code",
   "execution_count": 26,
   "id": "84d670d5",
   "metadata": {},
   "outputs": [],
   "source": [
    "solution_x_y = solve_ivp(rhs,t_span=t,y0=z0 )"
   ]
  },
  {
   "cell_type": "code",
   "execution_count": 27,
   "id": "314a0de6",
   "metadata": {},
   "outputs": [],
   "source": [
    "solution_x_y_odeint = odeint(func=rhs,y0=z0,t=t,tfirst=True)"
   ]
  },
  {
   "cell_type": "code",
   "execution_count": 28,
   "id": "71138df4",
   "metadata": {
    "scrolled": true
   },
   "outputs": [
    {
     "data": {
      "text/plain": [
       "  message: 'The solver successfully reached the end of the integration interval.'\n",
       "     nfev: 14\n",
       "     njev: 0\n",
       "      nlu: 0\n",
       "      sol: None\n",
       "   status: 0\n",
       "  success: True\n",
       "        t: array([0.        , 0.000999  , 0.01010101])\n",
       " t_events: None\n",
       "        y: array([[ 1.00000000e+00,  1.00000050e+00,  1.00005102e+00],\n",
       "       [ 0.00000000e+00, -9.99001165e-04, -1.01011819e-02],\n",
       "       [ 1.00000000e+00,  1.00000050e+00,  1.00005102e+00],\n",
       "       [ 0.00000000e+00, -9.99001165e-04, -1.01011819e-02]])\n",
       " y_events: None"
      ]
     },
     "execution_count": 28,
     "metadata": {},
     "output_type": "execute_result"
    }
   ],
   "source": [
    "solution_x_y"
   ]
  },
  {
   "cell_type": "code",
   "execution_count": 49,
   "id": "b690cf7a",
   "metadata": {},
   "outputs": [
    {
     "data": {
      "text/plain": [
       "<matplotlib.legend.Legend at 0x7ff6c906ca90>"
      ]
     },
     "execution_count": 49,
     "metadata": {},
     "output_type": "execute_result"
    },
    {
     "data": {
      "image/png": "[encoded data removed]",
      "text/plain": [
       "<Figure size 432x288 with 1 Axes>"
      ]
     },
     "metadata": {
      "needs_background": "light"
     },
     "output_type": "display_data"
    }
   ],
   "source": [
    "plt.plot(t,solution_x_y_odeint[:,0])\n",
    "plt.plot(t,solution_x_y_odeint[:,1])\n",
    "plt.plot(t,solution_x_y_odeint[:,2])\n",
    "plt.plot(t,solution_x_y_odeint[:,3], '--')\n",
    "plt.plot(t_list,x_list, label = 'zvode_x')\n",
    "plt.plot(t_list,y_list, label = 'zvode_y')\n",
    "plt.legend()"
   ]
  },
  {
   "cell_type": "code",
   "execution_count": 31,
   "id": "ffd6f3a8",
   "metadata": {},
   "outputs": [],
   "source": [
    "# Complex\n",
    "def rhs_complex(t,z):\n",
    "    z1,z2 = z\n",
    "    dz1dt = -np.conj(z2)*1.j\n",
    "    dz2dt = -np.conj(z1)*1.j\n",
    "    return [dz1dt,dz2dt]"
   ]
  },
  {
   "cell_type": "code",
   "execution_count": 32,
   "id": "da812ef3",
   "metadata": {},
   "outputs": [
    {
     "data": {
      "text/plain": [
       "[1.0, 1.0]"
      ]
     },
     "execution_count": 32,
     "metadata": {},
     "output_type": "execute_result"
    }
   ],
   "source": [
    "# z0 = [y0*1.j,x0] initial\n",
    "z0 = [1.,1.]\n",
    "# z0 = x0+y0*1.j Doesn't work\n",
    "z0"
   ]
  },
  {
   "cell_type": "code",
   "execution_count": 38,
   "id": "8ba9beab",
   "metadata": {},
   "outputs": [
    {
     "data": {
      "text/plain": [
       "[1.0002001508595801,\n",
       " 1.001250450710568,\n",
       " 1.003201961310867,\n",
       " 1.0060564989350493,\n",
       " 1.0098165318151973,\n",
       " 1.0144854423053626,\n",
       " 1.0200675124349703,\n",
       " 1.026567682201894,\n",
       " 1.0339918126826162,\n",
       " 1.042346662695807,\n",
       " 1.0516396585436534,\n",
       " 1.0618791872646138,\n",
       " 1.0730745385968938,\n",
       " 1.0852355777666216,\n",
       " 1.0983734028441494,\n",
       " 1.1124998327391835,\n",
       " 1.1276275909787263,\n",
       " 1.1437702820488103,\n",
       " 1.1609424421937407,\n",
       " 1.1791595317950032,\n",
       " 1.1984379373782899,\n",
       " 1.2187950285844174,\n",
       " 1.2402491064510797,\n",
       " 1.2628195017868786,\n",
       " 1.2865265160059312,\n",
       " 1.3113914811117096,\n",
       " 1.3374367943111305,\n",
       " 1.364685899298804,\n",
       " 1.393163317813336,\n",
       " 1.4228946789713524,\n",
       " 1.4539067562913266,\n",
       " 1.486227458651315,\n",
       " 1.5198858609841797,\n",
       " 1.5549122351075417]"
      ]
     },
     "execution_count": 38,
     "metadata": {},
     "output_type": "execute_result"
    }
   ],
   "source": [
    "x_list_cm"
   ]
  },
  {
   "cell_type": "code",
   "execution_count": 39,
   "id": "0935ed31",
   "metadata": {},
   "outputs": [
    {
     "data": {
      "text/plain": [
       "[0.03,\n",
       " 0.060000000000000005,\n",
       " 0.09,\n",
       " 0.11999999999999998,\n",
       " 0.15,\n",
       " 0.18000000000000002,\n",
       " 0.21000000000000005,\n",
       " 0.24000000000000007,\n",
       " 0.2700000000000001,\n",
       " 0.3000000000000001,\n",
       " 0.3300000000000001,\n",
       " 0.36000000000000015,\n",
       " 0.3900000000000002,\n",
       " 0.4200000000000002,\n",
       " 0.45000000000000023,\n",
       " 0.48000000000000026,\n",
       " 0.5100000000000002,\n",
       " 0.5400000000000003,\n",
       " 0.5700000000000003,\n",
       " 0.6000000000000003,\n",
       " 0.6300000000000003,\n",
       " 0.6600000000000004,\n",
       " 0.6900000000000004,\n",
       " 0.7200000000000004,\n",
       " 0.7500000000000004,\n",
       " 0.7800000000000005,\n",
       " 0.8100000000000005,\n",
       " 0.8400000000000005,\n",
       " 0.8700000000000006,\n",
       " 0.9000000000000006,\n",
       " 0.9300000000000006,\n",
       " 0.9600000000000006,\n",
       " 0.9900000000000007,\n",
       " 1.0200000000000007]"
      ]
     },
     "execution_count": 39,
     "metadata": {},
     "output_type": "execute_result"
    }
   ],
   "source": [
    "t_list_cm"
   ]
  },
  {
   "cell_type": "code",
   "execution_count": 42,
   "id": "7d340032",
   "metadata": {
    "scrolled": true
   },
   "outputs": [
    {
     "data": {
      "text/plain": [
       "<matplotlib.legend.Legend at 0x7ff6c98804f0>"
      ]
     },
     "execution_count": 42,
     "metadata": {},
     "output_type": "execute_result"
    },
    {
     "data": {
      "image/png": "[encoded data removed]",
      "text/plain": [
       "<Figure size 432x288 with 1 Axes>"
      ]
     },
     "metadata": {
      "needs_background": "light"
     },
     "output_type": "display_data"
    }
   ],
   "source": [
    "rn = complex_ode(rhs_complex).set_initial_value(z0, 0.0)\n",
    "t1 = 1.02\n",
    "dt = 0.01\n",
    "x_list_cm = []\n",
    "y_list_cm = []\n",
    "t_list_cm = []\n",
    "while rn.successful() and rn.t < t1:\n",
    "#     print(rn.t,rn.integrate(rn.t+dt))\n",
    "    x_list_cm.append(rn.integrate(rn.t+dt).real[1])\n",
    "    y_list_cm.append(rn.integrate(rn.t+dt).imag[1])\n",
    "    t_list_cm.append(rn.t)\n",
    "    \n",
    "# plt.plot(t_list,x_list, label = 'ode_x')\n",
    "plt.plot(t_list_cm,x_list_cm, label = 'complex_ode_x')\n",
    "plt.plot(t_list_cm,y_list_cm, label = 'complex_ode_y')\n",
    "\n",
    "plt.legend()"
   ]
  },
  {
   "cell_type": "code",
   "execution_count": 55,
   "id": "59a601b0",
   "metadata": {},
   "outputs": [
    {
     "data": {
      "text/plain": [
       "(51,)"
      ]
     },
     "execution_count": 55,
     "metadata": {},
     "output_type": "execute_result"
    }
   ],
   "source": [
    "np.array(x_list_cm).T.shape"
   ]
  },
  {
   "cell_type": "code",
   "execution_count": 44,
   "id": "2b9bc497",
   "metadata": {},
   "outputs": [
    {
     "data": {
      "text/plain": [
       "<matplotlib.legend.Legend at 0x7ff6c9835280>"
      ]
     },
     "execution_count": 44,
     "metadata": {},
     "output_type": "execute_result"
    },
    {
     "data": {
      "image/png": "[encoded data removed]",
      "text/plain": [
       "<Figure size 432x288 with 1 Axes>"
      ]
     },
     "metadata": {
      "needs_background": "light"
     },
     "output_type": "display_data"
    }
   ],
   "source": [
    "# plt.plot(t_list,y_list, label = 'ode_y')\n",
    "plt.plot(t_list_cm,y_list_cm, label = 'complex_ode_y')\n",
    "plt.legend()"
   ]
  },
  {
   "cell_type": "code",
   "execution_count": 77,
   "id": "ef5ef596",
   "metadata": {},
   "outputs": [
    {
     "data": {
      "text/plain": [
       "0.02"
      ]
     },
     "execution_count": 77,
     "metadata": {},
     "output_type": "execute_result"
    }
   ],
   "source": [
    "1/50"
   ]
  },
  {
   "cell_type": "code",
   "execution_count": 45,
   "id": "460f6198",
   "metadata": {},
   "outputs": [
    {
     "data": {
      "text/plain": [
       "array([1.56690825-1.20631229j, 1.56690825-1.20631229j])"
      ]
     },
     "execution_count": 45,
     "metadata": {},
     "output_type": "execute_result"
    }
   ],
   "source": [
    "r = ode(rhs_complex).set_integrator('zvode', method='bdf', with_jacobian=False)\n",
    "r.set_initial_value(z0, 0.0)\n",
    "t1 = 1.02\n",
    "dt = 0.01\n",
    "x_list = []\n",
    "y_list = []\n",
    "t_list = []\n",
    "while r.successful() and r.t < t1:\n",
    "#     print(r.t,r.integrate(r.t+dt))\n",
    "    x_list.append(r.integrate(r.t+dt).real[1])\n",
    "    y_list.append(r.integrate(r.t+dt).imag[1])\n",
    "    t_list.append(r.t)\n",
    "#     print(r.t)"
   ]
  },
  {
   "cell_type": "code",
   "execution_count": 47,
   "id": "fc86ad7c",
   "metadata": {},
   "outputs": [
    {
     "data": {
      "text/plain": [
       "[<matplotlib.lines.Line2D at 0x7ff6ca952df0>]"
      ]
     },
     "execution_count": 47,
     "metadata": {},
     "output_type": "execute_result"
    },
    {
     "data": {
      "image/png": "[encoded data removed]",
      "text/plain": [
       "<Figure size 432x288 with 1 Axes>"
      ]
     },
     "metadata": {
      "needs_background": "light"
     },
     "output_type": "display_data"
    }
   ],
   "source": [
    "plt.plot(t_list,y_list, label = 'new')\n",
    "# plt.plot(t,x_odeint)"
   ]
  },
  {
   "cell_type": "code",
   "execution_count": 123,
   "id": "c41d932e",
   "metadata": {},
   "outputs": [
    {
     "data": {
      "text/plain": [
       "[<matplotlib.lines.Line2D at 0x7ff140c3a5b0>]"
      ]
     },
     "execution_count": 123,
     "metadata": {},
     "output_type": "execute_result"
    },
    {
     "data": {
      "image/png": "[encoded data removed]",
      "text/plain": [
       "<Figure size 432x288 with 1 Axes>"
      ]
     },
     "metadata": {
      "needs_background": "light"
     },
     "output_type": "display_data"
    }
   ],
   "source": [
    "plt.plot(t_list,y_list, label = 'new')\n",
    "plt.plot(t,y_odeint)"
   ]
  },
  {
   "cell_type": "code",
   "execution_count": null,
   "id": "0dbb6867",
   "metadata": {},
   "outputs": [],
   "source": []
  }
 ],
 "metadata": {
  "kernelspec": {
   "display_name": "Python 3 (ipykernel)",
   "language": "python",
   "name": "python3"
  },
  "language_info": {
   "codemirror_mode": {
    "name": "ipython",
    "version": 3
   },
   "file_extension": ".py",
   "mimetype": "text/x-python",
   "name": "python",
   "nbconvert_exporter": "python",
   "pygments_lexer": "ipython3",
   "version": "3.8.10"
  }
 },
 "nbformat": 4,
 "nbformat_minor": 5
}
