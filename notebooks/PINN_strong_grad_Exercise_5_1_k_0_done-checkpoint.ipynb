{
 "cells": [
  {
   "cell_type": "code",
   "execution_count": 2,
   "id": "db26a529",
   "metadata": {},
   "outputs": [],
   "source": [
    "import numpy as np\n",
    "import tensorflow as tf\n",
    "import matplotlib.pyplot as plt\n",
    "from tqdm.notebook import tnrange\n",
    "import pygame,time "
   ]
  },
  {
   "cell_type": "code",
   "execution_count": 10,
   "id": "a38432b6",
   "metadata": {},
   "outputs": [],
   "source": [
    "neurons = 500\n",
    "M = neurons//2\n",
    "\n",
    "x = tf.cast(tf.linspace(0,1,M)[:,None], tf.float32)\n",
    "\n",
    "sigma = lambda x,alpha,beta : 1./(1.+ tf.math.exp(-alpha*x -beta ))\n",
    "\n",
    "value = int((neurons - 10)/10) + 4\n",
    "# value = 10.\n",
    "\n",
    "uniform_int_alpha = tf.initializers.RandomUniform(minval=-value, maxval=value,seed=1)\n",
    "uniform_int_beta = tf.initializers.RandomUniform(minval=-value, maxval=value,seed=2)\n",
    "\n",
    "\n",
    "alpha = uniform_int_alpha(shape=(neurons,))\n",
    "beta = uniform_int_beta(shape=(neurons,))\n",
    "\n",
    "C = -beta/alpha"
   ]
  },
  {
   "cell_type": "code",
   "execution_count": 11,
   "id": "c554cc80",
   "metadata": {},
   "outputs": [
    {
     "data": {
      "application/vnd.jupyter.widget-view+json": {
       "model_id": "45cd728cb0d3439eaabc0f13516736c9",
       "version_major": 2,
       "version_minor": 0
      },
      "text/plain": [
       "  0%|          | 0/500 [00:00<?, ?it/s]"
      ]
     },
     "metadata": {},
     "output_type": "display_data"
    }
   ],
   "source": [
    "good_alpha = []\n",
    "good_beta = []\n",
    "C_good = []\n",
    "counter = 0\n",
    "for i in tnrange(len(alpha)):\n",
    "    value = (2.945)/alpha[i]\n",
    "    low = C[i] - value\n",
    "    high = C[i] + value\n",
    "    \n",
    "#     distance_I = tf.norm(tf.constant(np.array([low,high]), tf.float32))\n",
    "#     distance_x = tf.norm(tf.constant(np.array([x[0],x[-1]]), tf.float32))\n",
    "    \n",
    "#     isclose = np.isclose(distance_I, distance_x)\n",
    "#     if distance_I < distance_x or isclose:\n",
    "#     if low > 0 and high > 0:\n",
    "#     if low > 0 and high > 0:\n",
    "\n",
    "#     if (low >= x[0] and high > x[0]):\n",
    "#         if x[0]<low and x[-1]> high: \n",
    "#             if alpha[i]>0.0:\n",
    "# #                 counter += 1\n",
    "#                 print('counter',i)\n",
    "#                 print(f'{x[0]} < {low}')\n",
    "#                 print(f'{x[-1]} > {high}')\n",
    "    good_alpha.append(alpha[i])\n",
    "    good_beta.append(beta[i])\n",
    "    C_good.append(C[i])     \n",
    "#     print(f'sigma :{sigma(x,alpha[i], beta[i])[-1]}')\n",
    "#     print(f'Distance I.:{distance_I}')\n",
    "#     print(f'Distance x.:{distance_x}')\n",
    "#     print(f'Is close :{np.isclose(sigma(C[i],alpha[i], beta[i]),0.5)}')\n",
    "#     print(f'high value:{high}')\n",
    "#     plt.plot(x,sigma(x,alpha[i], beta[i]))\n",
    "#     plt.hlines(y = sigma(C[i],alpha[i], beta[i]),xmin= low, xmax=high, colors='red', linestyles='-')\n",
    "#     plt.vlines(x = C[i], ymin=0.04, ymax= 1.,colors='b', linestyles='-')\n",
    "#     plt.vlines(x = low, ymin=0.04, ymax= 1.,colors='g', linestyles='--')\n",
    "#     plt.vlines(x = high, ymin=0.04, ymax= 1.,colors='g', linestyles='--')        \n",
    "\n",
    "#     plt.title(f' i :{i}  C:{C[i]} a :{alpha[i]} b {beta[i]}')\n",
    "#     plt.show()"
   ]
  },
  {
   "cell_type": "code",
   "execution_count": 39,
   "id": "2fc503a0",
   "metadata": {},
   "outputs": [],
   "source": [
    "def S_matrices(x_m_minus_2,alpha,beta):\n",
    "    with tf.autodiff.ForwardAccumulator(primals=x_m_minus_2,tangents=tf.ones_like(x_m_minus_2)) as outer:\n",
    "        with tf.autodiff.ForwardAccumulator(primals=x_m_minus_2,tangents=tf.ones_like(x_m_minus_2)) as inner:\n",
    "            S0 = sigma(x_m_minus_2,alpha,beta )\n",
    "        S1 = inner.jvp(S0)\n",
    "    S2 = outer.jvp(S1)  \n",
    "    return S0,S1,S2\n",
    "\n",
    "\n",
    "def B_matrices(init_array,alpha,beta):\n",
    "#     xk = tf.constant(init_array,dtype=tf.float32)\n",
    "    xk = init_array\n",
    "    with tf.autodiff.ForwardAccumulator(primals=xk,tangents=tf.ones_like(xk)) as tape:\n",
    "        B0 = sigma(xk,alpha,beta )\n",
    "    B1 = tape.jvp(B0)\n",
    "    return B0,B1"
   ]
  },
  {
   "cell_type": "code",
   "execution_count": 40,
   "id": "0c77083e",
   "metadata": {},
   "outputs": [
    {
     "data": {
      "text/plain": [
       "500"
      ]
     },
     "execution_count": 40,
     "metadata": {},
     "output_type": "execute_result"
    }
   ],
   "source": [
    "len(C_good)"
   ]
  },
  {
   "cell_type": "code",
   "execution_count": 49,
   "id": "50b3c910",
   "metadata": {},
   "outputs": [
    {
     "data": {
      "text/plain": [
       "<tf.Tensor: shape=(2, 1), dtype=float32, numpy=\n",
       "array([[0.],\n",
       "       [1.]], dtype=float32)>"
      ]
     },
     "execution_count": 49,
     "metadata": {},
     "output_type": "execute_result"
    }
   ],
   "source": [
    "xk[:,None]"
   ]
  },
  {
   "cell_type": "code",
   "execution_count": 50,
   "id": "808c8b10",
   "metadata": {},
   "outputs": [],
   "source": [
    "xk  = tf.concat([x[0],x[-1]],axis=0)\n",
    "B0 = sigma(xk[:,None],alpha,beta )"
   ]
  },
  {
   "cell_type": "code",
   "execution_count": 14,
   "id": "16cf9249",
   "metadata": {},
   "outputs": [
    {
     "data": {
      "text/plain": [
       "(500, 250)"
      ]
     },
     "execution_count": 14,
     "metadata": {},
     "output_type": "execute_result"
    }
   ],
   "source": [
    "# neurons = counter\n",
    "# M = neurons//2\n",
    "neurons,M"
   ]
  },
  {
   "cell_type": "code",
   "execution_count": 51,
   "id": "09ced131",
   "metadata": {},
   "outputs": [],
   "source": [
    "def test(C_good):\n",
    "    best_error = np.inf\n",
    "    for C in C_good:\n",
    "        beta = -C*alpha\n",
    "        x_m_minus_2 = tf.linspace(x[1],x[-2],M-2)\n",
    "        k = 5.\n",
    "        S0,S1,S2 = S_matrices(x_m_minus_2,alpha,beta)\n",
    "        int_array = tf.concat([x[0],x[-1]],axis=0)[:,None]\n",
    "        B0,B1 = B_matrices(int_array,alpha,beta)\n",
    "\n",
    "        fg = np.zeros((M,1))\n",
    "        SB_matrix = np.zeros((M,neurons))\n",
    "        lhs_eqn = S2 + (4.*tf.pow(k*np.pi,2) - 1.)*S0\n",
    "        rhs_eqn = 4.*k*np.pi*tf.math.exp(x_m_minus_2)*tf.math.cos(2.*k*np.pi*x_m_minus_2)\n",
    "\n",
    "        lhs_BC =  B0\n",
    "        rhs_BC =  tf.zeros((2,1))\n",
    "        # \n",
    "\n",
    "        # First row == B0[0]\n",
    "        SB_matrix[0] = lhs_BC[0]\n",
    "        # Last row == B0[-1]\n",
    "        SB_matrix[-1] = lhs_BC[-1]\n",
    "        # inbetween == rhs_eqn\n",
    "        SB_matrix[1:-1] = lhs_eqn\n",
    "\n",
    "        # FG matrix\n",
    "        # First row == B0[0]\n",
    "        fg[0] = rhs_BC[0]\n",
    "        # Last row == B0[-1]\n",
    "        fg[-1] = rhs_BC[-1]\n",
    "        # inbetween == rhs_eqn\n",
    "        fg[1:-1] = rhs_eqn\n",
    "\n",
    "        weight = tf.linalg.pinv(SB_matrix)@fg\n",
    "        weight = tf.cast(weight, tf.float32)\n",
    "        u_hat = sigma(x, alpha, beta)@weight\n",
    "        u = lambda x: tf.math.exp(x)*tf.math.sin(2.*k*np.pi*x)\n",
    "        error = tf.norm(u_hat- u(x))\n",
    "        residue = SB_matrix@weight - fg\n",
    "        res_nrom = tf.norm(residue)\n",
    "        res_mse = tf.reduce_mean(tf.square(residue))\n",
    "        if error < best_error:\n",
    "            if C>0:\n",
    "                print(f'Residue Norm  : {res_nrom}')\n",
    "                print(f'Residue mse  : {res_mse}')\n",
    "                print(f'Error : {tf.norm(error)}') \n",
    "                best_error = error\n",
    "                C_best = C\n",
    "                print(f'C     : {C}\\n')  \n",
    "                \n",
    "    return C_best       "
   ]
  },
  {
   "cell_type": "code",
   "execution_count": 52,
   "id": "112aa334",
   "metadata": {},
   "outputs": [],
   "source": [
    "import time"
   ]
  },
  {
   "cell_type": "code",
   "execution_count": 53,
   "id": "1dff6803",
   "metadata": {},
   "outputs": [
    {
     "ename": "NotImplementedError",
     "evalue": "in user code:\n\n    File \"/tmp/ipykernel_93085/4117629745.py\", line 21, in test  *\n        SB_matrix[0] = lhs_BC[0]\n\n    NotImplementedError: Cannot convert a symbolic tf.Tensor (strided_slice_5:0) to a numpy array. This error may indicate that you're trying to pass a Tensor to a NumPy call, which is not supported.\n",
     "output_type": "error",
     "traceback": [
      "\u001b[0;31m---------------------------------------------------------------------------\u001b[0m",
      "\u001b[0;31mNotImplementedError\u001b[0m                       Traceback (most recent call last)",
      "\u001b[0;32m/tmp/ipykernel_93085/2765575747.py\u001b[0m in \u001b[0;36m<module>\u001b[0;34m\u001b[0m\n\u001b[0;32m----> 1\u001b[0;31m \u001b[0mtf\u001b[0m\u001b[0;34m.\u001b[0m\u001b[0mfunction\u001b[0m\u001b[0;34m(\u001b[0m\u001b[0mtest\u001b[0m\u001b[0;34m)\u001b[0m\u001b[0;34m(\u001b[0m\u001b[0mC_good\u001b[0m\u001b[0;34m)\u001b[0m\u001b[0;34m\u001b[0m\u001b[0;34m\u001b[0m\u001b[0m\n\u001b[0m",
      "\u001b[0;32m~/miniconda3/envs/tf_38gpu/lib/python3.8/site-packages/tensorflow/python/util/traceback_utils.py\u001b[0m in \u001b[0;36merror_handler\u001b[0;34m(*args, **kwargs)\u001b[0m\n\u001b[1;32m    151\u001b[0m     \u001b[0;32mexcept\u001b[0m \u001b[0mException\u001b[0m \u001b[0;32mas\u001b[0m \u001b[0me\u001b[0m\u001b[0;34m:\u001b[0m\u001b[0;34m\u001b[0m\u001b[0;34m\u001b[0m\u001b[0m\n\u001b[1;32m    152\u001b[0m       \u001b[0mfiltered_tb\u001b[0m \u001b[0;34m=\u001b[0m \u001b[0m_process_traceback_frames\u001b[0m\u001b[0;34m(\u001b[0m\u001b[0me\u001b[0m\u001b[0;34m.\u001b[0m\u001b[0m__traceback__\u001b[0m\u001b[0;34m)\u001b[0m\u001b[0;34m\u001b[0m\u001b[0;34m\u001b[0m\u001b[0m\n\u001b[0;32m--> 153\u001b[0;31m       \u001b[0;32mraise\u001b[0m \u001b[0me\u001b[0m\u001b[0;34m.\u001b[0m\u001b[0mwith_traceback\u001b[0m\u001b[0;34m(\u001b[0m\u001b[0mfiltered_tb\u001b[0m\u001b[0;34m)\u001b[0m \u001b[0;32mfrom\u001b[0m \u001b[0;32mNone\u001b[0m\u001b[0;34m\u001b[0m\u001b[0;34m\u001b[0m\u001b[0m\n\u001b[0m\u001b[1;32m    154\u001b[0m     \u001b[0;32mfinally\u001b[0m\u001b[0;34m:\u001b[0m\u001b[0;34m\u001b[0m\u001b[0;34m\u001b[0m\u001b[0m\n\u001b[1;32m    155\u001b[0m       \u001b[0;32mdel\u001b[0m \u001b[0mfiltered_tb\u001b[0m\u001b[0;34m\u001b[0m\u001b[0;34m\u001b[0m\u001b[0m\n",
      "\u001b[0;32m/tmp/__autograph_generated_fileqh_hf5w9.py\u001b[0m in \u001b[0;36mtf__test\u001b[0;34m(C_good)\u001b[0m\n\u001b[1;32m    107\u001b[0m                 \u001b[0mC_best\u001b[0m \u001b[0;34m=\u001b[0m \u001b[0mag__\u001b[0m\u001b[0;34m.\u001b[0m\u001b[0mUndefined\u001b[0m\u001b[0;34m(\u001b[0m\u001b[0;34m'C_best'\u001b[0m\u001b[0;34m)\u001b[0m\u001b[0;34m\u001b[0m\u001b[0;34m\u001b[0m\u001b[0m\n\u001b[1;32m    108\u001b[0m                 \u001b[0mlhs_eqn\u001b[0m \u001b[0;34m=\u001b[0m \u001b[0mag__\u001b[0m\u001b[0;34m.\u001b[0m\u001b[0mUndefined\u001b[0m\u001b[0;34m(\u001b[0m\u001b[0;34m'lhs_eqn'\u001b[0m\u001b[0;34m)\u001b[0m\u001b[0;34m\u001b[0m\u001b[0;34m\u001b[0m\u001b[0m\n\u001b[0;32m--> 109\u001b[0;31m                 \u001b[0mag__\u001b[0m\u001b[0;34m.\u001b[0m\u001b[0mfor_stmt\u001b[0m\u001b[0;34m(\u001b[0m\u001b[0mag__\u001b[0m\u001b[0;34m.\u001b[0m\u001b[0mld\u001b[0m\u001b[0;34m(\u001b[0m\u001b[0mC_good\u001b[0m\u001b[0;34m)\u001b[0m\u001b[0;34m,\u001b[0m \u001b[0;32mNone\u001b[0m\u001b[0;34m,\u001b[0m \u001b[0mloop_body\u001b[0m\u001b[0;34m,\u001b[0m \u001b[0mget_state_2\u001b[0m\u001b[0;34m,\u001b[0m \u001b[0mset_state_2\u001b[0m\u001b[0;34m,\u001b[0m \u001b[0;34m(\u001b[0m\u001b[0;34m'C_best'\u001b[0m\u001b[0;34m,\u001b[0m \u001b[0;34m'best_error'\u001b[0m\u001b[0;34m)\u001b[0m\u001b[0;34m,\u001b[0m \u001b[0;34m{\u001b[0m\u001b[0;34m'iterate_names'\u001b[0m\u001b[0;34m:\u001b[0m \u001b[0;34m'C'\u001b[0m\u001b[0;34m}\u001b[0m\u001b[0;34m)\u001b[0m\u001b[0;34m\u001b[0m\u001b[0;34m\u001b[0m\u001b[0m\n\u001b[0m\u001b[1;32m    110\u001b[0m                 \u001b[0;32mtry\u001b[0m\u001b[0;34m:\u001b[0m\u001b[0;34m\u001b[0m\u001b[0;34m\u001b[0m\u001b[0m\n\u001b[1;32m    111\u001b[0m                     \u001b[0mdo_return\u001b[0m \u001b[0;34m=\u001b[0m \u001b[0;32mTrue\u001b[0m\u001b[0;34m\u001b[0m\u001b[0;34m\u001b[0m\u001b[0m\n",
      "\u001b[0;32m/tmp/__autograph_generated_fileqh_hf5w9.py\u001b[0m in \u001b[0;36mloop_body\u001b[0;34m(itr)\u001b[0m\n\u001b[1;32m     32\u001b[0m                     \u001b[0mlhs_BC\u001b[0m \u001b[0;34m=\u001b[0m \u001b[0mag__\u001b[0m\u001b[0;34m.\u001b[0m\u001b[0mld\u001b[0m\u001b[0;34m(\u001b[0m\u001b[0mB0\u001b[0m\u001b[0;34m)\u001b[0m\u001b[0;34m\u001b[0m\u001b[0;34m\u001b[0m\u001b[0m\n\u001b[1;32m     33\u001b[0m                     \u001b[0mrhs_BC\u001b[0m \u001b[0;34m=\u001b[0m \u001b[0mag__\u001b[0m\u001b[0;34m.\u001b[0m\u001b[0mconverted_call\u001b[0m\u001b[0;34m(\u001b[0m\u001b[0mag__\u001b[0m\u001b[0;34m.\u001b[0m\u001b[0mld\u001b[0m\u001b[0;34m(\u001b[0m\u001b[0mtf\u001b[0m\u001b[0;34m)\u001b[0m\u001b[0;34m.\u001b[0m\u001b[0mzeros\u001b[0m\u001b[0;34m,\u001b[0m \u001b[0;34m(\u001b[0m\u001b[0;34m(\u001b[0m\u001b[0;36m2\u001b[0m\u001b[0;34m,\u001b[0m \u001b[0;36m1\u001b[0m\u001b[0;34m)\u001b[0m\u001b[0;34m,\u001b[0m\u001b[0;34m)\u001b[0m\u001b[0;34m,\u001b[0m \u001b[0;32mNone\u001b[0m\u001b[0;34m,\u001b[0m \u001b[0mfscope\u001b[0m\u001b[0;34m)\u001b[0m\u001b[0;34m\u001b[0m\u001b[0;34m\u001b[0m\u001b[0m\n\u001b[0;32m---> 34\u001b[0;31m                     \u001b[0mag__\u001b[0m\u001b[0;34m.\u001b[0m\u001b[0mld\u001b[0m\u001b[0;34m(\u001b[0m\u001b[0mSB_matrix\u001b[0m\u001b[0;34m)\u001b[0m\u001b[0;34m[\u001b[0m\u001b[0;36m0\u001b[0m\u001b[0;34m]\u001b[0m \u001b[0;34m=\u001b[0m \u001b[0mag__\u001b[0m\u001b[0;34m.\u001b[0m\u001b[0mld\u001b[0m\u001b[0;34m(\u001b[0m\u001b[0mlhs_BC\u001b[0m\u001b[0;34m)\u001b[0m\u001b[0;34m[\u001b[0m\u001b[0;36m0\u001b[0m\u001b[0;34m]\u001b[0m\u001b[0;34m\u001b[0m\u001b[0;34m\u001b[0m\u001b[0m\n\u001b[0m\u001b[1;32m     35\u001b[0m                     \u001b[0mag__\u001b[0m\u001b[0;34m.\u001b[0m\u001b[0mld\u001b[0m\u001b[0;34m(\u001b[0m\u001b[0mSB_matrix\u001b[0m\u001b[0;34m)\u001b[0m\u001b[0;34m[\u001b[0m\u001b[0;34m(\u001b[0m\u001b[0;34m-\u001b[0m \u001b[0;36m1\u001b[0m\u001b[0;34m)\u001b[0m\u001b[0;34m]\u001b[0m \u001b[0;34m=\u001b[0m \u001b[0mag__\u001b[0m\u001b[0;34m.\u001b[0m\u001b[0mld\u001b[0m\u001b[0;34m(\u001b[0m\u001b[0mlhs_BC\u001b[0m\u001b[0;34m)\u001b[0m\u001b[0;34m[\u001b[0m\u001b[0;34m(\u001b[0m\u001b[0;34m-\u001b[0m \u001b[0;36m1\u001b[0m\u001b[0;34m)\u001b[0m\u001b[0;34m]\u001b[0m\u001b[0;34m\u001b[0m\u001b[0;34m\u001b[0m\u001b[0m\n\u001b[1;32m     36\u001b[0m                     \u001b[0mag__\u001b[0m\u001b[0;34m.\u001b[0m\u001b[0mld\u001b[0m\u001b[0;34m(\u001b[0m\u001b[0mSB_matrix\u001b[0m\u001b[0;34m)\u001b[0m\u001b[0;34m[\u001b[0m\u001b[0;36m1\u001b[0m\u001b[0;34m:\u001b[0m\u001b[0;34m(\u001b[0m\u001b[0;34m-\u001b[0m \u001b[0;36m1\u001b[0m\u001b[0;34m)\u001b[0m\u001b[0;34m]\u001b[0m \u001b[0;34m=\u001b[0m \u001b[0mag__\u001b[0m\u001b[0;34m.\u001b[0m\u001b[0mld\u001b[0m\u001b[0;34m(\u001b[0m\u001b[0mlhs_eqn\u001b[0m\u001b[0;34m)\u001b[0m\u001b[0;34m\u001b[0m\u001b[0;34m\u001b[0m\u001b[0m\n",
      "\u001b[0;31mNotImplementedError\u001b[0m: in user code:\n\n    File \"/tmp/ipykernel_93085/4117629745.py\", line 21, in test  *\n        SB_matrix[0] = lhs_BC[0]\n\n    NotImplementedError: Cannot convert a symbolic tf.Tensor (strided_slice_5:0) to a numpy array. This error may indicate that you're trying to pass a Tensor to a NumPy call, which is not supported.\n"
     ]
    }
   ],
   "source": [
    "tf.function(test)(C_good)"
   ]
  },
  {
   "cell_type": "code",
   "execution_count": null,
   "id": "96f0f9bf",
   "metadata": {},
   "outputs": [],
   "source": [
    "np.linspace(1,4)"
   ]
  },
  {
   "cell_type": "code",
   "execution_count": 61,
   "id": "1c3f2cf9",
   "metadata": {},
   "outputs": [
    {
     "name": "stdout",
     "output_type": "stream",
     "text": [
      "Arrays intersect\n"
     ]
    }
   ],
   "source": [
    "import numpy as np\n",
    "a = np.linspace(1,5)\n",
    "b = np.linspace(3,6)\n",
    "\n",
    "intersection = np.intersect1d(a, b)\n",
    "\n",
    "if intersection.size > 0:\n",
    "    print(\"Arrays intersect\")\n",
    "else:\n",
    "    print(\"Arrays do not intersect\")\n"
   ]
  },
  {
   "cell_type": "code",
   "execution_count": null,
   "id": "9ad9b1f6",
   "metadata": {},
   "outputs": [],
   "source": []
  },
  {
   "cell_type": "code",
   "execution_count": 62,
   "id": "84ca97cc",
   "metadata": {},
   "outputs": [
    {
     "data": {
      "text/plain": [
       "array([3.36734694, 4.10204082, 4.83673469])"
      ]
     },
     "execution_count": 62,
     "metadata": {},
     "output_type": "execute_result"
    }
   ],
   "source": [
    "intersection"
   ]
  },
  {
   "cell_type": "code",
   "execution_count": 70,
   "id": "992095b1",
   "metadata": {},
   "outputs": [
    {
     "data": {
      "text/plain": [
       "array([3.        , 3.06122449, 3.12244898, 3.18367347, 3.24489796,\n",
       "       3.30612245, 3.36734694, 3.42857143, 3.48979592, 3.55102041,\n",
       "       3.6122449 , 3.67346939, 3.73469388, 3.79591837, 3.85714286,\n",
       "       3.91836735, 3.97959184, 4.04081633, 4.10204082, 4.16326531,\n",
       "       4.2244898 , 4.28571429, 4.34693878, 4.40816327, 4.46938776,\n",
       "       4.53061224, 4.59183673, 4.65306122, 4.71428571, 4.7755102 ,\n",
       "       4.83673469, 4.89795918, 4.95918367, 5.02040816, 5.08163265,\n",
       "       5.14285714, 5.20408163, 5.26530612, 5.32653061, 5.3877551 ,\n",
       "       5.44897959, 5.51020408, 5.57142857, 5.63265306, 5.69387755,\n",
       "       5.75510204, 5.81632653, 5.87755102, 5.93877551, 6.        ])"
      ]
     },
     "execution_count": 70,
     "metadata": {},
     "output_type": "execute_result"
    }
   ],
   "source": [
    "np.linspace(3,6)"
   ]
  },
  {
   "cell_type": "code",
   "execution_count": 69,
   "id": "6b2f995f",
   "metadata": {},
   "outputs": [
    {
     "data": {
      "text/plain": [
       "array([1.        , 1.04040404, 1.08080808, 1.12121212, 1.16161616,\n",
       "       1.2020202 , 1.24242424, 1.28282828, 1.32323232, 1.36363636,\n",
       "       1.4040404 , 1.44444444, 1.48484848, 1.52525253, 1.56565657,\n",
       "       1.60606061, 1.64646465, 1.68686869, 1.72727273, 1.76767677,\n",
       "       1.80808081, 1.84848485, 1.88888889, 1.92929293, 1.96969697,\n",
       "       2.01010101, 2.05050505, 2.09090909, 2.13131313, 2.17171717,\n",
       "       2.21212121, 2.25252525, 2.29292929, 2.33333333, 2.37373737,\n",
       "       2.41414141, 2.45454545, 2.49494949, 2.53535354, 2.57575758,\n",
       "       2.61616162, 2.65656566, 2.6969697 , 2.73737374, 2.77777778,\n",
       "       2.81818182, 2.85858586, 2.8989899 , 2.93939394, 2.97979798,\n",
       "       3.02020202, 3.06060606, 3.1010101 , 3.14141414, 3.18181818,\n",
       "       3.22222222, 3.26262626, 3.3030303 , 3.34343434, 3.38383838,\n",
       "       3.42424242, 3.46464646, 3.50505051, 3.54545455, 3.58585859,\n",
       "       3.62626263, 3.66666667, 3.70707071, 3.74747475, 3.78787879,\n",
       "       3.82828283, 3.86868687, 3.90909091, 3.94949495, 3.98989899,\n",
       "       4.03030303, 4.07070707, 4.11111111, 4.15151515, 4.19191919,\n",
       "       4.23232323, 4.27272727, 4.31313131, 4.35353535, 4.39393939,\n",
       "       4.43434343, 4.47474747, 4.51515152, 4.55555556, 4.5959596 ,\n",
       "       4.63636364, 4.67676768, 4.71717172, 4.75757576, 4.7979798 ,\n",
       "       4.83838384, 4.87878788, 4.91919192, 4.95959596, 5.        ])"
      ]
     },
     "execution_count": 69,
     "metadata": {},
     "output_type": "execute_result"
    }
   ],
   "source": [
    "np.a"
   ]
  },
  {
   "cell_type": "code",
   "execution_count": 72,
   "id": "ad19401b",
   "metadata": {},
   "outputs": [
    {
     "name": "stdout",
     "output_type": "stream",
     "text": [
      "Arrays intersect\n"
     ]
    }
   ],
   "source": [
    "import numpy as np\n",
    "\n",
    "a = np.linspace(1,5)\n",
    "b = np.linspace(3,6)\n",
    "\n",
    "intersection = np.intersect1d(a, b, assume_unique=True)\n",
    "close_matches = np.isclose(intersection[:, np.newaxis], a).any(axis=1) | np.isclose(intersection[:, np.newaxis], b).any(axis=1)\n",
    "intersection = intersection[close_matches]\n",
    "\n",
    "if intersection.size > 0:\n",
    "    print(\"Arrays intersect\")\n",
    "else:\n",
    "    print(\"Arrays do not intersect\")\n"
   ]
  },
  {
   "cell_type": "code",
   "execution_count": 75,
   "id": "be90ae99",
   "metadata": {},
   "outputs": [
    {
     "data": {
      "text/plain": [
       "array([3.36734694, 4.10204082, 4.83673469])"
      ]
     },
     "execution_count": 75,
     "metadata": {},
     "output_type": "execute_result"
    }
   ],
   "source": [
    "intersection"
   ]
  },
  {
   "cell_type": "code",
   "execution_count": 64,
   "id": "bfdf7d55",
   "metadata": {},
   "outputs": [
    {
     "data": {
      "text/plain": [
       "array([3.36734694, 4.10204082, 4.83673469])"
      ]
     },
     "execution_count": 64,
     "metadata": {},
     "output_type": "execute_result"
    }
   ],
   "source": [
    "intersection"
   ]
  },
  {
   "cell_type": "code",
   "execution_count": 15,
   "id": "eeb6adc1",
   "metadata": {},
   "outputs": [
    {
     "name": "stderr",
     "output_type": "stream",
     "text": [
      "2023-02-03 00:16:59.828419: E ./tensorflow/core/kernels/linalg/svd_op_impl.h:110] Eigen::BDCSVD failed with error code 3\n",
      "2023-02-03 00:16:59.845404: E ./tensorflow/core/kernels/linalg/svd_op_impl.h:110] Eigen::BDCSVD failed with error code 3\n",
      "2023-02-03 00:16:59.860653: E ./tensorflow/core/kernels/linalg/svd_op_impl.h:110] Eigen::BDCSVD failed with error code 3\n",
      "2023-02-03 00:16:59.874910: E ./tensorflow/core/kernels/linalg/svd_op_impl.h:110] Eigen::BDCSVD failed with error code 3\n",
      "2023-02-03 00:16:59.928676: E ./tensorflow/core/kernels/linalg/svd_op_impl.h:110] Eigen::BDCSVD failed with error code 3\n"
     ]
    },
    {
     "name": "stdout",
     "output_type": "stream",
     "text": [
      "Residue Norm  : 241439.609375\n",
      "Residue mse  : 233172352.0\n",
      "Error : 251.2067413330078\n",
      "C     : 1.3328505754470825\n",
      "\n",
      "Residue Norm  : 11855.8505859375\n",
      "Residue mse  : 562244.75\n",
      "Error : 21.75017547607422\n",
      "C     : 1.0958292484283447\n",
      "\n",
      "Residue Norm  : 2349.930419921875\n",
      "Residue mse  : 22088.693359375\n",
      "Error : 19.45305633544922\n",
      "C     : 0.25477495789527893\n",
      "\n"
     ]
    },
    {
     "name": "stderr",
     "output_type": "stream",
     "text": [
      "2023-02-03 00:17:00.142150: E ./tensorflow/core/kernels/linalg/svd_op_impl.h:110] Eigen::BDCSVD failed with error code 3\n",
      "2023-02-03 00:17:00.156945: E ./tensorflow/core/kernels/linalg/svd_op_impl.h:110] Eigen::BDCSVD failed with error code 3\n",
      "2023-02-03 00:17:00.250687: E ./tensorflow/core/kernels/linalg/svd_op_impl.h:110] Eigen::BDCSVD failed with error code 3\n",
      "2023-02-03 00:17:00.305525: E ./tensorflow/core/kernels/linalg/svd_op_impl.h:110] Eigen::BDCSVD failed with error code 3\n",
      "2023-02-03 00:17:00.441990: E ./tensorflow/core/kernels/linalg/svd_op_impl.h:110] Eigen::BDCSVD failed with error code 3\n",
      "2023-02-03 00:17:00.457140: E ./tensorflow/core/kernels/linalg/svd_op_impl.h:110] Eigen::BDCSVD failed with error code 3\n",
      "2023-02-03 00:17:00.471481: E ./tensorflow/core/kernels/linalg/svd_op_impl.h:110] Eigen::BDCSVD failed with error code 3\n",
      "2023-02-03 00:17:00.486160: E ./tensorflow/core/kernels/linalg/svd_op_impl.h:110] Eigen::BDCSVD failed with error code 3\n",
      "2023-02-03 00:17:00.541360: E ./tensorflow/core/kernels/linalg/svd_op_impl.h:110] Eigen::BDCSVD failed with error code 3\n",
      "2023-02-03 00:17:00.555560: E ./tensorflow/core/kernels/linalg/svd_op_impl.h:110] Eigen::BDCSVD failed with error code 3\n",
      "2023-02-03 00:17:00.569605: E ./tensorflow/core/kernels/linalg/svd_op_impl.h:110] Eigen::BDCSVD failed with error code 3\n",
      "2023-02-03 00:17:00.583707: E ./tensorflow/core/kernels/linalg/svd_op_impl.h:110] Eigen::BDCSVD failed with error code 3\n",
      "2023-02-03 00:17:00.597889: E ./tensorflow/core/kernels/linalg/svd_op_impl.h:110] Eigen::BDCSVD failed with error code 3\n",
      "2023-02-03 00:17:00.612412: E ./tensorflow/core/kernels/linalg/svd_op_impl.h:110] Eigen::BDCSVD failed with error code 3\n"
     ]
    },
    {
     "name": "stdout",
     "output_type": "stream",
     "text": [
      "Residue Norm  : 5163.7001953125\n",
      "Residue mse  : 106655.2109375\n",
      "Error : 18.322128295898438\n",
      "C     : 0.9726511836051941\n",
      "\n"
     ]
    },
    {
     "name": "stderr",
     "output_type": "stream",
     "text": [
      "2023-02-03 00:17:00.707516: E ./tensorflow/core/kernels/linalg/svd_op_impl.h:110] Eigen::BDCSVD failed with error code 3\n",
      "2023-02-03 00:17:00.761724: E ./tensorflow/core/kernels/linalg/svd_op_impl.h:110] Eigen::BDCSVD failed with error code 3\n",
      "2023-02-03 00:17:00.854374: E ./tensorflow/core/kernels/linalg/svd_op_impl.h:110] Eigen::BDCSVD failed with error code 3\n",
      "2023-02-03 00:17:00.950150: E ./tensorflow/core/kernels/linalg/svd_op_impl.h:110] Eigen::BDCSVD failed with error code 3\n",
      "2023-02-03 00:17:01.005990: E ./tensorflow/core/kernels/linalg/svd_op_impl.h:110] Eigen::BDCSVD failed with error code 3\n",
      "2023-02-03 00:17:01.100672: E ./tensorflow/core/kernels/linalg/svd_op_impl.h:110] Eigen::BDCSVD failed with error code 3\n",
      "2023-02-03 00:17:01.115825: E ./tensorflow/core/kernels/linalg/svd_op_impl.h:110] Eigen::BDCSVD failed with error code 3\n",
      "2023-02-03 00:17:01.327665: E ./tensorflow/core/kernels/linalg/svd_op_impl.h:110] Eigen::BDCSVD failed with error code 3\n",
      "2023-02-03 00:17:01.422617: E ./tensorflow/core/kernels/linalg/svd_op_impl.h:110] Eigen::BDCSVD failed with error code 3\n",
      "2023-02-03 00:17:01.476278: E ./tensorflow/core/kernels/linalg/svd_op_impl.h:110] Eigen::BDCSVD failed with error code 3\n",
      "2023-02-03 00:17:01.492585: E ./tensorflow/core/kernels/linalg/svd_op_impl.h:110] Eigen::BDCSVD failed with error code 3\n",
      "2023-02-03 00:17:01.586436: E ./tensorflow/core/kernels/linalg/svd_op_impl.h:110] Eigen::BDCSVD failed with error code 3\n",
      "2023-02-03 00:17:01.600838: E ./tensorflow/core/kernels/linalg/svd_op_impl.h:110] Eigen::BDCSVD failed with error code 3\n",
      "2023-02-03 00:17:01.654868: E ./tensorflow/core/kernels/linalg/svd_op_impl.h:110] Eigen::BDCSVD failed with error code 3\n",
      "2023-02-03 00:17:01.669979: E ./tensorflow/core/kernels/linalg/svd_op_impl.h:110] Eigen::BDCSVD failed with error code 3\n",
      "2023-02-03 00:17:01.684125: E ./tensorflow/core/kernels/linalg/svd_op_impl.h:110] Eigen::BDCSVD failed with error code 3\n",
      "2023-02-03 00:17:01.698878: E ./tensorflow/core/kernels/linalg/svd_op_impl.h:110] Eigen::BDCSVD failed with error code 3\n",
      "2023-02-03 00:17:01.712572: E ./tensorflow/core/kernels/linalg/svd_op_impl.h:110] Eigen::BDCSVD failed with error code 3\n",
      "2023-02-03 00:17:01.766838: E ./tensorflow/core/kernels/linalg/svd_op_impl.h:110] Eigen::BDCSVD failed with error code 3\n",
      "2023-02-03 00:17:01.782502: E ./tensorflow/core/kernels/linalg/svd_op_impl.h:110] Eigen::BDCSVD failed with error code 3\n",
      "2023-02-03 00:17:01.797703: E ./tensorflow/core/kernels/linalg/svd_op_impl.h:110] Eigen::BDCSVD failed with error code 3\n"
     ]
    },
    {
     "name": "stdout",
     "output_type": "stream",
     "text": [
      "Residue Norm  : 2314.5205078125\n",
      "Residue mse  : 21428.01953125\n",
      "Error : 17.430559158325195\n",
      "C     : 0.9661108255386353\n",
      "\n"
     ]
    },
    {
     "name": "stderr",
     "output_type": "stream",
     "text": [
      "2023-02-03 00:17:02.049132: E ./tensorflow/core/kernels/linalg/svd_op_impl.h:110] Eigen::BDCSVD failed with error code 3\n",
      "2023-02-03 00:17:02.102726: E ./tensorflow/core/kernels/linalg/svd_op_impl.h:110] Eigen::BDCSVD failed with error code 3\n",
      "2023-02-03 00:17:02.119518: E ./tensorflow/core/kernels/linalg/svd_op_impl.h:110] Eigen::BDCSVD failed with error code 3\n",
      "2023-02-03 00:17:02.133894: E ./tensorflow/core/kernels/linalg/svd_op_impl.h:110] Eigen::BDCSVD failed with error code 3\n",
      "2023-02-03 00:17:02.148321: E ./tensorflow/core/kernels/linalg/svd_op_impl.h:110] Eigen::BDCSVD failed with error code 3\n",
      "2023-02-03 00:17:02.162415: E ./tensorflow/core/kernels/linalg/svd_op_impl.h:110] Eigen::BDCSVD failed with error code 3\n",
      "2023-02-03 00:17:02.215772: E ./tensorflow/core/kernels/linalg/svd_op_impl.h:110] Eigen::BDCSVD failed with error code 3\n",
      "2023-02-03 00:17:02.230468: E ./tensorflow/core/kernels/linalg/svd_op_impl.h:110] Eigen::BDCSVD failed with error code 3\n",
      "2023-02-03 00:17:02.248702: E ./tensorflow/core/kernels/linalg/svd_op_impl.h:110] Eigen::BDCSVD failed with error code 3\n",
      "2023-02-03 00:17:02.264956: E ./tensorflow/core/kernels/linalg/svd_op_impl.h:110] Eigen::BDCSVD failed with error code 3\n",
      "2023-02-03 00:17:02.319862: E ./tensorflow/core/kernels/linalg/svd_op_impl.h:110] Eigen::BDCSVD failed with error code 3\n",
      "2023-02-03 00:17:02.653329: E ./tensorflow/core/kernels/linalg/svd_op_impl.h:110] Eigen::BDCSVD failed with error code 3\n",
      "2023-02-03 00:17:02.784982: E ./tensorflow/core/kernels/linalg/svd_op_impl.h:110] Eigen::BDCSVD failed with error code 3\n",
      "2023-02-03 00:17:02.839825: E ./tensorflow/core/kernels/linalg/svd_op_impl.h:110] Eigen::BDCSVD failed with error code 3\n",
      "2023-02-03 00:17:02.854860: E ./tensorflow/core/kernels/linalg/svd_op_impl.h:110] Eigen::BDCSVD failed with error code 3\n",
      "2023-02-03 00:17:02.869883: E ./tensorflow/core/kernels/linalg/svd_op_impl.h:110] Eigen::BDCSVD failed with error code 3\n",
      "2023-02-03 00:17:02.922896: E ./tensorflow/core/kernels/linalg/svd_op_impl.h:110] Eigen::BDCSVD failed with error code 3\n",
      "2023-02-03 00:17:02.937573: E ./tensorflow/core/kernels/linalg/svd_op_impl.h:110] Eigen::BDCSVD failed with error code 3\n",
      "2023-02-03 00:17:02.951754: E ./tensorflow/core/kernels/linalg/svd_op_impl.h:110] Eigen::BDCSVD failed with error code 3\n",
      "2023-02-03 00:17:03.005948: E ./tensorflow/core/kernels/linalg/svd_op_impl.h:110] Eigen::BDCSVD failed with error code 3\n",
      "2023-02-03 00:17:03.021073: E ./tensorflow/core/kernels/linalg/svd_op_impl.h:110] Eigen::BDCSVD failed with error code 3\n",
      "2023-02-03 00:17:03.115593: E ./tensorflow/core/kernels/linalg/svd_op_impl.h:110] Eigen::BDCSVD failed with error code 3\n",
      "2023-02-03 00:17:03.169664: E ./tensorflow/core/kernels/linalg/svd_op_impl.h:110] Eigen::BDCSVD failed with error code 3\n",
      "2023-02-03 00:17:03.184843: E ./tensorflow/core/kernels/linalg/svd_op_impl.h:110] Eigen::BDCSVD failed with error code 3\n",
      "2023-02-03 00:17:03.199343: E ./tensorflow/core/kernels/linalg/svd_op_impl.h:110] Eigen::BDCSVD failed with error code 3\n",
      "2023-02-03 00:17:03.214149: E ./tensorflow/core/kernels/linalg/svd_op_impl.h:110] Eigen::BDCSVD failed with error code 3\n"
     ]
    },
    {
     "name": "stdout",
     "output_type": "stream",
     "text": [
      "Residue Norm  : 1976.821044921875\n",
      "Residue mse  : 15631.28515625\n",
      "Error : 16.090185165405273\n",
      "C     : 0.9067177772521973\n",
      "\n"
     ]
    },
    {
     "name": "stderr",
     "output_type": "stream",
     "text": [
      "2023-02-03 00:17:03.466585: E ./tensorflow/core/kernels/linalg/svd_op_impl.h:110] Eigen::BDCSVD failed with error code 3\n",
      "2023-02-03 00:17:03.481447: E ./tensorflow/core/kernels/linalg/svd_op_impl.h:110] Eigen::BDCSVD failed with error code 3\n",
      "2023-02-03 00:17:03.615920: E ./tensorflow/core/kernels/linalg/svd_op_impl.h:110] Eigen::BDCSVD failed with error code 3\n",
      "2023-02-03 00:17:03.710774: E ./tensorflow/core/kernels/linalg/svd_op_impl.h:110] Eigen::BDCSVD failed with error code 3\n",
      "2023-02-03 00:17:03.764683: E ./tensorflow/core/kernels/linalg/svd_op_impl.h:110] Eigen::BDCSVD failed with error code 3\n",
      "2023-02-03 00:17:03.821544: E ./tensorflow/core/kernels/linalg/svd_op_impl.h:110] Eigen::BDCSVD failed with error code 3\n",
      "2023-02-03 00:17:03.835930: E ./tensorflow/core/kernels/linalg/svd_op_impl.h:110] Eigen::BDCSVD failed with error code 3\n",
      "2023-02-03 00:17:03.930451: E ./tensorflow/core/kernels/linalg/svd_op_impl.h:110] Eigen::BDCSVD failed with error code 3\n",
      "2023-02-03 00:17:03.985377: E ./tensorflow/core/kernels/linalg/svd_op_impl.h:110] Eigen::BDCSVD failed with error code 3\n",
      "2023-02-03 00:17:04.039068: E ./tensorflow/core/kernels/linalg/svd_op_impl.h:110] Eigen::BDCSVD failed with error code 3\n",
      "2023-02-03 00:17:04.054674: E ./tensorflow/core/kernels/linalg/svd_op_impl.h:110] Eigen::BDCSVD failed with error code 3\n",
      "2023-02-03 00:17:04.148613: E ./tensorflow/core/kernels/linalg/svd_op_impl.h:110] Eigen::BDCSVD failed with error code 3\n",
      "2023-02-03 00:17:04.163554: E ./tensorflow/core/kernels/linalg/svd_op_impl.h:110] Eigen::BDCSVD failed with error code 3\n",
      "2023-02-03 00:17:04.177973: E ./tensorflow/core/kernels/linalg/svd_op_impl.h:110] Eigen::BDCSVD failed with error code 3\n",
      "2023-02-03 00:17:04.232212: E ./tensorflow/core/kernels/linalg/svd_op_impl.h:110] Eigen::BDCSVD failed with error code 3\n",
      "2023-02-03 00:17:04.323269: E ./tensorflow/core/kernels/linalg/svd_op_impl.h:110] Eigen::BDCSVD failed with error code 3\n",
      "2023-02-03 00:17:04.337989: E ./tensorflow/core/kernels/linalg/svd_op_impl.h:110] Eigen::BDCSVD failed with error code 3\n",
      "2023-02-03 00:17:04.352520: E ./tensorflow/core/kernels/linalg/svd_op_impl.h:110] Eigen::BDCSVD failed with error code 3\n",
      "2023-02-03 00:17:04.408090: E ./tensorflow/core/kernels/linalg/svd_op_impl.h:110] Eigen::BDCSVD failed with error code 3\n",
      "2023-02-03 00:17:04.423025: E ./tensorflow/core/kernels/linalg/svd_op_impl.h:110] Eigen::BDCSVD failed with error code 3\n",
      "2023-02-03 00:17:04.437879: E ./tensorflow/core/kernels/linalg/svd_op_impl.h:110] Eigen::BDCSVD failed with error code 3\n",
      "2023-02-03 00:17:04.452166: E ./tensorflow/core/kernels/linalg/svd_op_impl.h:110] Eigen::BDCSVD failed with error code 3\n",
      "2023-02-03 00:17:04.505645: E ./tensorflow/core/kernels/linalg/svd_op_impl.h:110] Eigen::BDCSVD failed with error code 3\n",
      "2023-02-03 00:17:04.678468: E ./tensorflow/core/kernels/linalg/svd_op_impl.h:110] Eigen::BDCSVD failed with error code 3\n",
      "2023-02-03 00:17:04.812086: E ./tensorflow/core/kernels/linalg/svd_op_impl.h:110] Eigen::BDCSVD failed with error code 3\n",
      "2023-02-03 00:17:04.867556: E ./tensorflow/core/kernels/linalg/svd_op_impl.h:110] Eigen::BDCSVD failed with error code 3\n",
      "2023-02-03 00:17:04.882795: E ./tensorflow/core/kernels/linalg/svd_op_impl.h:110] Eigen::BDCSVD failed with error code 3\n",
      "2023-02-03 00:17:04.897370: E ./tensorflow/core/kernels/linalg/svd_op_impl.h:110] Eigen::BDCSVD failed with error code 3\n",
      "2023-02-03 00:17:04.911787: E ./tensorflow/core/kernels/linalg/svd_op_impl.h:110] Eigen::BDCSVD failed with error code 3\n",
      "2023-02-03 00:17:04.925965: E ./tensorflow/core/kernels/linalg/svd_op_impl.h:110] Eigen::BDCSVD failed with error code 3\n",
      "2023-02-03 00:17:05.173075: E ./tensorflow/core/kernels/linalg/svd_op_impl.h:110] Eigen::BDCSVD failed with error code 3\n",
      "2023-02-03 00:17:05.188273: E ./tensorflow/core/kernels/linalg/svd_op_impl.h:110] Eigen::BDCSVD failed with error code 3\n",
      "2023-02-03 00:17:05.241736: E ./tensorflow/core/kernels/linalg/svd_op_impl.h:110] Eigen::BDCSVD failed with error code 3\n",
      "2023-02-03 00:17:05.256484: E ./tensorflow/core/kernels/linalg/svd_op_impl.h:110] Eigen::BDCSVD failed with error code 3\n",
      "2023-02-03 00:17:05.311331: E ./tensorflow/core/kernels/linalg/svd_op_impl.h:110] Eigen::BDCSVD failed with error code 3\n",
      "2023-02-03 00:17:05.326294: E ./tensorflow/core/kernels/linalg/svd_op_impl.h:110] Eigen::BDCSVD failed with error code 3\n",
      "2023-02-03 00:17:05.382458: E ./tensorflow/core/kernels/linalg/svd_op_impl.h:110] Eigen::BDCSVD failed with error code 3\n",
      "2023-02-03 00:17:05.439231: E ./tensorflow/core/kernels/linalg/svd_op_impl.h:110] Eigen::BDCSVD failed with error code 3\n",
      "2023-02-03 00:17:05.534601: E ./tensorflow/core/kernels/linalg/svd_op_impl.h:110] Eigen::BDCSVD failed with error code 3\n",
      "2023-02-03 00:17:05.549593: E ./tensorflow/core/kernels/linalg/svd_op_impl.h:110] Eigen::BDCSVD failed with error code 3\n",
      "2023-02-03 00:17:05.604598: E ./tensorflow/core/kernels/linalg/svd_op_impl.h:110] Eigen::BDCSVD failed with error code 3\n",
      "2023-02-03 00:17:05.737462: E ./tensorflow/core/kernels/linalg/svd_op_impl.h:110] Eigen::BDCSVD failed with error code 3\n",
      "2023-02-03 00:17:05.752620: E ./tensorflow/core/kernels/linalg/svd_op_impl.h:110] Eigen::BDCSVD failed with error code 3\n",
      "2023-02-03 00:17:05.846712: E ./tensorflow/core/kernels/linalg/svd_op_impl.h:110] Eigen::BDCSVD failed with error code 3\n",
      "2023-02-03 00:17:05.900174: E ./tensorflow/core/kernels/linalg/svd_op_impl.h:110] Eigen::BDCSVD failed with error code 3\n",
      "2023-02-03 00:17:05.915184: E ./tensorflow/core/kernels/linalg/svd_op_impl.h:110] Eigen::BDCSVD failed with error code 3\n",
      "2023-02-03 00:17:05.929658: E ./tensorflow/core/kernels/linalg/svd_op_impl.h:110] Eigen::BDCSVD failed with error code 3\n",
      "2023-02-03 00:17:06.062853: E ./tensorflow/core/kernels/linalg/svd_op_impl.h:110] Eigen::BDCSVD failed with error code 3\n",
      "2023-02-03 00:17:06.117574: E ./tensorflow/core/kernels/linalg/svd_op_impl.h:110] Eigen::BDCSVD failed with error code 3\n",
      "2023-02-03 00:17:06.133004: E ./tensorflow/core/kernels/linalg/svd_op_impl.h:110] Eigen::BDCSVD failed with error code 3\n",
      "2023-02-03 00:17:06.147957: E ./tensorflow/core/kernels/linalg/svd_op_impl.h:110] Eigen::BDCSVD failed with error code 3\n",
      "2023-02-03 00:17:06.162057: E ./tensorflow/core/kernels/linalg/svd_op_impl.h:110] Eigen::BDCSVD failed with error code 3\n",
      "2023-02-03 00:17:06.176068: E ./tensorflow/core/kernels/linalg/svd_op_impl.h:110] Eigen::BDCSVD failed with error code 3\n",
      "2023-02-03 00:17:06.190198: E ./tensorflow/core/kernels/linalg/svd_op_impl.h:110] Eigen::BDCSVD failed with error code 3\n",
      "2023-02-03 00:17:06.204525: E ./tensorflow/core/kernels/linalg/svd_op_impl.h:110] Eigen::BDCSVD failed with error code 3\n",
      "2023-02-03 00:17:06.218551: E ./tensorflow/core/kernels/linalg/svd_op_impl.h:110] Eigen::BDCSVD failed with error code 3\n",
      "2023-02-03 00:17:06.232795: E ./tensorflow/core/kernels/linalg/svd_op_impl.h:110] Eigen::BDCSVD failed with error code 3\n",
      "2023-02-03 00:17:06.324674: E ./tensorflow/core/kernels/linalg/svd_op_impl.h:110] Eigen::BDCSVD failed with error code 3\n",
      "2023-02-03 00:17:06.341140: E ./tensorflow/core/kernels/linalg/svd_op_impl.h:110] Eigen::BDCSVD failed with error code 3\n",
      "2023-02-03 00:17:06.434601: E ./tensorflow/core/kernels/linalg/svd_op_impl.h:110] Eigen::BDCSVD failed with error code 3\n",
      "2023-02-03 00:17:06.449791: E ./tensorflow/core/kernels/linalg/svd_op_impl.h:110] Eigen::BDCSVD failed with error code 3\n",
      "2023-02-03 00:17:06.464944: E ./tensorflow/core/kernels/linalg/svd_op_impl.h:110] Eigen::BDCSVD failed with error code 3\n",
      "2023-02-03 00:17:06.636895: E ./tensorflow/core/kernels/linalg/svd_op_impl.h:110] Eigen::BDCSVD failed with error code 3\n",
      "2023-02-03 00:17:06.691821: E ./tensorflow/core/kernels/linalg/svd_op_impl.h:110] Eigen::BDCSVD failed with error code 3\n",
      "2023-02-03 00:17:06.706653: E ./tensorflow/core/kernels/linalg/svd_op_impl.h:110] Eigen::BDCSVD failed with error code 3\n",
      "2023-02-03 00:17:06.721513: E ./tensorflow/core/kernels/linalg/svd_op_impl.h:110] Eigen::BDCSVD failed with error code 3\n",
      "2023-02-03 00:17:06.738835: E ./tensorflow/core/kernels/linalg/svd_op_impl.h:110] Eigen::BDCSVD failed with error code 3\n",
      "2023-02-03 00:17:06.797521: E ./tensorflow/core/kernels/linalg/svd_op_impl.h:110] Eigen::BDCSVD failed with error code 3\n"
     ]
    },
    {
     "name": "stderr",
     "output_type": "stream",
     "text": [
      "2023-02-03 00:17:06.855728: E ./tensorflow/core/kernels/linalg/svd_op_impl.h:110] Eigen::BDCSVD failed with error code 3\n",
      "2023-02-03 00:17:06.870838: E ./tensorflow/core/kernels/linalg/svd_op_impl.h:110] Eigen::BDCSVD failed with error code 3\n",
      "2023-02-03 00:17:06.886384: E ./tensorflow/core/kernels/linalg/svd_op_impl.h:110] Eigen::BDCSVD failed with error code 3\n",
      "2023-02-03 00:17:06.902171: E ./tensorflow/core/kernels/linalg/svd_op_impl.h:110] Eigen::BDCSVD failed with error code 3\n",
      "2023-02-03 00:17:07.116997: E ./tensorflow/core/kernels/linalg/svd_op_impl.h:110] Eigen::BDCSVD failed with error code 3\n",
      "2023-02-03 00:17:07.131827: E ./tensorflow/core/kernels/linalg/svd_op_impl.h:110] Eigen::BDCSVD failed with error code 3\n",
      "2023-02-03 00:17:07.187763: E ./tensorflow/core/kernels/linalg/svd_op_impl.h:110] Eigen::BDCSVD failed with error code 3\n",
      "2023-02-03 00:17:07.280524: E ./tensorflow/core/kernels/linalg/svd_op_impl.h:110] Eigen::BDCSVD failed with error code 3\n",
      "2023-02-03 00:17:07.335583: E ./tensorflow/core/kernels/linalg/svd_op_impl.h:110] Eigen::BDCSVD failed with error code 3\n",
      "2023-02-03 00:17:07.350470: E ./tensorflow/core/kernels/linalg/svd_op_impl.h:110] Eigen::BDCSVD failed with error code 3\n",
      "2023-02-03 00:17:07.364664: E ./tensorflow/core/kernels/linalg/svd_op_impl.h:110] Eigen::BDCSVD failed with error code 3\n",
      "2023-02-03 00:17:07.457537: E ./tensorflow/core/kernels/linalg/svd_op_impl.h:110] Eigen::BDCSVD failed with error code 3\n",
      "2023-02-03 00:17:07.512642: E ./tensorflow/core/kernels/linalg/svd_op_impl.h:110] Eigen::BDCSVD failed with error code 3\n",
      "2023-02-03 00:17:07.568535: E ./tensorflow/core/kernels/linalg/svd_op_impl.h:110] Eigen::BDCSVD failed with error code 3\n",
      "2023-02-03 00:17:07.583313: E ./tensorflow/core/kernels/linalg/svd_op_impl.h:110] Eigen::BDCSVD failed with error code 3\n",
      "2023-02-03 00:17:07.676378: E ./tensorflow/core/kernels/linalg/svd_op_impl.h:110] Eigen::BDCSVD failed with error code 3\n",
      "2023-02-03 00:17:07.731402: E ./tensorflow/core/kernels/linalg/svd_op_impl.h:110] Eigen::BDCSVD failed with error code 3\n",
      "2023-02-03 00:17:07.746612: E ./tensorflow/core/kernels/linalg/svd_op_impl.h:110] Eigen::BDCSVD failed with error code 3\n",
      "2023-02-03 00:17:07.760688: E ./tensorflow/core/kernels/linalg/svd_op_impl.h:110] Eigen::BDCSVD failed with error code 3\n",
      "2023-02-03 00:17:07.854095: E ./tensorflow/core/kernels/linalg/svd_op_impl.h:110] Eigen::BDCSVD failed with error code 3\n",
      "2023-02-03 00:17:07.908567: E ./tensorflow/core/kernels/linalg/svd_op_impl.h:110] Eigen::BDCSVD failed with error code 3\n",
      "2023-02-03 00:17:07.923888: E ./tensorflow/core/kernels/linalg/svd_op_impl.h:110] Eigen::BDCSVD failed with error code 3\n",
      "2023-02-03 00:17:07.937691: E ./tensorflow/core/kernels/linalg/svd_op_impl.h:110] Eigen::BDCSVD failed with error code 3\n",
      "2023-02-03 00:17:08.028403: E ./tensorflow/core/kernels/linalg/svd_op_impl.h:110] Eigen::BDCSVD failed with error code 3\n",
      "2023-02-03 00:17:08.162383: E ./tensorflow/core/kernels/linalg/svd_op_impl.h:110] Eigen::BDCSVD failed with error code 3\n",
      "2023-02-03 00:17:08.178873: E ./tensorflow/core/kernels/linalg/svd_op_impl.h:110] Eigen::BDCSVD failed with error code 3\n",
      "2023-02-03 00:17:08.269472: E ./tensorflow/core/kernels/linalg/svd_op_impl.h:110] Eigen::BDCSVD failed with error code 3\n",
      "2023-02-03 00:17:08.284773: E ./tensorflow/core/kernels/linalg/svd_op_impl.h:110] Eigen::BDCSVD failed with error code 3\n",
      "2023-02-03 00:17:08.299322: E ./tensorflow/core/kernels/linalg/svd_op_impl.h:110] Eigen::BDCSVD failed with error code 3\n",
      "2023-02-03 00:17:08.313664: E ./tensorflow/core/kernels/linalg/svd_op_impl.h:110] Eigen::BDCSVD failed with error code 3\n",
      "2023-02-03 00:17:08.367936: E ./tensorflow/core/kernels/linalg/svd_op_impl.h:110] Eigen::BDCSVD failed with error code 3\n",
      "2023-02-03 00:17:08.423771: E ./tensorflow/core/kernels/linalg/svd_op_impl.h:110] Eigen::BDCSVD failed with error code 3\n",
      "2023-02-03 00:17:08.597304: E ./tensorflow/core/kernels/linalg/svd_op_impl.h:110] Eigen::BDCSVD failed with error code 3\n",
      "2023-02-03 00:17:08.650334: E ./tensorflow/core/kernels/linalg/svd_op_impl.h:110] Eigen::BDCSVD failed with error code 3\n",
      "2023-02-03 00:17:08.665687: E ./tensorflow/core/kernels/linalg/svd_op_impl.h:110] Eigen::BDCSVD failed with error code 3\n",
      "2023-02-03 00:17:08.759546: E ./tensorflow/core/kernels/linalg/svd_op_impl.h:110] Eigen::BDCSVD failed with error code 3\n",
      "2023-02-03 00:17:08.815440: E ./tensorflow/core/kernels/linalg/svd_op_impl.h:110] Eigen::BDCSVD failed with error code 3\n",
      "2023-02-03 00:17:08.830766: E ./tensorflow/core/kernels/linalg/svd_op_impl.h:110] Eigen::BDCSVD failed with error code 3\n",
      "2023-02-03 00:17:08.844766: E ./tensorflow/core/kernels/linalg/svd_op_impl.h:110] Eigen::BDCSVD failed with error code 3\n",
      "2023-02-03 00:17:08.859099: E ./tensorflow/core/kernels/linalg/svd_op_impl.h:110] Eigen::BDCSVD failed with error code 3\n",
      "2023-02-03 00:17:09.032291: E ./tensorflow/core/kernels/linalg/svd_op_impl.h:110] Eigen::BDCSVD failed with error code 3\n",
      "2023-02-03 00:17:09.126061: E ./tensorflow/core/kernels/linalg/svd_op_impl.h:110] Eigen::BDCSVD failed with error code 3\n",
      "2023-02-03 00:17:09.181543: E ./tensorflow/core/kernels/linalg/svd_op_impl.h:110] Eigen::BDCSVD failed with error code 3\n",
      "2023-02-03 00:17:09.316480: E ./tensorflow/core/kernels/linalg/svd_op_impl.h:110] Eigen::BDCSVD failed with error code 3\n",
      "2023-02-03 00:17:09.412244: E ./tensorflow/core/kernels/linalg/svd_op_impl.h:110] Eigen::BDCSVD failed with error code 3\n",
      "2023-02-03 00:17:09.427342: E ./tensorflow/core/kernels/linalg/svd_op_impl.h:110] Eigen::BDCSVD failed with error code 3\n",
      "2023-02-03 00:17:09.521021: E ./tensorflow/core/kernels/linalg/svd_op_impl.h:110] Eigen::BDCSVD failed with error code 3\n",
      "2023-02-03 00:17:09.536444: E ./tensorflow/core/kernels/linalg/svd_op_impl.h:110] Eigen::BDCSVD failed with error code 3\n",
      "2023-02-03 00:17:09.667960: E ./tensorflow/core/kernels/linalg/svd_op_impl.h:110] Eigen::BDCSVD failed with error code 3\n",
      "2023-02-03 00:17:09.762018: E ./tensorflow/core/kernels/linalg/svd_op_impl.h:110] Eigen::BDCSVD failed with error code 3\n",
      "2023-02-03 00:17:09.776721: E ./tensorflow/core/kernels/linalg/svd_op_impl.h:110] Eigen::BDCSVD failed with error code 3\n",
      "2023-02-03 00:17:09.830215: E ./tensorflow/core/kernels/linalg/svd_op_impl.h:110] Eigen::BDCSVD failed with error code 3\n",
      "2023-02-03 00:17:09.845401: E ./tensorflow/core/kernels/linalg/svd_op_impl.h:110] Eigen::BDCSVD failed with error code 3\n",
      "2023-02-03 00:17:09.860492: E ./tensorflow/core/kernels/linalg/svd_op_impl.h:110] Eigen::BDCSVD failed with error code 3\n",
      "2023-02-03 00:17:09.995750: E ./tensorflow/core/kernels/linalg/svd_op_impl.h:110] Eigen::BDCSVD failed with error code 3\n",
      "2023-02-03 00:17:10.088478: E ./tensorflow/core/kernels/linalg/svd_op_impl.h:110] Eigen::BDCSVD failed with error code 3\n",
      "2023-02-03 00:17:10.104060: E ./tensorflow/core/kernels/linalg/svd_op_impl.h:110] Eigen::BDCSVD failed with error code 3\n",
      "2023-02-03 00:17:10.118031: E ./tensorflow/core/kernels/linalg/svd_op_impl.h:110] Eigen::BDCSVD failed with error code 3\n",
      "2023-02-03 00:17:10.211297: E ./tensorflow/core/kernels/linalg/svd_op_impl.h:110] Eigen::BDCSVD failed with error code 3\n",
      "2023-02-03 00:17:10.226720: E ./tensorflow/core/kernels/linalg/svd_op_impl.h:110] Eigen::BDCSVD failed with error code 3\n",
      "2023-02-03 00:17:10.241469: E ./tensorflow/core/kernels/linalg/svd_op_impl.h:110] Eigen::BDCSVD failed with error code 3\n",
      "2023-02-03 00:17:10.256238: E ./tensorflow/core/kernels/linalg/svd_op_impl.h:110] Eigen::BDCSVD failed with error code 3\n",
      "2023-02-03 00:17:10.386063: E ./tensorflow/core/kernels/linalg/svd_op_impl.h:110] Eigen::BDCSVD failed with error code 3\n",
      "2023-02-03 00:17:10.401507: E ./tensorflow/core/kernels/linalg/svd_op_impl.h:110] Eigen::BDCSVD failed with error code 3\n",
      "2023-02-03 00:17:10.417093: E ./tensorflow/core/kernels/linalg/svd_op_impl.h:110] Eigen::BDCSVD failed with error code 3\n",
      "2023-02-03 00:17:10.472858: E ./tensorflow/core/kernels/linalg/svd_op_impl.h:110] Eigen::BDCSVD failed with error code 3\n",
      "2023-02-03 00:17:10.489175: E ./tensorflow/core/kernels/linalg/svd_op_impl.h:110] Eigen::BDCSVD failed with error code 3\n",
      "2023-02-03 00:17:10.503873: E ./tensorflow/core/kernels/linalg/svd_op_impl.h:110] Eigen::BDCSVD failed with error code 3\n",
      "2023-02-03 00:17:10.519645: E ./tensorflow/core/kernels/linalg/svd_op_impl.h:110] Eigen::BDCSVD failed with error code 3\n"
     ]
    },
    {
     "name": "stderr",
     "output_type": "stream",
     "text": [
      "2023-02-03 00:17:10.693569: E ./tensorflow/core/kernels/linalg/svd_op_impl.h:110] Eigen::BDCSVD failed with error code 3\n",
      "2023-02-03 00:17:10.708638: E ./tensorflow/core/kernels/linalg/svd_op_impl.h:110] Eigen::BDCSVD failed with error code 3\n",
      "2023-02-03 00:17:10.880014: E ./tensorflow/core/kernels/linalg/svd_op_impl.h:110] Eigen::BDCSVD failed with error code 3\n",
      "2023-02-03 00:17:10.895651: E ./tensorflow/core/kernels/linalg/svd_op_impl.h:110] Eigen::BDCSVD failed with error code 3\n",
      "2023-02-03 00:17:10.912167: E ./tensorflow/core/kernels/linalg/svd_op_impl.h:110] Eigen::BDCSVD failed with error code 3\n",
      "2023-02-03 00:17:10.927180: E ./tensorflow/core/kernels/linalg/svd_op_impl.h:110] Eigen::BDCSVD failed with error code 3\n",
      "2023-02-03 00:17:10.941440: E ./tensorflow/core/kernels/linalg/svd_op_impl.h:110] Eigen::BDCSVD failed with error code 3\n",
      "2023-02-03 00:17:10.955713: E ./tensorflow/core/kernels/linalg/svd_op_impl.h:110] Eigen::BDCSVD failed with error code 3\n",
      "2023-02-03 00:17:11.050543: E ./tensorflow/core/kernels/linalg/svd_op_impl.h:110] Eigen::BDCSVD failed with error code 3\n",
      "2023-02-03 00:17:11.065969: E ./tensorflow/core/kernels/linalg/svd_op_impl.h:110] Eigen::BDCSVD failed with error code 3\n",
      "2023-02-03 00:17:11.080284: E ./tensorflow/core/kernels/linalg/svd_op_impl.h:110] Eigen::BDCSVD failed with error code 3\n",
      "2023-02-03 00:17:11.136864: E ./tensorflow/core/kernels/linalg/svd_op_impl.h:110] Eigen::BDCSVD failed with error code 3\n",
      "2023-02-03 00:17:11.151908: E ./tensorflow/core/kernels/linalg/svd_op_impl.h:110] Eigen::BDCSVD failed with error code 3\n",
      "2023-02-03 00:17:11.166016: E ./tensorflow/core/kernels/linalg/svd_op_impl.h:110] Eigen::BDCSVD failed with error code 3\n",
      "2023-02-03 00:17:11.180359: E ./tensorflow/core/kernels/linalg/svd_op_impl.h:110] Eigen::BDCSVD failed with error code 3\n",
      "2023-02-03 00:17:11.194507: E ./tensorflow/core/kernels/linalg/svd_op_impl.h:110] Eigen::BDCSVD failed with error code 3\n",
      "2023-02-03 00:17:11.522750: E ./tensorflow/core/kernels/linalg/svd_op_impl.h:110] Eigen::BDCSVD failed with error code 3\n",
      "2023-02-03 00:17:11.577436: E ./tensorflow/core/kernels/linalg/svd_op_impl.h:110] Eigen::BDCSVD failed with error code 3\n",
      "2023-02-03 00:17:11.592482: E ./tensorflow/core/kernels/linalg/svd_op_impl.h:110] Eigen::BDCSVD failed with error code 3\n",
      "2023-02-03 00:17:11.606938: E ./tensorflow/core/kernels/linalg/svd_op_impl.h:110] Eigen::BDCSVD failed with error code 3\n",
      "2023-02-03 00:17:11.661937: E ./tensorflow/core/kernels/linalg/svd_op_impl.h:110] Eigen::BDCSVD failed with error code 3\n",
      "2023-02-03 00:17:11.676837: E ./tensorflow/core/kernels/linalg/svd_op_impl.h:110] Eigen::BDCSVD failed with error code 3\n",
      "2023-02-03 00:17:11.810248: E ./tensorflow/core/kernels/linalg/svd_op_impl.h:110] Eigen::BDCSVD failed with error code 3\n",
      "2023-02-03 00:17:11.865096: E ./tensorflow/core/kernels/linalg/svd_op_impl.h:110] Eigen::BDCSVD failed with error code 3\n",
      "2023-02-03 00:17:11.879975: E ./tensorflow/core/kernels/linalg/svd_op_impl.h:110] Eigen::BDCSVD failed with error code 3\n",
      "2023-02-03 00:17:11.893993: E ./tensorflow/core/kernels/linalg/svd_op_impl.h:110] Eigen::BDCSVD failed with error code 3\n",
      "2023-02-03 00:17:11.908053: E ./tensorflow/core/kernels/linalg/svd_op_impl.h:110] Eigen::BDCSVD failed with error code 3\n",
      "2023-02-03 00:17:11.922206: E ./tensorflow/core/kernels/linalg/svd_op_impl.h:110] Eigen::BDCSVD failed with error code 3\n",
      "2023-02-03 00:17:12.014648: E ./tensorflow/core/kernels/linalg/svd_op_impl.h:110] Eigen::BDCSVD failed with error code 3\n",
      "2023-02-03 00:17:12.031382: E ./tensorflow/core/kernels/linalg/svd_op_impl.h:110] Eigen::BDCSVD failed with error code 3\n",
      "2023-02-03 00:17:12.046466: E ./tensorflow/core/kernels/linalg/svd_op_impl.h:110] Eigen::BDCSVD failed with error code 3\n",
      "2023-02-03 00:17:12.060961: E ./tensorflow/core/kernels/linalg/svd_op_impl.h:110] Eigen::BDCSVD failed with error code 3\n",
      "2023-02-03 00:17:12.154358: E ./tensorflow/core/kernels/linalg/svd_op_impl.h:110] Eigen::BDCSVD failed with error code 3\n",
      "2023-02-03 00:17:12.169902: E ./tensorflow/core/kernels/linalg/svd_op_impl.h:110] Eigen::BDCSVD failed with error code 3\n",
      "2023-02-03 00:17:12.265115: E ./tensorflow/core/kernels/linalg/svd_op_impl.h:110] Eigen::BDCSVD failed with error code 3\n",
      "2023-02-03 00:17:12.279934: E ./tensorflow/core/kernels/linalg/svd_op_impl.h:110] Eigen::BDCSVD failed with error code 3\n",
      "2023-02-03 00:17:12.293718: E ./tensorflow/core/kernels/linalg/svd_op_impl.h:110] Eigen::BDCSVD failed with error code 3\n",
      "2023-02-03 00:17:12.308634: E ./tensorflow/core/kernels/linalg/svd_op_impl.h:110] Eigen::BDCSVD failed with error code 3\n",
      "2023-02-03 00:17:12.322370: E ./tensorflow/core/kernels/linalg/svd_op_impl.h:110] Eigen::BDCSVD failed with error code 3\n",
      "2023-02-03 00:17:12.414010: E ./tensorflow/core/kernels/linalg/svd_op_impl.h:110] Eigen::BDCSVD failed with error code 3\n",
      "2023-02-03 00:17:12.429850: E ./tensorflow/core/kernels/linalg/svd_op_impl.h:110] Eigen::BDCSVD failed with error code 3\n",
      "2023-02-03 00:17:12.683598: E ./tensorflow/core/kernels/linalg/svd_op_impl.h:110] Eigen::BDCSVD failed with error code 3\n",
      "2023-02-03 00:17:12.698986: E ./tensorflow/core/kernels/linalg/svd_op_impl.h:110] Eigen::BDCSVD failed with error code 3\n",
      "2023-02-03 00:17:12.755351: E ./tensorflow/core/kernels/linalg/svd_op_impl.h:110] Eigen::BDCSVD failed with error code 3\n",
      "2023-02-03 00:17:12.771299: E ./tensorflow/core/kernels/linalg/svd_op_impl.h:110] Eigen::BDCSVD failed with error code 3\n",
      "2023-02-03 00:17:12.786366: E ./tensorflow/core/kernels/linalg/svd_op_impl.h:110] Eigen::BDCSVD failed with error code 3\n",
      "2023-02-03 00:17:12.802376: E ./tensorflow/core/kernels/linalg/svd_op_impl.h:110] Eigen::BDCSVD failed with error code 3\n",
      "2023-02-03 00:17:12.941085: E ./tensorflow/core/kernels/linalg/svd_op_impl.h:110] Eigen::BDCSVD failed with error code 3\n",
      "2023-02-03 00:17:12.956514: E ./tensorflow/core/kernels/linalg/svd_op_impl.h:110] Eigen::BDCSVD failed with error code 3\n",
      "2023-02-03 00:17:13.011296: E ./tensorflow/core/kernels/linalg/svd_op_impl.h:110] Eigen::BDCSVD failed with error code 3\n",
      "2023-02-03 00:17:13.026188: E ./tensorflow/core/kernels/linalg/svd_op_impl.h:110] Eigen::BDCSVD failed with error code 3\n",
      "2023-02-03 00:17:13.119786: E ./tensorflow/core/kernels/linalg/svd_op_impl.h:110] Eigen::BDCSVD failed with error code 3\n",
      "2023-02-03 00:17:13.134658: E ./tensorflow/core/kernels/linalg/svd_op_impl.h:110] Eigen::BDCSVD failed with error code 3\n",
      "2023-02-03 00:17:13.150038: E ./tensorflow/core/kernels/linalg/svd_op_impl.h:110] Eigen::BDCSVD failed with error code 3\n",
      "2023-02-03 00:17:13.206700: E ./tensorflow/core/kernels/linalg/svd_op_impl.h:110] Eigen::BDCSVD failed with error code 3\n"
     ]
    }
   ],
   "source": [
    "best_error = np.inf\n",
    "for C in C_good:\n",
    "    beta = -C*alpha\n",
    "    x_m_minus_2 = tf.linspace(x[1],x[-2],M-2)\n",
    "    k = 5.\n",
    "    S0,S1,S2 = S_matrices(x_m_minus_2,alpha,beta)\n",
    "    B0,B1 = B_matrices(np.array([x[0],x[-1]]),alpha,beta)\n",
    "\n",
    "    fg = np.zeros((M,1))\n",
    "    SB_matrix = np.zeros((M,neurons))\n",
    "    lhs_eqn = S2 + (4.*tf.pow(k*np.pi,2) - 1.)*S0\n",
    "    rhs_eqn = 4.*k*np.pi*tf.math.exp(x_m_minus_2)*tf.math.cos(2.*k*np.pi*x_m_minus_2)\n",
    "\n",
    "    lhs_BC =  B0\n",
    "    rhs_BC =  tf.zeros((2,1))\n",
    "    # \n",
    "\n",
    "    # First row == B0[0]\n",
    "    SB_matrix[0] = lhs_BC[0]\n",
    "    # Last row == B0[-1]\n",
    "    SB_matrix[-1] = lhs_BC[-1]\n",
    "    # inbetween == rhs_eqn\n",
    "    SB_matrix[1:-1] = lhs_eqn\n",
    "\n",
    "    # FG matrix\n",
    "    # First row == B0[0]\n",
    "    fg[0] = rhs_BC[0]\n",
    "    # Last row == B0[-1]\n",
    "    fg[-1] = rhs_BC[-1]\n",
    "    # inbetween == rhs_eqn\n",
    "    fg[1:-1] = rhs_eqn\n",
    "\n",
    "    weight = tf.linalg.pinv(SB_matrix)@fg\n",
    "    weight = tf.cast(weight, tf.float32)\n",
    "    u_hat = sigma(x, alpha, beta)@weight\n",
    "    u = lambda x: tf.math.exp(x)*tf.math.sin(2.*k*np.pi*x)\n",
    "    error = tf.norm(u_hat- u(x))\n",
    "    residue = SB_matrix@weight - fg\n",
    "    res_nrom = tf.norm(residue)\n",
    "    res_mse = tf.reduce_mean(tf.square(residue))\n",
    "    if error < best_error:\n",
    "        if C>0:\n",
    "            print(f'Residue Norm  : {res_nrom}')\n",
    "            print(f'Residue mse  : {res_mse}')\n",
    "            print(f'Error : {tf.norm(error)}') \n",
    "            best_error = error\n",
    "            C_best = C\n",
    "            print(f'C     : {C}\\n')              "
   ]
  },
  {
   "cell_type": "code",
   "execution_count": 9,
   "id": "4a681012",
   "metadata": {},
   "outputs": [
    {
     "name": "stdout",
     "output_type": "stream",
     "text": [
      "Residue Norm  : 1976.821044921875\n",
      "Residue mse  : 15631.28515625\n",
      "Error : 16.090185165405273\n",
      "mse Error  : 1.0355762243270874\n"
     ]
    },
    {
     "data": {
      "image/png": "[encoded data removed]",
      "text/plain": [
       "<Figure size 432x288 with 1 Axes>"
      ]
     },
     "metadata": {
      "needs_background": "light"
     },
     "output_type": "display_data"
    }
   ],
   "source": [
    "beta = -C_best*alpha\n",
    "x_m_minus_2 = tf.linspace(x[1],x[-2],M-2)\n",
    "k = 5.\n",
    "S0,S1,S2 = S_matrices(x_m_minus_2,alpha,beta)\n",
    "B0,B1 = B_matrices(np.array([x[0],x[-1]]),alpha,beta)\n",
    "\n",
    "fg = np.zeros((M,1))\n",
    "SB_matrix = np.zeros((M,neurons))\n",
    "lhs_eqn = S2 + (4.*tf.pow(k*np.pi,2) - 1.)*S0\n",
    "rhs_eqn = 4.*k*np.pi*tf.math.exp(x_m_minus_2)*tf.math.cos(2.*k*np.pi*x_m_minus_2)\n",
    "\n",
    "lhs_BC =  B0\n",
    "rhs_BC =  tf.zeros((2,1))\n",
    "# \n",
    "\n",
    "# First row == B0[0]\n",
    "SB_matrix[0] = lhs_BC[0]\n",
    "# Last row == B0[-1]\n",
    "SB_matrix[-1] = lhs_BC[-1]\n",
    "# inbetween == rhs_eqn\n",
    "SB_matrix[1:-1] = lhs_eqn\n",
    "\n",
    "# FG matrix\n",
    "# First row == B0[0]\n",
    "fg[0] = rhs_BC[0]\n",
    "# Last row == B0[-1]\n",
    "fg[-1] = rhs_BC[-1]\n",
    "# inbetween == rhs_eqn\n",
    "fg[1:-1] = rhs_eqn\n",
    "\n",
    "weight = tf.linalg.pinv(SB_matrix)@fg\n",
    "weight = tf.cast(weight, tf.float32)\n",
    "u_hat = sigma(x, alpha, beta)@weight\n",
    "u = lambda x: tf.math.exp(x)*tf.math.sin(2.*k*np.pi*x)\n",
    "error = tf.norm(u_hat- u(x))\n",
    "mse = tf.reduce_mean(tf.square(u_hat- u(x)))\n",
    "residue = SB_matrix@weight - fg\n",
    "res_nrom = tf.norm(residue)\n",
    "res_mse = tf.reduce_mean(tf.square(residue))\n",
    "print(f'Residue Norm  : {res_nrom}')\n",
    "print(f'Residue mse  : {res_mse}')\n",
    "print(f'Error : {tf.norm(error)}') \n",
    "print(f'mse Error  : {mse}')\n",
    "plt.plot(x,u(x))\n",
    "plt.plot(x,u_hat, 'r--')\n",
    "plt.show()              \n",
    "                "
   ]
  },
  {
   "cell_type": "code",
   "execution_count": 42,
   "id": "12b0e0d5",
   "metadata": {},
   "outputs": [
    {
     "data": {
      "text/plain": [
       "((2, 1), (2, 4))"
      ]
     },
     "execution_count": 42,
     "metadata": {},
     "output_type": "execute_result"
    }
   ],
   "source": [
    "fg.shape,SB_matrix.shape"
   ]
  },
  {
   "cell_type": "code",
   "execution_count": 43,
   "id": "2298547d",
   "metadata": {},
   "outputs": [
    {
     "data": {
      "text/plain": [
       "<tf.Tensor: shape=(4, 2), dtype=float64, numpy=\n",
       "array([[ 16.14932338,   0.12337641],\n",
       "       [ 43.40875412,  -0.09734484],\n",
       "       [-29.44526512,   0.48869309],\n",
       "       [-31.1011581 ,   0.50230512]])>"
      ]
     },
     "execution_count": 43,
     "metadata": {},
     "output_type": "execute_result"
    }
   ],
   "source": [
    "tf.linalg.pinv(SB_matrix)"
   ]
  },
  {
   "cell_type": "code",
   "execution_count": 67,
   "id": "db218697",
   "metadata": {},
   "outputs": [
    {
     "data": {
      "image/png": "[encoded data removed]",
      "text/plain": [
       "<Figure size 432x288 with 1 Axes>"
      ]
     },
     "metadata": {
      "needs_background": "light"
     },
     "output_type": "display_data"
    }
   ],
   "source": []
  },
  {
   "cell_type": "code",
   "execution_count": 65,
   "id": "55118fe3",
   "metadata": {},
   "outputs": [
    {
     "data": {
      "text/plain": [
       "(20, 41)"
      ]
     },
     "execution_count": 65,
     "metadata": {},
     "output_type": "execute_result"
    }
   ],
   "source": [
    "new_SB = np.zeros(shape = (M,neurons))\n",
    "new_SB.shape"
   ]
  },
  {
   "cell_type": "code",
   "execution_count": null,
   "id": "794a54b5",
   "metadata": {},
   "outputs": [],
   "source": [
    "r,c = new_SB.shape[0],new_SB.shape[1]\n",
    "for row in range(r):\n",
    "    if row == 0:\n",
    "        new_SB[row] = lhs_BC[row]\n",
    "    elif row == new_SB.shape[0] - 1:  \n",
    "        new_SB[row] = lhs_BC[-1]"
   ]
  },
  {
   "cell_type": "code",
   "execution_count": 428,
   "id": "b4f5b8e5",
   "metadata": {},
   "outputs": [
    {
     "data": {
      "text/plain": [
       "(100,)"
      ]
     },
     "execution_count": 428,
     "metadata": {},
     "output_type": "execute_result"
    }
   ],
   "source": [
    "new_SB[0].shape"
   ]
  },
  {
   "cell_type": "code",
   "execution_count": 429,
   "id": "a5f44259",
   "metadata": {},
   "outputs": [
    {
     "data": {
      "text/plain": [
       "TensorShape([100])"
      ]
     },
     "execution_count": 429,
     "metadata": {},
     "output_type": "execute_result"
    }
   ],
   "source": [
    "lhs_BC[0].shape"
   ]
  },
  {
   "cell_type": "code",
   "execution_count": 431,
   "id": "67efd27d",
   "metadata": {},
   "outputs": [],
   "source": [
    "new_SB[0] = lhs_BC[0]\n",
    "new_SB[-1]= lhs_BC[-1]"
   ]
  },
  {
   "cell_type": "code",
   "execution_count": 445,
   "id": "2760237d",
   "metadata": {},
   "outputs": [
    {
     "data": {
      "text/plain": [
       "<tf.Tensor: shape=(), dtype=bool, numpy=True>"
      ]
     },
     "execution_count": 445,
     "metadata": {},
     "output_type": "execute_result"
    }
   ],
   "source": [
    "tf.reduce_all(new_SB[1:-1] == lhs_eqn)"
   ]
  },
  {
   "cell_type": "code",
   "execution_count": 412,
   "id": "77f17e4f",
   "metadata": {},
   "outputs": [
    {
     "data": {
      "text/plain": [
       "<tf.Tensor: shape=(50, 100), dtype=float32, numpy=\n",
       "array([[1.1737227e+00, 2.3880198e+01, 9.2181482e+00, ..., 1.1251283e+00,\n",
       "        3.0336025e+00, 2.8613085e+01],\n",
       "       [1.4259485e+00, 2.3689878e+01, 9.5743074e+00, ..., 1.3709230e+00,\n",
       "        3.4274979e+00, 2.8272150e+01],\n",
       "       [1.7300310e+00, 2.3498653e+01, 9.9387808e+00, ..., 1.6682122e+00,\n",
       "        3.8648982e+00, 2.7924314e+01],\n",
       "       ...,\n",
       "       [3.7304699e+01, 1.4598227e+01, 2.9260271e+01, ..., 3.7353287e+01,\n",
       "        3.5444817e+01, 9.8653326e+00],\n",
       "       [7.2437488e-03, 6.2720788e-01, 2.1352848e-01, ..., 6.7874691e-03,\n",
       "        3.4010451e-02, 7.6627004e-01],\n",
       "       [9.9275631e-01, 3.7279215e-01, 7.8647149e-01, ..., 9.9321246e-01,\n",
       "        9.6598959e-01, 2.3372991e-01]], dtype=float32)>"
      ]
     },
     "execution_count": 412,
     "metadata": {},
     "output_type": "execute_result"
    }
   ],
   "source": [
    "LHS"
   ]
  },
  {
   "cell_type": "code",
   "execution_count": 404,
   "id": "55d9acdb",
   "metadata": {},
   "outputs": [
    {
     "data": {
      "text/plain": [
       "TensorShape([50, 100])"
      ]
     },
     "execution_count": 404,
     "metadata": {},
     "output_type": "execute_result"
    }
   ],
   "source": [
    "LHS = tf.concat([lhs_eqn,lhs_BC],axis = 0)\n",
    "LHS.shape"
   ]
  },
  {
   "cell_type": "code",
   "execution_count": 397,
   "id": "858b7ae7",
   "metadata": {},
   "outputs": [
    {
     "data": {
      "text/plain": [
       "TensorShape([4, 100])"
      ]
     },
     "execution_count": 397,
     "metadata": {},
     "output_type": "execute_result"
    }
   ],
   "source": [
    "RHS = tf.concat([lhs_BC, rhs],axis = 0)\n",
    "RHS.shape"
   ]
  },
  {
   "cell_type": "code",
   "execution_count": 400,
   "id": "9e72dd19",
   "metadata": {},
   "outputs": [
    {
     "data": {
      "text/plain": [
       "<tf.Tensor: shape=(4, 100), dtype=float32, numpy=\n",
       "array([[0.00724375, 0.6272079 , 0.21352848, 0.801585  , 0.96115243,\n",
       "        0.67351145, 0.88514954, 0.02674913, 0.9973042 , 0.01589064,\n",
       "        0.9984901 , 0.5659067 , 0.510195  , 0.97246516, 0.00421547,\n",
       "        0.8130133 , 0.9935762 , 0.90384364, 0.9975593 , 0.8539658 ,\n",
       "        0.74346155, 0.8845339 , 0.1514901 , 0.6545472 , 0.5791359 ,\n",
       "        0.09567159, 0.4627746 , 0.85872096, 0.4624861 , 0.18535994,\n",
       "        0.52597934, 0.05640417, 0.02253815, 0.9945591 , 0.13838366,\n",
       "        0.0120892 , 0.9903025 , 0.9979346 , 0.03362466, 0.8409074 ,\n",
       "        0.00388385, 0.03618183, 0.02783983, 0.7500773 , 0.9461747 ,\n",
       "        0.00195814, 0.00395232, 0.03520233, 0.23388794, 0.00229428,\n",
       "        0.08415455, 0.00340514, 0.93978983, 0.0305384 , 0.12039144,\n",
       "        0.99599874, 0.79859173, 0.6034649 , 0.00315262, 0.98919934,\n",
       "        0.28998542, 0.92572224, 0.00160515, 0.09033588, 0.11669607,\n",
       "        0.9413936 , 0.39743632, 0.00396757, 0.22520904, 0.01728561,\n",
       "        0.00752859, 0.02492664, 0.9449426 , 0.01996568, 0.13438627,\n",
       "        0.7604265 , 0.9402785 , 0.06956637, 0.9917823 , 0.0529535 ,\n",
       "        0.01683647, 0.60874885, 0.9973339 , 0.99762267, 0.18797532,\n",
       "        0.97780263, 0.00388319, 0.37911412, 0.96753526, 0.32715303,\n",
       "        0.26198325, 0.7480934 , 0.80097777, 0.64558595, 0.2910385 ,\n",
       "        0.93894166, 0.9624142 , 0.00678747, 0.03401045, 0.76627004],\n",
       "       [0.9927563 , 0.37279215, 0.7864715 , 0.19841501, 0.03884757,\n",
       "        0.32648855, 0.11485046, 0.97325087, 0.00269577, 0.98410934,\n",
       "        0.00150987, 0.43409333, 0.48980498, 0.02753487, 0.99578446,\n",
       "        0.18698664, 0.00642383, 0.09615637, 0.00244064, 0.14603414,\n",
       "        0.25653848, 0.11546612, 0.8485099 , 0.3454528 , 0.4208641 ,\n",
       "        0.9043284 , 0.53722537, 0.14127904, 0.5375139 , 0.8146401 ,\n",
       "        0.47402066, 0.94359577, 0.9774619 , 0.00544085, 0.8616164 ,\n",
       "        0.98791075, 0.00969748, 0.00206538, 0.9663754 , 0.15909259,\n",
       "        0.99611616, 0.9638182 , 0.9721602 , 0.24992266, 0.05382534,\n",
       "        0.99804187, 0.9960477 , 0.9647977 , 0.766112  , 0.99770576,\n",
       "        0.9158455 , 0.99659485, 0.06021019, 0.9694616 , 0.8796086 ,\n",
       "        0.00400128, 0.20140828, 0.3965351 , 0.99684733, 0.01080064,\n",
       "        0.7100146 , 0.07427777, 0.9983948 , 0.90966415, 0.8833039 ,\n",
       "        0.05860635, 0.6025637 , 0.9960324 , 0.77479094, 0.98271435,\n",
       "        0.99247146, 0.9750734 , 0.05505744, 0.98003435, 0.8656137 ,\n",
       "        0.23957348, 0.05972153, 0.93043363, 0.00821772, 0.94704646,\n",
       "        0.98316354, 0.39125112, 0.00266619, 0.0023773 , 0.8120247 ,\n",
       "        0.02219737, 0.99611676, 0.6208859 , 0.03246481, 0.672847  ,\n",
       "        0.7380168 , 0.2519066 , 0.19902225, 0.35441408, 0.7089615 ,\n",
       "        0.06105836, 0.0375858 , 0.99321246, 0.9659896 , 0.23372991],\n",
       "       [0.        , 0.        , 0.        , 0.        , 0.        ,\n",
       "        0.        , 0.        , 0.        , 0.        , 0.        ,\n",
       "        0.        , 0.        , 0.        , 0.        , 0.        ,\n",
       "        0.        , 0.        , 0.        , 0.        , 0.        ,\n",
       "        0.        , 0.        , 0.        , 0.        , 0.        ,\n",
       "        0.        , 0.        , 0.        , 0.        , 0.        ,\n",
       "        0.        , 0.        , 0.        , 0.        , 0.        ,\n",
       "        0.        , 0.        , 0.        , 0.        , 0.        ,\n",
       "        0.        , 0.        , 0.        , 0.        , 0.        ,\n",
       "        0.        , 0.        , 0.        , 0.        , 0.        ,\n",
       "        0.        , 0.        , 0.        , 0.        , 0.        ,\n",
       "        0.        , 0.        , 0.        , 0.        , 0.        ,\n",
       "        0.        , 0.        , 0.        , 0.        , 0.        ,\n",
       "        0.        , 0.        , 0.        , 0.        , 0.        ,\n",
       "        0.        , 0.        , 0.        , 0.        , 0.        ,\n",
       "        0.        , 0.        , 0.        , 0.        , 0.        ,\n",
       "        0.        , 0.        , 0.        , 0.        , 0.        ,\n",
       "        0.        , 0.        , 0.        , 0.        , 0.        ,\n",
       "        0.        , 0.        , 0.        , 0.        , 0.        ,\n",
       "        0.        , 0.        , 0.        , 0.        , 0.        ],\n",
       "       [0.        , 0.        , 0.        , 0.        , 0.        ,\n",
       "        0.        , 0.        , 0.        , 0.        , 0.        ,\n",
       "        0.        , 0.        , 0.        , 0.        , 0.        ,\n",
       "        0.        , 0.        , 0.        , 0.        , 0.        ,\n",
       "        0.        , 0.        , 0.        , 0.        , 0.        ,\n",
       "        0.        , 0.        , 0.        , 0.        , 0.        ,\n",
       "        0.        , 0.        , 0.        , 0.        , 0.        ,\n",
       "        0.        , 0.        , 0.        , 0.        , 0.        ,\n",
       "        0.        , 0.        , 0.        , 0.        , 0.        ,\n",
       "        0.        , 0.        , 0.        , 0.        , 0.        ,\n",
       "        0.        , 0.        , 0.        , 0.        , 0.        ,\n",
       "        0.        , 0.        , 0.        , 0.        , 0.        ,\n",
       "        0.        , 0.        , 0.        , 0.        , 0.        ,\n",
       "        0.        , 0.        , 0.        , 0.        , 0.        ,\n",
       "        0.        , 0.        , 0.        , 0.        , 0.        ,\n",
       "        0.        , 0.        , 0.        , 0.        , 0.        ,\n",
       "        0.        , 0.        , 0.        , 0.        , 0.        ,\n",
       "        0.        , 0.        , 0.        , 0.        , 0.        ,\n",
       "        0.        , 0.        , 0.        , 0.        , 0.        ,\n",
       "        0.        , 0.        , 0.        , 0.        , 0.        ]],\n",
       "      dtype=float32)>"
      ]
     },
     "execution_count": 400,
     "metadata": {},
     "output_type": "execute_result"
    }
   ],
   "source": [
    "RHS"
   ]
  },
  {
   "cell_type": "code",
   "execution_count": null,
   "id": "dbe41d59",
   "metadata": {},
   "outputs": [],
   "source": []
  },
  {
   "cell_type": "code",
   "execution_count": 81,
   "id": "b7767bea",
   "metadata": {},
   "outputs": [
    {
     "data": {
      "text/plain": [
       "<matplotlib.collections.LineCollection at 0x7fbd04670d30>"
      ]
     },
     "execution_count": 81,
     "metadata": {},
     "output_type": "execute_result"
    },
    {
     "data": {
      "image/png": "[encoded data removed]",
      "text/plain": [
       "<Figure size 432x288 with 1 Axes>"
      ]
     },
     "metadata": {
      "needs_background": "light"
     },
     "output_type": "display_data"
    }
   ],
   "source": [
    "sigma = lambda x,alpha,beta : 1./(1.+ tf.math.exp(-alpha*x -beta ))\n",
    "alpha = 100.\n",
    "beta = -80.\n",
    "# plt.plot(x,sigma( x,alpha,beta),'o' )\n",
    "# plt.vlines(x= - beta/alpha, ymin=0.0, ymax=1., colors='r' )\n",
    "\n",
    "alpha = 1.\n",
    "beta = -0.5\n",
    "plt.plot(x,sigma( x,alpha,beta),'g' )\n",
    "plt.vlines(x= - beta/alpha, ymin=0.0, ymax=1., colors='b' )"
   ]
  },
  {
   "cell_type": "code",
   "execution_count": 82,
   "id": "a95cace3",
   "metadata": {},
   "outputs": [],
   "source": [
    "with tf.GradientTape() as tape1:\n",
    "    tape1.watch(x)\n",
    "    with tf.GradientTape() as tape2:\n",
    "        tape2.watch(x)\n",
    "        sigma = sigma( x,alpha,beta)\n",
    "    sigma_x = tape2.gradient(sigma,x)\n",
    "sigma_xx = tape1.gradient(sigma_x,x)"
   ]
  },
  {
   "cell_type": "code",
   "execution_count": 83,
   "id": "c80c00ca",
   "metadata": {},
   "outputs": [
    {
     "data": {
      "text/plain": [
       "<matplotlib.collections.LineCollection at 0x7fbd045fb700>"
      ]
     },
     "execution_count": 83,
     "metadata": {},
     "output_type": "execute_result"
    },
    {
     "data": {
      "image/png": "[encoded data removed]",
      "text/plain": [
       "<Figure size 432x288 with 1 Axes>"
      ]
     },
     "metadata": {
      "needs_background": "light"
     },
     "output_type": "display_data"
    }
   ],
   "source": [
    "# plt.plot(x,sigma)\n",
    "plt.plot(x,sigma_xx)\n",
    "plt.vlines(x= - beta/alpha, ymin=-0.1, ymax=.6, colors='b' )\n",
    "plt.hlines(y = 0.0, xmin=0.0, xmax=1.,colors = 'red')"
   ]
  },
  {
   "cell_type": "code",
   "execution_count": 143,
   "id": "6f13dfc9",
   "metadata": {},
   "outputs": [
    {
     "data": {
      "text/plain": [
       "<tf.Tensor: shape=(50,), dtype=float32, numpy=\n",
       "array([ 6.055811  , -0.640316  ,  1.60466   , -1.7184372 , -3.9489079 ,\n",
       "       -0.89121246, -2.5133858 ,  4.4235573 , -7.277996  ,  5.078163  ,\n",
       "       -7.9928875 , -0.3263626 , -0.0501976 , -4.3869305 ,  6.72587   ,\n",
       "       -1.8088741 , -6.204672  , -2.757761  , -7.4006805 , -2.1736012 ,\n",
       "       -1.3095856 , -2.505949  ,  2.1205673 , -0.7865696 , -0.39289474,\n",
       "        2.7646408 ,  0.18360329, -2.221178  ,  0.18503189,  1.8220882 ,\n",
       "       -0.12801361,  3.467268  ,  4.6396923 , -6.4102936 ,  2.2508068 ,\n",
       "        5.419422  , -5.693716  , -7.606613  ,  4.1332836 , -2.0492249 ,\n",
       "        6.8271236 ,  4.03981   ,  4.3729877 , -1.3526459 , -3.528225  ,\n",
       "        7.672367  ,  6.8055286 ,  4.0748386 ,  1.4602909 ,  7.4769707 ],\n",
       "      dtype=float32)>"
      ]
     },
     "execution_count": 143,
     "metadata": {},
     "output_type": "execute_result"
    }
   ],
   "source": []
  },
  {
   "cell_type": "code",
   "execution_count": 97,
   "id": "1531cee1",
   "metadata": {},
   "outputs": [
    {
     "data": {
      "text/plain": [
       "(<tf.Tensor: shape=(), dtype=float32, numpy=-0.48630977>,\n",
       " <tf.Tensor: shape=(), dtype=float32, numpy=0.48630977>)"
      ]
     },
     "execution_count": 97,
     "metadata": {},
     "output_type": "execute_result"
    }
   ],
   "source": [
    "-2.945/alpha_i, 2.945/alpha_i"
   ]
  },
  {
   "cell_type": "code",
   "execution_count": 112,
   "id": "79df9498",
   "metadata": {},
   "outputs": [
    {
     "data": {
      "text/plain": [
       "<tf.Tensor: shape=(50,), dtype=float32, numpy=\n",
       "array([0.7337417 , 0.7376016 , 0.74142516, 0.74521226, 0.7489627 ,\n",
       "       0.7526763 , 0.7563527 , 0.75999206, 0.7635939 , 0.7671583 ,\n",
       "       0.77068514, 0.77417433, 0.7776257 , 0.7810391 , 0.78441477,\n",
       "       0.78775245, 0.79105234, 0.79431427, 0.7975383 , 0.80072445,\n",
       "       0.8038728 , 0.8069835 , 0.8100564 , 0.8130917 , 0.8160896 ,\n",
       "       0.81905   , 0.82197326, 0.8248593 , 0.8277084 , 0.83052075,\n",
       "       0.83329636, 0.8360355 , 0.8387383 , 0.84140503, 0.84403586,\n",
       "       0.84663105, 0.8491907 , 0.85171515, 0.8542046 , 0.8566593 ,\n",
       "       0.8590795 , 0.8614654 , 0.86381733, 0.86613554, 0.8684203 ,\n",
       "       0.87067187, 0.87289053, 0.8750767 , 0.87723047, 0.8793522 ],\n",
       "      dtype=float32)>"
      ]
     },
     "execution_count": 112,
     "metadata": {},
     "output_type": "execute_result"
    }
   ],
   "source": [
    "tf.nn.sigmoid(x_n)"
   ]
  },
  {
   "cell_type": "code",
   "execution_count": 116,
   "id": "cbd86197",
   "metadata": {},
   "outputs": [
    {
     "data": {
      "text/plain": [
       "<tf.Tensor: shape=(), dtype=float32, numpy=1.9863098>"
      ]
     },
     "execution_count": 116,
     "metadata": {},
     "output_type": "execute_result"
    }
   ],
   "source": [
    "C+(2.945/alpha_i)"
   ]
  },
  {
   "cell_type": "code",
   "execution_count": 133,
   "id": "d28362c2",
   "metadata": {},
   "outputs": [
    {
     "data": {
      "text/plain": [
       "[<matplotlib.lines.Line2D at 0x7fbcf93b8b80>]"
      ]
     },
     "execution_count": 133,
     "metadata": {},
     "output_type": "execute_result"
    },
    {
     "data": {
      "image/png": "[encoded data removed]",
      "text/plain": [
       "<Figure size 432x288 with 1 Axes>"
      ]
     },
     "metadata": {
      "needs_background": "light"
     },
     "output_type": "display_data"
    }
   ],
   "source": [
    "x_n = tf.linspace(C-(2.945/alpha_i),C+(2.945/alpha_i),100)[:,None]\n",
    "plt.plot(x_n, tf.nn.sigmoid(x_n))"
   ]
  },
  {
   "cell_type": "code",
   "execution_count": 120,
   "id": "d90cc1e1",
   "metadata": {},
   "outputs": [
    {
     "data": {
      "text/plain": [
       "array([], dtype=float64)"
      ]
     },
     "execution_count": 120,
     "metadata": {},
     "output_type": "execute_result"
    }
   ],
   "source": [
    "np.intersect1d([1, 3, 4, 3], [3.5, 0.5, 2, 1.5])\n"
   ]
  },
  {
   "cell_type": "code",
   "execution_count": 140,
   "id": "50648c04",
   "metadata": {
    "scrolled": true
   },
   "outputs": [
    {
     "data": {
      "text/plain": [
       "array([], dtype=float32)"
      ]
     },
     "execution_count": 140,
     "metadata": {},
     "output_type": "execute_result"
    }
   ],
   "source": [
    "np.intersect1d(x,x_n)"
   ]
  },
  {
   "cell_type": "code",
   "execution_count": 107,
   "id": "d792f29b",
   "metadata": {},
   "outputs": [
    {
     "data": {
      "text/plain": [
       "<matplotlib.collections.LineCollection at 0x7fbcf9dae130>"
      ]
     },
     "execution_count": 107,
     "metadata": {},
     "output_type": "execute_result"
    },
    {
     "data": {
      "image/png": "[encoded data removed]",
      "text/plain": [
       "<Figure size 432x288 with 1 Axes>"
      ]
     },
     "metadata": {
      "needs_background": "light"
     },
     "output_type": "display_data"
    }
   ],
   "source": [
    "C = 1.5\n",
    "plt.hlines(y = 0.0, xmin=C-(2.945/alpha_i), xmax=C + (2.945/alpha_i),colors = 'red')\n",
    "plt.hlines(y = 0.0, xmin=x[0], xmax=x[-1],colors = 'blue',linestyles='--')"
   ]
  },
  {
   "cell_type": "code",
   "execution_count": 74,
   "id": "ab21d7f3",
   "metadata": {},
   "outputs": [
    {
     "data": {
      "text/plain": [
       "(<tf.Tensor: shape=(1,), dtype=float32, numpy=array([0.], dtype=float32)>,\n",
       " <tf.Tensor: shape=(1,), dtype=float32, numpy=array([1.], dtype=float32)>)"
      ]
     },
     "execution_count": 74,
     "metadata": {},
     "output_type": "execute_result"
    }
   ],
   "source": [
    "x[0], x[-1]"
   ]
  },
  {
   "cell_type": "code",
   "execution_count": 104,
   "id": "51a9d7ce",
   "metadata": {},
   "outputs": [],
   "source": [
    "with tf.GradientTape() as tape1:\n",
    "    tape1.watch(x)\n",
    "    with tf.GradientTape() as tape2:\n",
    "        tape2.watch(x)\n",
    "        sigma = tf.nn.sigmoid(x)\n",
    "    sigma_x = tape2.gradient(sigma,x)\n",
    "sigma_xx = tape1.gradient(sigma_x,x)"
   ]
  },
  {
   "cell_type": "code",
   "execution_count": 107,
   "id": "8a233597",
   "metadata": {},
   "outputs": [
    {
     "data": {
      "image/png": "[encoded data removed]",
      "text/plain": [
       "<Figure size 432x288 with 1 Axes>"
      ]
     },
     "metadata": {
      "needs_background": "light"
     },
     "output_type": "display_data"
    }
   ],
   "source": [
    "plt.plot(x,sigma_xx,'o', label = 'sigma_xx')\n",
    "plt.plot(x,sigma_x, '--',label = 'sigma_x')\n",
    "# plt.plot(x,sigma, label = 'sigma')\n",
    "plt.legend()\n",
    "plt.show()"
   ]
  },
  {
   "cell_type": "code",
   "execution_count": 76,
   "id": "c07b4784",
   "metadata": {},
   "outputs": [
    {
     "data": {
      "text/plain": [
       "<tf.Tensor: shape=(), dtype=int64, numpy=0>"
      ]
     },
     "execution_count": 76,
     "metadata": {},
     "output_type": "execute_result"
    }
   ],
   "source": [
    "tf.argmin(tf.abs(sigma_xx))[0]"
   ]
  },
  {
   "cell_type": "code",
   "execution_count": null,
   "id": "3c6614eb",
   "metadata": {},
   "outputs": [],
   "source": [
    "with tf.GradientTape() as tape1:\n",
    "    tape1.watch(t)\n",
    "    with tf.GradientTape() as tape2:\n",
    "        tape2.watch(t)\n",
    "        y = self.constrained_expression(t,neurons,beta)\n",
    "    y_t = tape2.gradient(y,t)\n",
    "y_tt = tape1.gradient(y_t,t)"
   ]
  },
  {
   "cell_type": "code",
   "execution_count": null,
   "id": "786cc3aa",
   "metadata": {},
   "outputs": [],
   "source": [
    "def loss_function(self,t,neurons,beta):\n",
    "    with tf.GradientTape() as tape1:\n",
    "        tape1.watch(t)\n",
    "        with tf.GradientTape() as tape2:\n",
    "            tape2.watch(t)\n",
    "            y = self.constrained_expression(t,neurons,beta)\n",
    "        y_t = tape2.gradient(y,t)\n",
    "    y_tt = tape1.gradient(y_t,t)"
   ]
  },
  {
   "cell_type": "code",
   "execution_count": null,
   "id": "49d1165a",
   "metadata": {},
   "outputs": [],
   "source": [
    "\n",
    "\n",
    "def weights_biase_init(shape,neurons):\n",
    "    value = int((neurons - 10)/10) + 4\n",
    "\n",
    "    uniform_int_alpha = tf.initializers.RandomUniform(minval=-value, maxval=value,seed = 1)\n",
    "    uniform_int_beta = tf.initializers.RandomUniform(minval=-10, maxval=10,seed = 2)\n",
    "    \n",
    "#     weights = Xavier_Glorot_initializer(shape)\n",
    "    weights = uniform_int_alpha(shape)\n",
    "    bias = uniform_int_b((neurons,))    \n",
    "    return weights,bias\n",
    "\n",
    "def sigma(t,neurons):\n",
    "    num_cols = t.shape[-1]\n",
    "    shape = [num_cols,neurons]\n",
    "    weights,bias = weights_biase_init(shape,neurons)\n",
    "    sigma_matrix = tf.tanh(tf.matmul(t,weights)+bias)\n",
    "    beta,_ = weights_biase_init([neurons,1],neurons)\n",
    "    return beta,sigma_matrix"
   ]
  },
  {
   "cell_type": "code",
   "execution_count": null,
   "id": "b4daa75e",
   "metadata": {},
   "outputs": [],
   "source": [
    "def fun(x):\n",
    "    with tf.GradientTape() as tape1:\n",
    "        tape1.watch(x)\n",
    "        with tf.GradientTape() as tape2:\n",
    "            tape2.watch(x)\n",
    "            va = sigma(x,alpha,beta)\n",
    "        fir_der = tape2.gradient(va,x)\n",
    "    sigma_xx = tape1.gradient(fir_der,x)    \n",
    "    return sigma_xx\n",
    "\n",
    "def dfun(x):\n",
    "    with tf.GradientTape() as tape:\n",
    "        tape.watch(x)\n",
    "        func = fun(x)\n",
    "    dfunc = tape.gradient(func,x)\n",
    "    \n",
    "    return x - (func/dfunc)"
   ]
  }
 ],
 "metadata": {
  "kernelspec": {
   "display_name": "Python 3 (ipykernel)",
   "language": "python",
   "name": "python3"
  },
  "language_info": {
   "codemirror_mode": {
    "name": "ipython",
    "version": 3
   },
   "file_extension": ".py",
   "mimetype": "text/x-python",
   "name": "python",
   "nbconvert_exporter": "python",
   "pygments_lexer": "ipython3",
   "version": "3.8.13"
  }
 },
 "nbformat": 4,
 "nbformat_minor": 5
}
