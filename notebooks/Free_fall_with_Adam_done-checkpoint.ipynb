{
 "cells": [
  {
   "cell_type": "markdown",
   "id": "d53aa65a",
   "metadata": {},
   "source": [
    "## Research\n",
    "\n",
    "Normal vs truncated normal : https://stackoverflow.com/questions/41704484/what-is-difference-between-tf-truncated-normal-and-tf-random-normal"
   ]
  },
  {
   "cell_type": "code",
   "execution_count": 49,
   "id": "a4196321",
   "metadata": {},
   "outputs": [
    {
     "name": "stdout",
     "output_type": "stream",
     "text": [
      "/bin/bash: /home/tshegofatso/miniconda3/envs/tf_38gpu/lib/libtinfo.so.6: no version information available (required by /bin/bash)\n",
      "Requirement already satisfied: scikit-learn in /home/tshegofatso/.local/lib/python3.8/site-packages (1.1.3)\n",
      "Requirement already satisfied: numpy>=1.17.3 in /home/tshegofatso/.local/lib/python3.8/site-packages (from scikit-learn) (1.21.4)\n",
      "Collecting scipy>=1.3.2\n",
      "  Downloading scipy-1.9.3-cp38-cp38-manylinux_2_17_x86_64.manylinux2014_x86_64.whl (33.8 MB)\n",
      "\u001b[2K     \u001b[38;2;114;156;31m━━━━━━━━━━━━━━━━━━━━━━━━━━━━━━━━━━━━━━━━\u001b[0m \u001b[32m33.8/33.8 MB\u001b[0m \u001b[31m2.2 MB/s\u001b[0m eta \u001b[36m0:00:00\u001b[0mm eta \u001b[36m0:00:01\u001b[0m[36m0:00:01\u001b[0m\n",
      "\u001b[?25hRequirement already satisfied: joblib>=1.0.0 in /home/tshegofatso/.local/lib/python3.8/site-packages (from scikit-learn) (1.2.0)\n",
      "Requirement already satisfied: threadpoolctl>=2.0.0 in /home/tshegofatso/.local/lib/python3.8/site-packages (from scikit-learn) (3.1.0)\n",
      "Installing collected packages: scipy\n",
      "Successfully installed scipy-1.9.3\n"
     ]
    }
   ],
   "source": [
    "!pip install -U scikit-learn"
   ]
  },
  {
   "cell_type": "code",
   "execution_count": 2,
   "id": "0aeabe4a",
   "metadata": {},
   "outputs": [],
   "source": [
    "import numpy as np\n",
    "from sklearn import preprocessing"
   ]
  },
  {
   "cell_type": "code",
   "execution_count": 3,
   "id": "3cc82408",
   "metadata": {},
   "outputs": [
    {
     "name": "stderr",
     "output_type": "stream",
     "text": [
      "2022-11-10 23:14:18.810913: I tensorflow/core/platform/cpu_feature_guard.cc:193] This TensorFlow binary is optimized with oneAPI Deep Neural Network Library (oneDNN) to use the following CPU instructions in performance-critical operations:  AVX2 AVX512F AVX512_VNNI FMA\n",
      "To enable them in other operations, rebuild TensorFlow with the appropriate compiler flags.\n",
      "2022-11-10 23:14:18.892378: I tensorflow/core/util/util.cc:169] oneDNN custom operations are on. You may see slightly different numerical results due to floating-point round-off errors from different computation orders. To turn them off, set the environment variable `TF_ENABLE_ONEDNN_OPTS=0`.\n",
      "2022-11-10 23:14:18.913576: E tensorflow/stream_executor/cuda/cuda_blas.cc:2981] Unable to register cuBLAS factory: Attempting to register factory for plugin cuBLAS when one has already been registered\n",
      "2022-11-10 23:14:19.223239: W tensorflow/stream_executor/platform/default/dso_loader.cc:64] Could not load dynamic library 'libnvinfer.so.7'; dlerror: libnvinfer.so.7: cannot open shared object file: No such file or directory; LD_LIBRARY_PATH: /usr/local/cuda-11.2/lib64:/home/tshegofatso/miniconda3/envs/tf_38gpu/lib/\n",
      "2022-11-10 23:14:19.223282: W tensorflow/stream_executor/platform/default/dso_loader.cc:64] Could not load dynamic library 'libnvinfer_plugin.so.7'; dlerror: libnvinfer_plugin.so.7: cannot open shared object file: No such file or directory; LD_LIBRARY_PATH: /usr/local/cuda-11.2/lib64:/home/tshegofatso/miniconda3/envs/tf_38gpu/lib/\n",
      "2022-11-10 23:14:19.223286: W tensorflow/compiler/tf2tensorrt/utils/py_utils.cc:38] TF-TRT Warning: Cannot dlopen some TensorRT libraries. If you would like to use Nvidia GPU with TensorRT, please make sure the missing libraries mentioned above are installed properly.\n"
     ]
    }
   ],
   "source": [
    "import tensorflow as tf\n",
    "from functools import partial\n",
    "import matplotlib.pyplot as plt"
   ]
  },
  {
   "cell_type": "code",
   "execution_count": 4,
   "id": "7ec408a1",
   "metadata": {},
   "outputs": [
    {
     "data": {
      "text/plain": [
       "'2.10.0'"
      ]
     },
     "execution_count": 4,
     "metadata": {},
     "output_type": "execute_result"
    }
   ],
   "source": [
    "tf.__version__"
   ]
  },
  {
   "cell_type": "code",
   "execution_count": 5,
   "id": "f393b3d5",
   "metadata": {},
   "outputs": [
    {
     "data": {
      "text/plain": [
       "[]"
      ]
     },
     "execution_count": 5,
     "metadata": {},
     "output_type": "execute_result"
    },
    {
     "name": "stderr",
     "output_type": "stream",
     "text": [
      "2022-11-10 23:14:23.541938: E tensorflow/stream_executor/cuda/cuda_driver.cc:265] failed call to cuInit: CUDA_ERROR_UNKNOWN: unknown error\n",
      "2022-11-10 23:14:23.541963: I tensorflow/stream_executor/cuda/cuda_diagnostics.cc:169] retrieving CUDA diagnostic information for host: tshegofatso-GE76-Raider-11UG\n",
      "2022-11-10 23:14:23.541966: I tensorflow/stream_executor/cuda/cuda_diagnostics.cc:176] hostname: tshegofatso-GE76-Raider-11UG\n",
      "2022-11-10 23:14:23.542066: I tensorflow/stream_executor/cuda/cuda_diagnostics.cc:200] libcuda reported version is: 470.141.3\n",
      "2022-11-10 23:14:23.542076: I tensorflow/stream_executor/cuda/cuda_diagnostics.cc:204] kernel reported version is: 470.141.3\n",
      "2022-11-10 23:14:23.542079: I tensorflow/stream_executor/cuda/cuda_diagnostics.cc:310] kernel version seems to match DSO: 470.141.3\n"
     ]
    }
   ],
   "source": [
    "tf.config.list_physical_devices('GPU')"
   ]
  },
  {
   "cell_type": "code",
   "execution_count": 6,
   "id": "b497f5e5",
   "metadata": {},
   "outputs": [
    {
     "name": "stderr",
     "output_type": "stream",
     "text": [
      "2022-11-10 23:14:23.550262: I tensorflow/core/platform/cpu_feature_guard.cc:193] This TensorFlow binary is optimized with oneAPI Deep Neural Network Library (oneDNN) to use the following CPU instructions in performance-critical operations:  AVX2 AVX512F AVX512_VNNI FMA\n",
      "To enable them in other operations, rebuild TensorFlow with the appropriate compiler flags.\n"
     ]
    }
   ],
   "source": [
    "# d^2ydt^2 = g\n",
    "# dydt(0)=y'(0) = 0.0m/s\n",
    "# y(0) = 20.0\n",
    "# y(t) = 0.5*gt^2 + y'(0)t +y(0)\n",
    "num_points = 100\n",
    "starting = 0.0\n",
    "final = 1.0\n",
    "y_prime = tf.constant(0., dtype=tf.float32)\n",
    "y_init = tf.constant(20., dtype=tf.float32)\n",
    "g = tf.constant(9.8, dtype=tf.float32)\n",
    "t = tf.cast(tf.linspace(starting,final, num=num_points),dtype = tf.float32)[:, tf.newaxis]\n",
    "def generate_data(t):\n",
    "    return t,0.5*g*tf.math.pow(t,2) + y_prime*t + y_init\n",
    "\n",
    "t,y_sol = generate_data(t)\n",
    "\n",
    "# mm_scaler = preprocessing.StandardScaler()\n",
    "# v = mm_scaler.fit_transform(v)"
   ]
  },
  {
   "cell_type": "code",
   "execution_count": 7,
   "id": "a266d32d",
   "metadata": {},
   "outputs": [
    {
     "data": {
      "text/plain": [
       "[<matplotlib.lines.Line2D at 0x7f3c1419abb0>]"
      ]
     },
     "execution_count": 7,
     "metadata": {},
     "output_type": "execute_result"
    },
    {
     "data": {
      "image/png": "[encoded data removed]",
      "text/plain": [
       "<Figure size 432x288 with 1 Axes>"
      ]
     },
     "metadata": {
      "needs_background": "light"
     },
     "output_type": "display_data"
    }
   ],
   "source": [
    "plt.plot(t,y_sol)"
   ]
  },
  {
   "cell_type": "code",
   "execution_count": 8,
   "id": "64d47dc0",
   "metadata": {},
   "outputs": [],
   "source": [
    "class MyDense(tf.keras.layers.Layer):\n",
    "    '''\n",
    "    Inputs:\n",
    "    \n",
    "    units : number of neurons\n",
    "    initialization = 0,1\n",
    "           if activations are:\n",
    "           init =0(He): ReLU, Leaky ReLU, ELU, GELU, Swish, Mish\n",
    "           init =1(Xavier_Glorot): None, tanh, sigmoid, softmax \n",
    "           \n",
    "    activation: activation to be use either string or callable\n",
    "    \n",
    "    \n",
    "    Output:\n",
    "            returns activation(wx+b) with appropriate initialization\n",
    "    \n",
    "    '''\n",
    "    def __init__(self, units = 20, initialization=None, activation = None): #None = gives basic activation\n",
    "        super(MyDense, self).__init__()\n",
    "        self.units = units   \n",
    "        self.init = initialization\n",
    "        \n",
    "        if activation == 'mish':\n",
    "            self.activation = tf.keras.activations.get(self.mish_activation)\n",
    "        else:\n",
    "            self.activation = tf.keras.activations.get(activation)\n",
    "       \n",
    "    @tf.function\n",
    "    def mish_activation(self, x):\n",
    "        print(f'called_mish')\n",
    "    #     mish(x) = xtanh(softsplus(x))  it needs  He initialization\n",
    "        return x*tf.math.tanh(tf.nn.softplus(x))       \n",
    "    \n",
    "    \n",
    "# We get them from the shape of w= shape\n",
    "# shape[0] : number of inputs to the neuron\n",
    "# shape[1] : number of output from the neuron\n",
    "#     @tf.function(reduce_retracing=True)\n",
    "    def Xavier_Glorot_initializer(self,shape, dtype=tf.float32):\n",
    "        '''\n",
    "        Xavier Glorot: initialization must be used for the following activations:\n",
    "        None, tanh, sigmoid, softmax\n",
    "\n",
    "       input: \n",
    "            shape = [number of columns, units]\n",
    "\n",
    "       output:\n",
    "               samples normal distribution of mean = 0 stddev = sqrt(2./inputs_shape+units)\n",
    "        '''\n",
    "        print('Initial weight with  Xavier Glorot ')\n",
    "        \n",
    "        shape_to_float = tf.cast(shape, dtype=tf.float32)\n",
    "        fanin = shape_to_float[0]\n",
    "        fanout = shape_to_float[1]\n",
    "        stddev = tf.sqrt(2. /(fanin+fanout)  )\n",
    "        return tf.random.normal(shape, stddev=stddev, dtype=dtype)\n",
    "    \n",
    "#     @tf.function(reduce_retracing=True) \n",
    "    def He_initializer(self,shape,dtype = tf.float32):\n",
    "        '''\n",
    "        input: \n",
    "                shape = [number of columns, units]\n",
    "\n",
    "        He (aka He normal)initialization must be used for the following activations:\n",
    "        ReLU, Leaky ReLU, ELU, GELU, Swish, Mish\n",
    "\n",
    "        He initialization:\n",
    "        random normal with variance and mean of 2/fanin = 2/no. of inputs = 2/inputs\n",
    "        '''\n",
    "        shape_to_float = tf.cast(shape, dtype=tf.float32)\n",
    "#         print(f'INIT shape = {shape}, dtype = {shape.dtype}')\n",
    "#         fanin = tf.constant(shape[0], dtype = tf.float32)\n",
    "        fanin = shape_to_float[0]\n",
    "#         print(f'fanin = {fanin}')\n",
    "        stddev = tf.sqrt(2. /fanin)\n",
    "#         print(f'stddev = {stddev}')\n",
    "        print('Initial weight with  He')\n",
    "        return tf.random.normal(shape, stddev=stddev, dtype=dtype)        \n",
    "\n",
    "#     Initialize kernel aka w\n",
    "    def init_w(self, input_shape):\n",
    "        shape = [input_shape[-1], self.units]\n",
    "        shape = tf.constant(shape, dtype=tf.int32)\n",
    "\n",
    "        if self.init == 0:\n",
    "#             Initialize with He : Relu and variants activation functions\n",
    "            value = self.He_initializer(shape)\n",
    "        else:\n",
    "#             Initialize with Xavier_Glorot : None, tanh, sigmoid, softmax activation functions\n",
    "            value = self.Xavier_Glorot_initializer(shape)\n",
    "            \n",
    "        return tf.Variable(name = 'kernel', initial_value=value ,trainable = True )\n",
    "\n",
    "#     Initialize biase aka b\n",
    "    def init_b(self):\n",
    "        value = tf.zeros(self.units)\n",
    "        return tf.Variable(name = 'bias', initial_value=value ,trainable = True )    \n",
    "       \n",
    "        \n",
    "    def build(self, input_shape):\n",
    "        self.w = self.init_w(input_shape)\n",
    "        self.b = self.init_b()\n",
    "        \n",
    "    def call(self, inputs):\n",
    "        out_put = self.activation(tf.matmul(inputs, self.w) + self.b)\n",
    "        return out_put"
   ]
  },
  {
   "cell_type": "code",
   "execution_count": 9,
   "id": "6cbdf7e6",
   "metadata": {},
   "outputs": [],
   "source": [
    "class MyModel(tf.keras.Model):\n",
    "    def __init__(self,num_of_hid_layers = None, units_per_layer = None, num_out=1, initialization=None, activation=None ):\n",
    "        super(MyModel,self).__init__()\n",
    "        self.num_of_hid_layers = num_of_hid_layers\n",
    "        self.units_per_layer = units_per_layer\n",
    "        self.num_out = num_out\n",
    "        self.init = initialization\n",
    "        self.normalize = tf.keras.layers.Normalization()\n",
    "        \n",
    "        if self.init == 0:\n",
    "            kerner_init = tf.keras.initializers.he_normal()\n",
    "        else:\n",
    "            kerner_init = tf.keras.initializers.glorot_normal()\n",
    "            \n",
    "        \n",
    "        \n",
    "        \n",
    "        self.initialization = initialization\n",
    "        self.activation = activation\n",
    "        \n",
    "        \n",
    "        self.hidden_layers = [MyDense(self.units_per_layer, self.initialization, self.activation) \n",
    "                              for _ in range(self.num_of_hid_layers)]\n",
    "        \n",
    "        self.out = MyDense(self.num_out, self.initialization)\n",
    "        \n",
    "        self.bn = [tf.keras.layers.BatchNormalization() for _ in range(self.num_of_hid_layers)]\n",
    "    \n",
    "    def call(self, inputs):\n",
    "        '''\n",
    "        Add BN before since the layer includes activations\n",
    "        \n",
    "        '''\n",
    "        \n",
    "        for i in range(self.num_of_hid_layers):\n",
    "            if i == 0:\n",
    "                x = self.normalize(inputs)\n",
    "                x = self.bn[i](x)\n",
    "            else:\n",
    "                x = self.bn[i](x)\n",
    "                \n",
    "            x = self.hidden_layers[i](x)\n",
    "            \n",
    "        return self.out(x)\n",
    "            \n",
    "            \n",
    "#         x = self.bn1(inputs)\n",
    "#         x = self.dense1(x)\n",
    "        \n",
    "#         x = self.bn2(x)\n",
    "#         x = self.dense2(x)\n",
    "        \n",
    "#         x = self.bn3(x)\n",
    "#         x = self.dense3(x)\n",
    "        \n",
    "#         x = self.bn4(x)\n",
    "#         x = self.dense4(x)\n",
    "#         return x        "
   ]
  },
  {
   "cell_type": "code",
   "execution_count": 10,
   "id": "8627b900",
   "metadata": {},
   "outputs": [],
   "source": [
    "#  model = MyModel(num_of_hid_layers = 3, units_per_layer = 5, num_out=1, initialization = 1,activation = tf.nn.tanh)\n",
    "model = MyModel(num_of_hid_layers = 3, units_per_layer = 5, num_out=1, initialization = 0,activation = 'mish')"
   ]
  },
  {
   "cell_type": "code",
   "execution_count": 11,
   "id": "2bda6f66",
   "metadata": {},
   "outputs": [
    {
     "name": "stdout",
     "output_type": "stream",
     "text": [
      "Initial weight with  He\n",
      "called_mish\n",
      "Initial weight with  He\n",
      "called_mish\n",
      "Initial weight with  He\n",
      "called_mish\n",
      "Initial weight with  He\n"
     ]
    }
   ],
   "source": [
    "model(t).shape\n",
    "model.build(t.shape)"
   ]
  },
  {
   "cell_type": "code",
   "execution_count": 12,
   "id": "7b63d2fa",
   "metadata": {},
   "outputs": [
    {
     "data": {
      "text/plain": [
       "<tf.Variable 'my_model/my_dense/kernel:0' shape=(1, 5) dtype=float32, numpy=\n",
       "array([[-0.18347831, -0.8696509 ,  1.4135964 ,  0.03312857, -0.80280066]],\n",
       "      dtype=float32)>"
      ]
     },
     "execution_count": 12,
     "metadata": {},
     "output_type": "execute_result"
    }
   ],
   "source": [
    "init_params = model.trainable_variables[0]\n",
    "init_params"
   ]
  },
  {
   "cell_type": "code",
   "execution_count": 14,
   "id": "edc821b7",
   "metadata": {},
   "outputs": [
    {
     "data": {
      "text/plain": [
       "<matplotlib.legend.Legend at 0x7f3bc02e09d0>"
      ]
     },
     "execution_count": 14,
     "metadata": {},
     "output_type": "execute_result"
    },
    {
     "data": {
      "image/png": "[encoded data removed]",
      "text/plain": [
       "<Figure size 432x288 with 1 Axes>"
      ]
     },
     "metadata": {
      "needs_background": "light"
     },
     "output_type": "display_data"
    }
   ],
   "source": [
    "initial_model = model(t)\n",
    "plt.plot(t, y_sol, label = 'data')\n",
    "plt.plot(t,initial_model, label = 'NN')\n",
    "plt.legend()"
   ]
  },
  {
   "cell_type": "code",
   "execution_count": 15,
   "id": "5f3e87db",
   "metadata": {},
   "outputs": [],
   "source": [
    "class PINN:\n",
    "    def __init__(self, t, model,y_init,y_prime,g,optim):\n",
    "        self.model = model\n",
    "        self.t = t\n",
    "        self.y_prime = y_prime\n",
    "        self.y_init = y_init\n",
    "        self.g = g\n",
    "        self.optim = optim\n",
    "\n",
    "        \n",
    "    def get_derivatives(self,t):\n",
    "        '''\n",
    "        Calculate the derivatives and function that correspond to the ode\n",
    "\n",
    "        input:\n",
    "                t : independent variant\n",
    "\n",
    "        output:\n",
    "                value and corresponding derivatives\n",
    "                \n",
    "                \n",
    "        # d^2ydt^2 = g\n",
    "        # dydt(0)=y'(0) = 0.0m/s\n",
    "        # y(0) = 20.0\n",
    "        # y(t) = 0.5*gt^2 + y'(0)t +y(0)\n",
    "        num_points = 100\n",
    "        starting = 0.0\n",
    "        final = 1.0\n",
    "        y_prime = tf.constant(0., dtype=tf.float32)\n",
    "        y_init = tf.constant(20., dtype=tf.float32)\n",
    "\n",
    "        '''\n",
    "        with tf.GradientTape() as second:\n",
    "            second.watch(t)\n",
    "            with tf.GradientTape() as first:\n",
    "                first.watch(t)\n",
    "                y_hat = model(t)\n",
    "            y_prime_hat = first.gradient(y_hat,t) \n",
    "        y_double_prime_hat = second.gradient(y_prime_hat,t) \n",
    "        return y_hat,y_prime_hat, y_double_prime_hat   \n",
    "        \n",
    "    def ode_ic(self,t):\n",
    "        # d^2xdx^2 = g\n",
    "        # v(0) = 0.0m/s\n",
    "#         yo = 20.0\n",
    "        # x(t) = 0.5*gt^2 + v(0)t +x(0)\n",
    "        y_hat,y_prime_hat, y_double_prime_hat = self.get_derivatives(self.t)\n",
    "         # d^2xdx^2 = g\n",
    "        u1 = y_double_prime_hat-self.g\n",
    "#         Initial conditions\n",
    "        y_hat0,y_prime_hat0, y_double_prime_hat0 = self.get_derivatives(tf.zeros_like(self.t))\n",
    "#         y'(0) = 0.0\n",
    "        u2 =  y_prime_hat0 - self.y_prime\n",
    "#       y(0) = 20.0\n",
    "        u3 = y_hat0 - self.y_init\n",
    "        return u1,u2,u3\n",
    "        \n",
    "    def loss(self,t):\n",
    "        u1,u2,u3 = self.ode_ic(t)\n",
    "        mse_ode = tf.reduce_mean(tf.square(u1))\n",
    "        mse_prime = tf.reduce_mean(tf.square(u2))\n",
    "        mse_init = tf.reduce_mean(tf.square(u3))\n",
    "        return mse_ode+mse_prime+mse_init\n",
    "    \n",
    "    def train_with_adam(self,t):\n",
    "        @tf.function\n",
    "        def train_and_update(t):\n",
    "    #         print(f'params : \\n {self.model.trainable_variables}')\n",
    "            with tf.GradientTape() as tape:\n",
    "                tape.watch(model.trainable_variables)\n",
    "                los  = self.loss(t)\n",
    "            dlossdpa = tape.gradient(los,self.model.trainable_variables) \n",
    "            self.optim.apply_gradients(zip(dlossdpa, self.model.trainable_variables))\n",
    "            return los\n",
    "    \n",
    "        losses =[]\n",
    "        initial_loss = train_and_update(t).numpy()\n",
    "        print(f'initial loss : {initial_loss}')\n",
    "        losses.append(initial_loss)\n",
    "\n",
    "        for epoch in range(100001):\n",
    "        #     print(f'epoch {epoch}')\n",
    "        #     print('epoch {}'.format(epoch),end = \".\")\n",
    "            loss = train_and_update(t).numpy()\n",
    "            losses.append(loss)\n",
    "        #     print(f'loss : {loss}')\n",
    "\n",
    "            if epoch%1000==0:\n",
    "                print(f'loss : {loss}')\n",
    "        #         print(end = \".\")\n",
    "        print(f'Final loss : {loss}') \n",
    "        return losses"
   ]
  },
  {
   "cell_type": "code",
   "execution_count": 16,
   "id": "77844917",
   "metadata": {},
   "outputs": [],
   "source": [
    "# lr = tf.keras.optimizers.schedules.PiecewiseConstantDecay([1000,3000],[1e-2,1e-3,5e-4])\n",
    "\n",
    "# Choose the optimizer\n",
    "optim = tf.keras.optimizers.Adam()\n",
    "# optim = tf.keras.optimizers.Nadam()"
   ]
  },
  {
   "cell_type": "code",
   "execution_count": 17,
   "id": "7697af5e",
   "metadata": {},
   "outputs": [],
   "source": [
    "# t, model,y_init,y_prime,optim"
   ]
  },
  {
   "cell_type": "code",
   "execution_count": 18,
   "id": "3d163c76",
   "metadata": {},
   "outputs": [
    {
     "data": {
      "text/plain": [
       "<tf.Tensor: shape=(), dtype=float32, numpy=0.0>"
      ]
     },
     "execution_count": 18,
     "metadata": {},
     "output_type": "execute_result"
    }
   ],
   "source": [
    "y_prime"
   ]
  },
  {
   "cell_type": "code",
   "execution_count": 19,
   "id": "293f46d2",
   "metadata": {},
   "outputs": [],
   "source": [
    "pinn = PINN(t,model,y_init, y_prime, g,optim)\n",
    "#             t, model,y_init,y_prime,g,optim"
   ]
  },
  {
   "cell_type": "code",
   "execution_count": 20,
   "id": "7be43849",
   "metadata": {},
   "outputs": [
    {
     "name": "stdout",
     "output_type": "stream",
     "text": [
      "initial loss : 530.30908203125\n",
      "loss : 529.2532958984375\n",
      "loss : 0.8960678577423096\n",
      "loss : 0.027430210262537003\n",
      "loss : 0.014366130344569683\n",
      "loss : 0.00784778967499733\n",
      "loss : 0.00356368743814528\n",
      "loss : 0.0010248931357637048\n",
      "loss : 0.00016195361968129873\n",
      "loss : 6.993015995249152e-05\n",
      "loss : 5.912541746511124e-05\n",
      "loss : 4.9210408178623766e-05\n",
      "loss : 4.049981725984253e-05\n",
      "loss : 3.317476875963621e-05\n",
      "loss : 4.0466398786520585e-05\n",
      "loss : 7.250609633047134e-05\n",
      "loss : 2.0769419279531576e-05\n",
      "loss : 1.4564950106432661e-05\n",
      "loss : 1.2914852050016634e-05\n",
      "loss : 1.184466054837685e-05\n",
      "loss : 0.00014443357940763235\n",
      "loss : 1.1668271326925606e-05\n",
      "loss : 2.5113782612606883e-05\n",
      "loss : 9.934307854564395e-06\n",
      "loss : 1.486825476604281e-05\n",
      "loss : 3.679662404465489e-05\n",
      "loss : 1.4573130101780407e-05\n",
      "loss : 0.00016610362217761576\n",
      "loss : 3.707032010424882e-05\n",
      "loss : 9.275027878175024e-06\n",
      "loss : 1.5798061212990433e-05\n",
      "loss : 0.00035592305357567966\n",
      "loss : 1.588535997143481e-05\n",
      "loss : 8.717466698726639e-06\n",
      "loss : 4.3245701817795634e-05\n",
      "loss : 8.64167304825969e-06\n",
      "loss : 0.00014115650265011936\n",
      "loss : 1.0099600331159309e-05\n",
      "loss : 7.103619282133877e-05\n",
      "loss : 8.486143997288309e-06\n",
      "loss : 2.2591510060010478e-05\n",
      "loss : 0.0011922628618776798\n",
      "loss : 8.32411660667276e-06\n",
      "loss : 1.5194876141322311e-05\n",
      "loss : 1.7403315723640844e-05\n",
      "loss : 2.559912172728218e-05\n",
      "loss : 0.0007585587445646524\n",
      "loss : 8.3235217971378e-06\n",
      "loss : 1.3246916751086246e-05\n",
      "loss : 8.032778168853838e-06\n",
      "loss : 7.926920261525083e-06\n",
      "loss : 1.6458099707961082e-05\n",
      "loss : 3.4206077543785796e-05\n",
      "loss : 7.626820206496632e-06\n",
      "loss : 7.5854022725252435e-06\n",
      "loss : 1.1856923265440855e-05\n",
      "loss : 0.00025248018209822476\n",
      "loss : 1.6646816220600158e-05\n",
      "loss : 7.315945367736276e-06\n",
      "loss : 0.00045026640873402357\n",
      "loss : 7.223200555017684e-06\n",
      "loss : 8.10944547993131e-05\n",
      "loss : 7.2972916314029135e-06\n",
      "loss : 7.881527562858537e-05\n",
      "loss : 7.904469384811819e-05\n",
      "loss : 7.012386959104333e-06\n",
      "loss : 9.172425052383915e-06\n",
      "loss : 6.861755537101999e-06\n",
      "loss : 1.5196806998574175e-05\n",
      "loss : 6.916260190337198e-06\n",
      "loss : 0.00014135226956568658\n",
      "loss : 2.7207512175664306e-05\n",
      "loss : 1.9372295355424285e-05\n",
      "loss : 6.607110663026106e-06\n",
      "loss : 7.121476301108487e-06\n",
      "loss : 9.428635166841559e-06\n",
      "loss : 2.6270550733897835e-05\n",
      "loss : 6.85254781274125e-06\n",
      "loss : 1.989689189940691e-05\n",
      "loss : 1.0256654604745563e-05\n",
      "loss : 6.3620418586651795e-06\n",
      "loss : 7.033831025182735e-06\n",
      "loss : 7.080916930135572e-06\n",
      "loss : 0.00046125450171530247\n",
      "loss : 1.3497703548637219e-05\n",
      "loss : 2.2113386876299046e-05\n",
      "loss : 6.576664418389555e-06\n",
      "loss : 2.431191023788415e-05\n",
      "loss : 8.496807822666597e-06\n",
      "loss : 0.00023938532103784382\n",
      "loss : 8.905837603379041e-06\n",
      "loss : 0.00025213294429704547\n",
      "loss : 0.00025527950492687523\n",
      "loss : 0.0005166357732377946\n",
      "loss : 2.1723093595937826e-05\n",
      "loss : 5.647659236274194e-06\n",
      "loss : 2.353146737732459e-05\n",
      "loss : 5.7329725677846e-06\n",
      "loss : 5.744595455325907e-06\n",
      "loss : 5.4911652114242315e-06\n",
      "loss : 0.00018730774172581732\n",
      "loss : 0.00028348967316560447\n",
      "Final loss : 0.00028348967316560447\n"
     ]
    }
   ],
   "source": [
    "loss_list = pinn.train_with_adam(t)"
   ]
  },
  {
   "cell_type": "code",
   "execution_count": 22,
   "id": "d7bb7c99",
   "metadata": {},
   "outputs": [
    {
     "data": {
      "text/plain": [
       "<matplotlib.legend.Legend at 0x7f3bc01de190>"
      ]
     },
     "execution_count": 22,
     "metadata": {},
     "output_type": "execute_result"
    },
    {
     "data": {
      "image/png": "[encoded data removed]",
      "text/plain": [
       "<Figure size 432x288 with 1 Axes>"
      ]
     },
     "metadata": {
      "needs_background": "light"
     },
     "output_type": "display_data"
    }
   ],
   "source": [
    "plt.plot(t, y_sol, label = 'data')\n",
    "plt.plot(t,pinn.model(t), label = 'NN')\n",
    "plt.legend()"
   ]
  },
  {
   "cell_type": "code",
   "execution_count": null,
   "id": "214d5d3e",
   "metadata": {},
   "outputs": [],
   "source": [
    "'''\n",
    "To do:\n",
    "    1. Try batch training\n",
    "    2. LBFG Algo\n",
    "    3. LM Algo\n",
    "'''"
   ]
  }
 ],
 "metadata": {
  "kernelspec": {
   "display_name": "Python 3 (ipykernel)",
   "language": "python",
   "name": "python3"
  },
  "language_info": {
   "codemirror_mode": {
    "name": "ipython",
    "version": 3
   },
   "file_extension": ".py",
   "mimetype": "text/x-python",
   "name": "python",
   "nbconvert_exporter": "python",
   "pygments_lexer": "ipython3",
   "version": "3.8.10"
  }
 },
 "nbformat": 4,
 "nbformat_minor": 5
}
