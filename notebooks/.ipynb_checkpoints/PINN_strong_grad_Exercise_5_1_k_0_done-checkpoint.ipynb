{
 "cells": [
  {
   "cell_type": "code",
   "execution_count": 4,
   "id": "db26a529",
   "metadata": {},
   "outputs": [],
   "source": [
    "import numpy as np\n",
    "import tensorflow as tf\n",
    "import matplotlib.pyplot as plt\n",
    "from tqdm.notebook import tnrange\n",
    "import pygame,time "
   ]
  },
  {
   "cell_type": "code",
   "execution_count": 48,
   "id": "a38432b6",
   "metadata": {},
   "outputs": [],
   "source": [
    "neurons = 50\n",
    "M = neurons//2\n",
    "\n",
    "x = tf.cast(tf.linspace(0,1,M)[:,None], tf.float32)\n",
    "\n",
    "sigma = lambda x,alpha,beta : 1./(1.+ tf.math.exp(-alpha*x -beta ))\n",
    "\n",
    "value = int((neurons - 10)/10) + 4\n",
    "# value = 10.\n",
    "\n",
    "uniform_int_alpha = tf.initializers.RandomUniform(minval=-value, maxval=value,seed=1)\n",
    "uniform_int_beta = tf.initializers.RandomUniform(minval=-value, maxval=value,seed=2)\n",
    "\n",
    "\n",
    "alpha = uniform_int_alpha(shape=(neurons,))\n",
    "beta = uniform_int_beta(shape=(neurons,))\n",
    "\n",
    "C = -beta/alpha"
   ]
  },
  {
   "cell_type": "code",
   "execution_count": 49,
   "id": "14577d9a",
   "metadata": {},
   "outputs": [
    {
     "data": {
      "application/vnd.jupyter.widget-view+json": {
       "model_id": "41563181b6914723bbfde084ac03c58b",
       "version_major": 2,
       "version_minor": 0
      },
      "text/plain": [
       "  0%|          | 0/50 [00:00<?, ?it/s]"
      ]
     },
     "metadata": {},
     "output_type": "display_data"
    }
   ],
   "source": [
    "good_alpha = []\n",
    "good_beta = []\n",
    "C_good = []\n",
    "counter = 0\n",
    "for i in tnrange(len(alpha)):\n",
    "    value = (2.945)/alpha[i]\n",
    "    low = C[i] - value\n",
    "    high = C[i] + value\n",
    "    \n",
    "#     distance_I = tf.norm(tf.constant(np.array([low,high]), tf.float32))\n",
    "#     distance_x = tf.norm(tf.constant(np.array([x[0],x[-1]]), tf.float32))\n",
    "    \n",
    "#     isclose = np.isclose(distance_I, distance_x)\n",
    "#     if distance_I < distance_x or isclose:\n",
    "#     if low > 0 and high > 0:\n",
    "#     if low > 0 and high > 0:\n",
    "\n",
    "#     if (low >= x[0] and high > x[0]):\n",
    "#         if x[0]<low and x[-1]> high: \n",
    "#             if alpha[i]>0.0:\n",
    "# #                 counter += 1\n",
    "#                 print('counter',i)\n",
    "#                 print(f'{x[0]} < {low}')\n",
    "#                 print(f'{x[-1]} > {high}')\n",
    "    good_alpha.append(alpha[i])\n",
    "    good_beta.append(beta[i])\n",
    "    C_good.append(C[i])     \n",
    "#     print(f'sigma :{sigma(x,alpha[i], beta[i])[-1]}')\n",
    "#     print(f'Distance I.:{distance_I}')\n",
    "#     print(f'Distance x.:{distance_x}')\n",
    "#     print(f'Is close :{np.isclose(sigma(C[i],alpha[i], beta[i]),0.5)}')\n",
    "#     print(f'high value:{high}')\n",
    "#     plt.plot(x,sigma(x,alpha[i], beta[i]))\n",
    "#     plt.hlines(y = sigma(C[i],alpha[i], beta[i]),xmin= low, xmax=high, colors='red', linestyles='-')\n",
    "#     plt.vlines(x = C[i], ymin=0.04, ymax= 1.,colors='b', linestyles='-')\n",
    "#     plt.vlines(x = low, ymin=0.04, ymax= 1.,colors='g', linestyles='--')\n",
    "#     plt.vlines(x = high, ymin=0.04, ymax= 1.,colors='g', linestyles='--')        \n",
    "\n",
    "#     plt.title(f' i :{i}  C:{C[i]} a :{alpha[i]} b {beta[i]}')\n",
    "#     plt.show()"
   ]
  },
  {
   "cell_type": "code",
   "execution_count": 50,
   "id": "a05bce49",
   "metadata": {},
   "outputs": [],
   "source": [
    "def S_matrices(x_m_minus_2,alpha,beta):\n",
    "    with tf.autodiff.ForwardAccumulator(primals=x_m_minus_2,tangents=tf.ones_like(x_m_minus_2)) as outer:\n",
    "        with tf.autodiff.ForwardAccumulator(primals=x_m_minus_2,tangents=tf.ones_like(x_m_minus_2)) as inner:\n",
    "            S0 = sigma(x_m_minus_2,alpha,beta )\n",
    "        S1 = inner.jvp(S0)\n",
    "    S2 = outer.jvp(S1)  \n",
    "    return S0,S1,S2\n",
    "\n",
    "\n",
    "def B_matrices(init_array,alpha,beta):\n",
    "#     xk = tf.constant(init_array,dtype=tf.float32)\n",
    "    xk = init_array\n",
    "    with tf.autodiff.ForwardAccumulator(primals=xk,tangents=tf.ones_like(xk)) as tape:\n",
    "        B0 = sigma(xk,alpha,beta )\n",
    "    B1 = tape.jvp(B0)\n",
    "    return B0,B1"
   ]
  },
  {
   "cell_type": "code",
   "execution_count": 51,
   "id": "63e1e158",
   "metadata": {},
   "outputs": [
    {
     "data": {
      "text/plain": [
       "(50, 25)"
      ]
     },
     "execution_count": 51,
     "metadata": {},
     "output_type": "execute_result"
    }
   ],
   "source": [
    "# neurons = counter\n",
    "# M = neurons//2\n",
    "neurons,M"
   ]
  },
  {
   "cell_type": "code",
   "execution_count": 52,
   "id": "8c5017a0",
   "metadata": {},
   "outputs": [],
   "source": [
    "def test(C_good):\n",
    "    best_error = np.inf\n",
    "    for C in C_good:\n",
    "        beta = -C*alpha\n",
    "        x_m_minus_2 = tf.linspace(x[1],x[-2],M-2)\n",
    "        k = 1.\n",
    "        S0,S1,S2 = S_matrices(x_m_minus_2,alpha,beta)\n",
    "        int_array = tf.concat([x[0],x[-1]],axis=0)[:,None]\n",
    "        B0,B1 = B_matrices(int_array,alpha,beta)\n",
    "\n",
    "        fg = np.zeros((M,1))\n",
    "        SB_matrix = np.zeros((M,neurons))\n",
    "        lhs_eqn = S2 + (4.*tf.pow(k*np.pi,2) - 1.)*S0\n",
    "        rhs_eqn = 4.*k*np.pi*tf.math.exp(x_m_minus_2)*tf.math.cos(2.*k*np.pi*x_m_minus_2)\n",
    "\n",
    "        lhs_BC =  B0\n",
    "        rhs_BC =  tf.zeros((2,1))\n",
    "        # \n",
    "\n",
    "        # First row == B0[0]\n",
    "        SB_matrix[0] = lhs_BC[0]\n",
    "        # Last row == B0[-1]\n",
    "        SB_matrix[-1] = lhs_BC[-1]\n",
    "        # inbetween == rhs_eqn\n",
    "        SB_matrix[1:-1] = lhs_eqn\n",
    "\n",
    "        # FG matrix\n",
    "        # First row == B0[0]\n",
    "        fg[0] = rhs_BC[0]\n",
    "        # Last row == B0[-1]\n",
    "        fg[-1] = rhs_BC[-1]\n",
    "        # inbetween == rhs_eqn\n",
    "        fg[1:-1] = rhs_eqn\n",
    "\n",
    "        weight = tf.linalg.pinv(SB_matrix)@fg\n",
    "        weight = tf.cast(weight, tf.float32)\n",
    "        u_hat = sigma(x, alpha, beta)@weight\n",
    "        u = lambda x: tf.math.exp(x)*tf.math.sin(2.*k*np.pi*x)\n",
    "        error = tf.norm(u_hat- u(x))\n",
    "        residue = SB_matrix@weight - fg\n",
    "        res_nrom = tf.norm(residue)\n",
    "        res_mse = tf.reduce_mean(tf.square(residue))\n",
    "        if error < best_error:\n",
    "            if C>0:\n",
    "                print(f'Residue Norm  : {res_nrom}')\n",
    "                print(f'Residue mse  : {res_mse}')\n",
    "                print(f'Error : {tf.norm(error)}') \n",
    "                best_error = error\n",
    "                C_best = C\n",
    "                print(f'C     : {C}\\n')  \n",
    "                \n",
    "    return C_best       "
   ]
  },
  {
   "cell_type": "code",
   "execution_count": 53,
   "id": "4a681012",
   "metadata": {},
   "outputs": [
    {
     "name": "stdout",
     "output_type": "stream",
     "text": [
      "Residue Norm  : 62.94590377807617\n",
      "Residue mse  : 158.4874725341797\n",
      "Error : 3.4153964519500732\n",
      "C     : 5.115394115447998\n",
      "\n",
      "Residue Norm  : 4.783527851104736\n",
      "Residue mse  : 0.9152854681015015\n",
      "Error : 0.23516975343227386\n",
      "C     : 1.9981719255447388\n",
      "\n",
      "Residue Norm  : 0.639896035194397\n",
      "Residue mse  : 0.016378678381443024\n",
      "Error : 0.07130920141935349\n",
      "C     : 1.332850694656372\n",
      "\n",
      "Residue Norm  : 0.14930111169815063\n",
      "Residue mse  : 0.000891632866114378\n",
      "Error : 0.025543341413140297\n",
      "C     : 1.0958292484283447\n",
      "\n"
     ]
    },
    {
     "name": "stderr",
     "output_type": "stream",
     "text": [
      "2023-02-03 13:32:58.185064: E ./tensorflow/core/kernels/linalg/svd_op_impl.h:110] Eigen::BDCSVD failed with error code 3\n",
      "2023-02-03 13:32:58.195554: E ./tensorflow/core/kernels/linalg/svd_op_impl.h:110] Eigen::BDCSVD failed with error code 3\n",
      "2023-02-03 13:32:58.347954: E ./tensorflow/core/kernels/linalg/svd_op_impl.h:110] Eigen::BDCSVD failed with error code 3\n",
      "2023-02-03 13:32:58.391127: E ./tensorflow/core/kernels/linalg/svd_op_impl.h:110] Eigen::BDCSVD failed with error code 3\n"
     ]
    },
    {
     "name": "stdout",
     "output_type": "stream",
     "text": [
      "Residue Norm  : 0.14930111169815063\n",
      "Residue mse  : 0.000891632866114378\n",
      "Error : 0.025543341413140297\n",
      "mse Error  : 2.6098492526216432e-05\n"
     ]
    },
    {
     "data": {
      "image/png": "[encoded data removed]",
      "text/plain": [
       "<Figure size 432x288 with 1 Axes>"
      ]
     },
     "metadata": {
      "needs_background": "light"
     },
     "output_type": "display_data"
    }
   ],
   "source": [
    "C_best = test(C_good)\n",
    "beta = -C_best*alpha\n",
    "x_m_minus_2 = tf.linspace(x[1],x[-2],M-2)\n",
    "k = 1.\n",
    "S0,S1,S2 = S_matrices(x_m_minus_2,alpha,beta)\n",
    "int_array = tf.concat([x[0],x[-1]],axis=0)[:,None]\n",
    "B0,B1 = B_matrices(int_array,alpha,beta)\n",
    "\n",
    "fg = np.zeros((M,1))\n",
    "SB_matrix = np.zeros((M,neurons))\n",
    "lhs_eqn = S2 + (4.*tf.pow(k*np.pi,2) - 1.)*S0\n",
    "rhs_eqn = 4.*k*np.pi*tf.math.exp(x_m_minus_2)*tf.math.cos(2.*k*np.pi*x_m_minus_2)\n",
    "\n",
    "lhs_BC =  B0\n",
    "rhs_BC =  tf.zeros((2,1))\n",
    "# \n",
    "\n",
    "# First row == B0[0]\n",
    "SB_matrix[0] = lhs_BC[0]\n",
    "# Last row == B0[-1]\n",
    "SB_matrix[-1] = lhs_BC[-1]\n",
    "# inbetween == rhs_eqn\n",
    "SB_matrix[1:-1] = lhs_eqn\n",
    "\n",
    "# FG matrix\n",
    "# First row == B0[0]\n",
    "fg[0] = rhs_BC[0]\n",
    "# Last row == B0[-1]\n",
    "fg[-1] = rhs_BC[-1]\n",
    "# inbetween == rhs_eqn\n",
    "fg[1:-1] = rhs_eqn\n",
    "\n",
    "weight = tf.linalg.pinv(SB_matrix)@fg\n",
    "weight = tf.cast(weight, tf.float32)\n",
    "u_hat = sigma(x, alpha, beta)@weight\n",
    "u = lambda x: tf.math.exp(x)*tf.math.sin(2.*k*np.pi*x)\n",
    "error = tf.norm(u_hat- u(x))\n",
    "mse = tf.reduce_mean(tf.square(u_hat- u(x)))\n",
    "residue = SB_matrix@weight - fg\n",
    "res_nrom = tf.norm(residue)\n",
    "res_mse = tf.reduce_mean(tf.square(residue))\n",
    "print(f'Residue Norm  : {res_nrom}')\n",
    "print(f'Residue mse  : {res_mse}')\n",
    "print(f'Error : {tf.norm(error)}') \n",
    "print(f'mse Error  : {mse}')\n",
    "plt.plot(x,u(x))\n",
    "plt.plot(x,u_hat, 'r--')\n",
    "plt.show()              \n",
    "                "
   ]
  }
 ],
 "metadata": {
  "kernelspec": {
   "display_name": "Python 3 (ipykernel)",
   "language": "python",
   "name": "python3"
  },
  "language_info": {
   "codemirror_mode": {
    "name": "ipython",
    "version": 3
   },
   "file_extension": ".py",
   "mimetype": "text/x-python",
   "name": "python",
   "nbconvert_exporter": "python",
   "pygments_lexer": "ipython3",
   "version": "3.8.13"
  }
 },
 "nbformat": 4,
 "nbformat_minor": 5
}
