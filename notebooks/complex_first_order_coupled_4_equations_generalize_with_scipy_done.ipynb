{
 "cells": [
  {
   "cell_type": "code",
   "execution_count": 1,
   "id": "fd15ca9a",
   "metadata": {},
   "outputs": [
    {
     "name": "stderr",
     "output_type": "stream",
     "text": [
      "2022-11-16 21:08:04.964875: I tensorflow/core/platform/cpu_feature_guard.cc:193] This TensorFlow binary is optimized with oneAPI Deep Neural Network Library (oneDNN) to use the following CPU instructions in performance-critical operations:  AVX2 AVX512F AVX512_VNNI FMA\n",
      "To enable them in other operations, rebuild TensorFlow with the appropriate compiler flags.\n",
      "2022-11-16 21:08:05.053132: I tensorflow/core/util/util.cc:169] oneDNN custom operations are on. You may see slightly different numerical results due to floating-point round-off errors from different computation orders. To turn them off, set the environment variable `TF_ENABLE_ONEDNN_OPTS=0`.\n",
      "2022-11-16 21:08:05.074572: E tensorflow/stream_executor/cuda/cuda_blas.cc:2981] Unable to register cuBLAS factory: Attempting to register factory for plugin cuBLAS when one has already been registered\n",
      "2022-11-16 21:08:05.492324: W tensorflow/stream_executor/platform/default/dso_loader.cc:64] Could not load dynamic library 'libnvinfer.so.7'; dlerror: libnvinfer.so.7: cannot open shared object file: No such file or directory; LD_LIBRARY_PATH: /usr/local/cuda-11.2/lib64:/home/tshegofatso/miniconda3/envs/tf_38gpu/lib/\n",
      "2022-11-16 21:08:05.492386: W tensorflow/stream_executor/platform/default/dso_loader.cc:64] Could not load dynamic library 'libnvinfer_plugin.so.7'; dlerror: libnvinfer_plugin.so.7: cannot open shared object file: No such file or directory; LD_LIBRARY_PATH: /usr/local/cuda-11.2/lib64:/home/tshegofatso/miniconda3/envs/tf_38gpu/lib/\n",
      "2022-11-16 21:08:05.492393: W tensorflow/compiler/tf2tensorrt/utils/py_utils.cc:38] TF-TRT Warning: Cannot dlopen some TensorRT libraries. If you would like to use Nvidia GPU with TensorRT, please make sure the missing libraries mentioned above are installed properly.\n"
     ]
    }
   ],
   "source": [
    "import tensorflow as tf\n",
    "import numpy as np\n",
    "from functools import partial\n",
    "import matplotlib.pyplot as plt\n",
    "import time"
   ]
  },
  {
   "cell_type": "code",
   "execution_count": 2,
   "id": "d2d380bb",
   "metadata": {},
   "outputs": [
    {
     "name": "stdout",
     "output_type": "stream",
     "text": [
      "WARNING: GPU device not found.\n"
     ]
    },
    {
     "name": "stderr",
     "output_type": "stream",
     "text": [
      "2022-11-16 21:08:06.118797: I tensorflow/core/platform/cpu_feature_guard.cc:193] This TensorFlow binary is optimized with oneAPI Deep Neural Network Library (oneDNN) to use the following CPU instructions in performance-critical operations:  AVX2 AVX512F AVX512_VNNI FMA\n",
      "To enable them in other operations, rebuild TensorFlow with the appropriate compiler flags.\n",
      "2022-11-16 21:08:06.138802: E tensorflow/stream_executor/cuda/cuda_driver.cc:265] failed call to cuInit: CUDA_ERROR_UNKNOWN: unknown error\n",
      "2022-11-16 21:08:06.138829: I tensorflow/stream_executor/cuda/cuda_diagnostics.cc:169] retrieving CUDA diagnostic information for host: tshegofatso-GE76-Raider-11UG\n",
      "2022-11-16 21:08:06.138832: I tensorflow/stream_executor/cuda/cuda_diagnostics.cc:176] hostname: tshegofatso-GE76-Raider-11UG\n",
      "2022-11-16 21:08:06.138893: I tensorflow/stream_executor/cuda/cuda_diagnostics.cc:200] libcuda reported version is: 470.141.3\n",
      "2022-11-16 21:08:06.138904: I tensorflow/stream_executor/cuda/cuda_diagnostics.cc:204] kernel reported version is: 470.141.3\n",
      "2022-11-16 21:08:06.138907: I tensorflow/stream_executor/cuda/cuda_diagnostics.cc:310] kernel version seems to match DSO: 470.141.3\n"
     ]
    }
   ],
   "source": [
    "tf.__version__\n",
    "if tf.test.gpu_device_name() != '/device:GPU:0':\n",
    "    print('WARNING: GPU device not found.')\n",
    "else:\n",
    "    print('SUCCESS: Found GPU: {}'.format(tf.test.gpu_device_name()))"
   ]
  },
  {
   "cell_type": "code",
   "execution_count": 3,
   "id": "e2eef538",
   "metadata": {},
   "outputs": [],
   "source": [
    "gpus = tf.config.experimental.list_physical_devices('GPU')\n",
    "if gpus:\n",
    "    try:\n",
    "        tf.config.experimental.set_virtual_device_configuration(\n",
    "        gpus[0],[tf.config.experimental.VirtualDeviceConfiguration(memory_limit=5120)])\n",
    "    except RuntimeError as e:\n",
    "        print(e)"
   ]
  },
  {
   "cell_type": "code",
   "execution_count": 4,
   "id": "313b2a44",
   "metadata": {},
   "outputs": [],
   "source": [
    "class MyDense(tf.keras.layers.Layer):\n",
    "    '''\n",
    "    Inputs:\n",
    "    \n",
    "    units : number of neurons\n",
    "    initialization = 0,1\n",
    "           if activations are:\n",
    "           init =0(He): ReLU, Leaky ReLU, ELU, GELU, Swish, Mish\n",
    "           init =1(Xavier_Glorot): None, tanh, sigmoid, softmax \n",
    "           \n",
    "    activation: activation to be use either string or callable\n",
    "    \n",
    "    \n",
    "    Output:\n",
    "            returns activation(wx+b) with appropriate initialization\n",
    "    \n",
    "    '''\n",
    "    def __init__(self, units = 20, initialization=None, activation = None): #None = gives basic activation\n",
    "        super(MyDense, self).__init__()\n",
    "        self.units = units   \n",
    "        self.init = initialization\n",
    "        \n",
    "        if activation == 'mish':\n",
    "            self.activation = tf.keras.activations.get(self.mish_activation)\n",
    "        else:\n",
    "            self.activation = tf.keras.activations.get(activation)\n",
    "       \n",
    "    @tf.function\n",
    "    def mish_activation(self, x):\n",
    "        print(f'called_mish')\n",
    "    #     mish(x) = xtanh(softsplus(x))  it needs  He initialization\n",
    "        return x*tf.math.tanh(tf.nn.softplus(x))       \n",
    "    \n",
    "    \n",
    "# We get them from the shape of w= shape\n",
    "# shape[0] : number of inputs to the neuron\n",
    "# shape[1] : number of output from the neuron\n",
    "#     @tf.function(reduce_retracing=True)\n",
    "    def Xavier_Glorot_initializer(self,shape, dtype=tf.float32):\n",
    "        '''\n",
    "        Xavier Glorot: initialization must be used for the following activations:\n",
    "        None, tanh, sigmoid, softmax\n",
    "\n",
    "       input: \n",
    "            shape = [number of columns, units]\n",
    "\n",
    "       output:\n",
    "               samples normal distribution of mean = 0 stddev = sqrt(2./inputs_shape+units)\n",
    "        '''\n",
    "        print('Initial weight with  Xavier Glorot ')\n",
    "        \n",
    "        shape_to_float = tf.cast(shape, dtype=tf.float32)\n",
    "        fanin = shape_to_float[0]\n",
    "        fanout = shape_to_float[1]\n",
    "        stddev = tf.sqrt(2. /(fanin+fanout)  )\n",
    "        return tf.random.normal(shape, stddev=stddev, dtype=dtype)\n",
    "    \n",
    "#     @tf.function(reduce_retracing=True) \n",
    "    def He_initializer(self,shape,dtype = tf.float32):\n",
    "        '''\n",
    "        input: \n",
    "                shape = [number of columns, units]\n",
    "\n",
    "        He (aka He normal)initialization must be used for the following activations:\n",
    "        ReLU, Leaky ReLU, ELU, GELU, Swish, Mish\n",
    "\n",
    "        He initialization:\n",
    "        random normal with variance and mean of 2/fanin = 2/no. of inputs = 2/inputs\n",
    "        '''\n",
    "        shape_to_float = tf.cast(shape, dtype=tf.float32)\n",
    "#         print(f'INIT shape = {shape}, dtype = {shape.dtype}')\n",
    "#         fanin = tf.constant(shape[0], dtype = tf.float32)\n",
    "        fanin = shape_to_float[0]\n",
    "#         print(f'fanin = {fanin}')\n",
    "        stddev = tf.sqrt(2. /fanin)\n",
    "#         print(f'stddev = {stddev}')\n",
    "        print('Initial weight with  He')\n",
    "        return tf.random.normal(shape, stddev=stddev, dtype=dtype)        \n",
    "\n",
    "#     Initialize kernel aka w\n",
    "    def init_w(self, input_shape):\n",
    "        shape = [input_shape[-1], self.units]\n",
    "        shape = tf.constant(shape, dtype=tf.int32)\n",
    "\n",
    "        if self.init == 0:\n",
    "#             Initialize with He : Relu and variants activation functions\n",
    "            value = self.He_initializer(shape)\n",
    "        else:\n",
    "#             Initialize with Xavier_Glorot : None, tanh, sigmoid, softmax activation functions\n",
    "            value = self.Xavier_Glorot_initializer(shape)\n",
    "            \n",
    "        return tf.Variable(name = 'kernel', initial_value=value ,trainable = True )\n",
    "\n",
    "#     Initialize biase aka b\n",
    "    def init_b(self):\n",
    "        value = tf.zeros(self.units)\n",
    "        return tf.Variable(name = 'bias', initial_value=value ,trainable = True )    \n",
    "       \n",
    "        \n",
    "    def build(self, input_shape):\n",
    "        self.w = self.init_w(input_shape)\n",
    "        self.b = self.init_b()\n",
    "        \n",
    "    def call(self, inputs):\n",
    "        out_put = self.activation(tf.matmul(inputs, self.w) + self.b)\n",
    "        return out_put"
   ]
  },
  {
   "cell_type": "code",
   "execution_count": 5,
   "id": "2bace8d4",
   "metadata": {},
   "outputs": [],
   "source": [
    "class Z_approx(tf.keras.Model):\n",
    "    def __init__(self,num_of_hid_layers = None, units_per_layer = None, num_out=1, initialization=None, activation=None ):\n",
    "        super(Z_approx,self).__init__()\n",
    "        self.num_of_hid_layers = num_of_hid_layers\n",
    "        self.units_per_layer = units_per_layer\n",
    "        self.num_out = num_out\n",
    "        self.init = initialization\n",
    "        self.normalize = tf.keras.layers.Normalization()\n",
    "        \n",
    "        if self.init == 0:\n",
    "            kerner_init = tf.keras.initializers.he_normal()\n",
    "        else:\n",
    "            kerner_init = tf.keras.initializers.glorot_normal()\n",
    "            \n",
    "        \n",
    "        \n",
    "        \n",
    "        self.initialization = initialization\n",
    "        self.activation = activation\n",
    "        \n",
    "        \n",
    "        self.hidden_layers = [MyDense(self.units_per_layer, self.initialization, self.activation) \n",
    "                              for _ in range(self.num_of_hid_layers)]\n",
    "        \n",
    "        self.out = MyDense(units=self.num_out, initialization=self.initialization)\n",
    "        \n",
    "        self.bn = [tf.keras.layers.BatchNormalization() for _ in range(self.num_of_hid_layers)]\n",
    "    \n",
    "    def call(self, inputs):\n",
    "        '''\n",
    "        Add BN before since the layer includes activations\n",
    "        \n",
    "        '''\n",
    "        \n",
    "        for i in range(self.num_of_hid_layers):\n",
    "            if i == 0:\n",
    "                x = self.normalize(inputs)\n",
    "                x = self.bn[i](x)\n",
    "            else:\n",
    "                x = self.bn[i](x)\n",
    "                \n",
    "            x = self.hidden_layers[i](x)\n",
    "            \n",
    "        return self.out(x)          "
   ]
  },
  {
   "cell_type": "code",
   "execution_count": 6,
   "id": "a7001087",
   "metadata": {},
   "outputs": [
    {
     "data": {
      "text/plain": [
       "TensorShape([2000, 1])"
      ]
     },
     "execution_count": 6,
     "metadata": {},
     "output_type": "execute_result"
    }
   ],
   "source": [
    "t = tf.linspace(0,1,2000)[:,tf.newaxis]\n",
    "t.shape"
   ]
  },
  {
   "cell_type": "code",
   "execution_count": 7,
   "id": "5344da3a",
   "metadata": {},
   "outputs": [
    {
     "name": "stdout",
     "output_type": "stream",
     "text": [
      "Initial weight with  He\n",
      "called_mish\n",
      "Initial weight with  He\n",
      "called_mish\n",
      "Initial weight with  He\n",
      "called_mish\n",
      "Initial weight with  He\n",
      "called_mish\n",
      "Initial weight with  He\n",
      "called_mish\n",
      "Initial weight with  He\n",
      "called_mish\n",
      "Initial weight with  He\n",
      "called_mish\n",
      "Initial weight with  He\n",
      "called_mish\n",
      "Initial weight with  He\n",
      "called_mish\n",
      "Initial weight with  He\n",
      "called_mish\n",
      "Initial weight with  He\n"
     ]
    }
   ],
   "source": [
    "z_hat = Z_approx(num_of_hid_layers = 10, units_per_layer = 30, num_out=4, initialization = 0,activation = 'mish')\n",
    "z_hat.build(t.shape)"
   ]
  },
  {
   "cell_type": "code",
   "execution_count": 8,
   "id": "2363a4f6",
   "metadata": {},
   "outputs": [
    {
     "data": {
      "text/plain": [
       "TensorShape([2000, 4])"
      ]
     },
     "execution_count": 8,
     "metadata": {},
     "output_type": "execute_result"
    }
   ],
   "source": [
    "z_hat(t).shape\n",
    "# remember z1 = u1 + iv1; z2 = u2 + iv2 hence 4"
   ]
  },
  {
   "cell_type": "code",
   "execution_count": 34,
   "id": "1c865b1d",
   "metadata": {},
   "outputs": [],
   "source": [
    "def equations(u1,v1,u2,v2,du1dt,dv1dt,du2dt,dv2dt):\n",
    "#     derivatives must be dtype tf.float32\n",
    "#     dz1dt = -ikz2*\n",
    "#     dz2dt = -ikz1*\n",
    "    k = tf.constant(1.,dtype = tf.float32)\n",
    "    k = tf.complex(k,0.0)\n",
    "    dz1dt = tf.complex(du1dt,dv1dt) # dzdt1 = dudt + idvdt . \n",
    "    dz2dt = tf.complex(du2dt,dv2dt) # dzdt1 = dudt + idvdt . \n",
    "    \n",
    "    \n",
    "    z1 = tf.complex(u1,v1)\n",
    "    z2 = tf.complex(u2,v2)\n",
    "    \n",
    "    rhs1 = -k*z2*1.j\n",
    "    rhs2 = -k*z1*1.j\n",
    "    \n",
    "#     real(LHS)-Real(RHS) = -Imag(LHS)+Img(RHS) Equation from PINN paper\n",
    "    \n",
    "    f_real1 = tf.math.real(dz1dt) - tf.math.real(rhs1) # = real(LHS)-Real(RHS)\n",
    "    f_imag1 = -tf.math.imag(dz1dt) + tf.math.imag(rhs1) # = -Imag(LHS)+Img(RHS)\n",
    "    \n",
    "    f_real2 = tf.math.real(dz2dt) - tf.math.real(rhs2) # = real(LHS)-Real(RHS)\n",
    "    f_imag2 = -tf.math.imag(dz2dt) + tf.math.imag(rhs2) # = -Imag(LHS)+Img(RHS)    \n",
    "    \n",
    "    \n",
    "    return f_real1,f_imag1,f_real2,f_imag2"
   ]
  },
  {
   "cell_type": "code",
   "execution_count": 35,
   "id": "63156a7a",
   "metadata": {},
   "outputs": [],
   "source": [
    "def get_derivatives(t):\n",
    "    '''\n",
    "    Calculate the derivatives and function that correspond to the ode\n",
    "\n",
    "    input:\n",
    "            t : independent variant\n",
    "\n",
    "    output:\n",
    "            value and corresponding derivative\n",
    "\n",
    "    '''\n",
    "\n",
    "#         z = u + iv\n",
    "    with tf.GradientTape(persistent=True) as tape:\n",
    "        tape.watch(t)    \n",
    "        u1 = z_hat(t)[:,:1]\n",
    "        v1 = z_hat(t)[:,1:2] \n",
    "        u2 = z_hat(t)[:,2:3]\n",
    "        v2 = z_hat(t)[:,3:4]     \n",
    "    du1dt = tf.cast(tape.gradient(u1,t), dtype=tf.float32)\n",
    "    dv1dt =  tf.cast(tape.gradient(v1,t),dtype=tf.float32)\n",
    "    du2dt = tf.cast(tape.gradient(u2,t), dtype=tf.float32)\n",
    "    dv2dt =  tf.cast(tape.gradient(v2,t),dtype=tf.float32)            \n",
    "\n",
    "    del tape\n",
    "\n",
    "    return u1,v1,u2,v2,du1dt,dv1dt,du2dt,dv2dt"
   ]
  },
  {
   "cell_type": "code",
   "execution_count": 36,
   "id": "cba319d0",
   "metadata": {},
   "outputs": [],
   "source": [
    "u1,v1,u2,v2,du1dt,dv1dt,du2dt,dv2dt = get_derivatives(t)"
   ]
  },
  {
   "cell_type": "code",
   "execution_count": 41,
   "id": "85612276",
   "metadata": {},
   "outputs": [
    {
     "data": {
      "text/plain": [
       "<tf.Tensor: shape=(2000, 1), dtype=float32, numpy=\n",
       "array([[-0.00207001],\n",
       "       [-0.00256708],\n",
       "       [-0.00306386],\n",
       "       ...,\n",
       "       [-1.1760409 ],\n",
       "       [-1.1770627 ],\n",
       "       [-1.1780844 ]], dtype=float32)>"
      ]
     },
     "execution_count": 41,
     "metadata": {},
     "output_type": "execute_result"
    }
   ],
   "source": [
    "v2"
   ]
  },
  {
   "cell_type": "code",
   "execution_count": 44,
   "id": "7a768919",
   "metadata": {},
   "outputs": [
    {
     "data": {
      "text/plain": [
       "TensorShape([2000, 1])"
      ]
     },
     "execution_count": 44,
     "metadata": {},
     "output_type": "execute_result"
    }
   ],
   "source": [
    "dv1dt.shape"
   ]
  },
  {
   "cell_type": "code",
   "execution_count": 45,
   "id": "0c0f213c",
   "metadata": {},
   "outputs": [
    {
     "data": {
      "text/plain": [
       "<tf.Tensor: shape=(2000, 1), dtype=bool, numpy=\n",
       "array([[False],\n",
       "       [False],\n",
       "       [False],\n",
       "       ...,\n",
       "       [False],\n",
       "       [False],\n",
       "       [False]])>"
      ]
     },
     "execution_count": 45,
     "metadata": {},
     "output_type": "execute_result"
    }
   ],
   "source": [
    "du1dt+v2 == (dv1dt-u2)"
   ]
  },
  {
   "cell_type": "code",
   "execution_count": 9,
   "id": "23218a7d",
   "metadata": {},
   "outputs": [],
   "source": [
    "class PINN:\n",
    "    def __init__(self, t, model,z_init,optim):\n",
    "        self.model = model\n",
    "        self.t = t\n",
    "        self.u1_init = z_init[0]\n",
    "        self.v1_init = z_init[1]\n",
    "        self.u2_init = z_init[2]\n",
    "        self.v2_init = z_init[3]        \n",
    "        self.optim = optim\n",
    "\n",
    "        \n",
    "    def get_derivatives(self,t):\n",
    "        '''\n",
    "        Calculate the derivatives and function that correspond to the ode\n",
    "\n",
    "        input:\n",
    "                t : independent variant\n",
    "\n",
    "        output:\n",
    "                value and corresponding derivative\n",
    "\n",
    "        '''\n",
    "        \n",
    "#         z = u + iv\n",
    "        with tf.GradientTape(persistent=True) as tape:\n",
    "            tape.watch(t)    \n",
    "            u1 = self.model(t)[:,:1]\n",
    "            v1 = self.model(t)[:,1:2] \n",
    "            u2 = self.model(t)[:,2:3]\n",
    "            v2 = self.model(t)[:,3:4]     \n",
    "        du1dt = tf.cast(tape.gradient(u1,t), dtype=tf.float32)\n",
    "        dv1dt =  tf.cast(tape.gradient(v1,t),dtype=tf.float32)\n",
    "        du2dt = tf.cast(tape.gradient(u2,t), dtype=tf.float32)\n",
    "        dv2dt =  tf.cast(tape.gradient(v2,t),dtype=tf.float32)            \n",
    "  \n",
    "        del tape\n",
    "        \n",
    "        return u1,v1,u2,v2,du1dt,dv1dt,du2dt,dv2dt\n",
    "    \n",
    "    def equations(self, u1,v1,u2,v2,du1dt,dv1dt,du2dt,dv2dt):\n",
    "        #     derivatives must be dtype tf.float32\n",
    "        #     derivatives must be dtype tf.float32\n",
    "        #     dz1dt = -ikz2*\n",
    "        #     dz2dt = -ikz1*\n",
    "        k = tf.constant(1.,dtype = tf.float32)\n",
    "        k = tf.complex(k,0.0)\n",
    "        dz1dt = tf.complex(du1dt,dv1dt) # dzdt1 = dudt + idvdt . \n",
    "        dz2dt = tf.complex(du2dt,dv2dt) # dzdt1 = dudt + idvdt . \n",
    "\n",
    "\n",
    "        z1 = tf.complex(u1,v1) #z1 = u1 + iv1\n",
    "        z2 = tf.complex(u2,v2)\n",
    "\n",
    "        z1_star = tf.math.conj(z1)   #z1* = complex conjugate (z1)\n",
    "        z2_star = tf.math.conj(z2)   #z2* = complex conjugate (z1)\n",
    "        \n",
    "        rhs1 = -k*z2_star*1.j\n",
    "        rhs2 = -k*z1_star*1.j\n",
    "\n",
    "    #     real(LHS)-Real(RHS) = -Imag(LHS)+Img(RHS) Equation from PINN paper\n",
    "\n",
    "        f_real1 =  tf.math.real(dz1dt) - tf.math.real(rhs1) # = real(LHS)-Real(RHS)\n",
    "        f_imag1 = -tf.math.imag(dz1dt) + tf.math.imag(rhs1) # = -Imag(LHS)+Img(RHS)\n",
    "\n",
    "        f_real2 =  tf.math.real(dz2dt) - tf.math.real(rhs2) # = real(LHS)-Real(RHS)\n",
    "        f_imag2 = -tf.math.imag(dz2dt) + tf.math.imag(rhs2) # = -Imag(LHS)+Img(RHS)    \n",
    "\n",
    "\n",
    "        return f_real1,f_imag1,f_real2,f_imag2\n",
    "        \n",
    "    def ode_ic(self,t):\n",
    "        u1,v1,u2,v2,du1dt,dv1dt,du2dt,dv2dt  = self.get_derivatives(t)\n",
    "        f_real1,f_imag1,f_real2,f_imag2 = self.equations(u1,v1,u2,v2,du1dt,dv1dt,du2dt,dv2dt)\n",
    "        u1 =  f_real1\n",
    "        u2 =  f_imag1\n",
    "        u3 =  f_real2\n",
    "        u4 =  f_imag2        \n",
    "        \n",
    "#         Initial conditions\n",
    "        u10,v10,u20,v20,_,_,_,_= self.get_derivatives(tf.zeros_like(t))\n",
    "#        \n",
    "        u5 = u10  - self.u1_init\n",
    "        u6 = v10  - self.v1_init\n",
    "        u7 = u20  - self.u2_init\n",
    "        u8 = v20  - self.v2_init\n",
    "        return u1,u2,u3,u4,u5,u6,u7,u8\n",
    "        \n",
    "    def loss(self,t):\n",
    "        u1,u2,u3,u4,u5,u6,u7,u8 = self.ode_ic(t)\n",
    "        mse_u1  = tf.reduce_mean(tf.square(u1))\n",
    "        mse_u2  = tf.reduce_mean(tf.square(u2))\n",
    "        mse_u3  = tf.reduce_mean(tf.square(u3))\n",
    "        mse_u4  = tf.reduce_mean(tf.square(u4))\n",
    "        \n",
    "        mse_u5  = tf.reduce_mean(tf.square(u5))\n",
    "        mse_u6  = tf.reduce_mean(tf.square(u6))\n",
    "        mse_u7  = tf.reduce_mean(tf.square(u7))\n",
    "        mse_u8  = tf.reduce_mean(tf.square(u8))        \n",
    "        \n",
    "        mse_t = mse_u1+mse_u2 + mse_u3+mse_u4+mse_u5+mse_u6+mse_u7+mse_u8\n",
    "\n",
    "        return mse_t\n",
    "    \n",
    "    def train_with_adam(self,batch_mode,epochs,batch_size,t):\n",
    "        @tf.function\n",
    "        def train_and_update(t):\n",
    "    #         print(f'params : \\n {self.model.trainable_variables}')\n",
    "            with tf.GradientTape() as tape:\n",
    "#                 tape.watch(model.trainable_variables)\n",
    "                los  = self.loss(t)\n",
    "            dlossdpa = tape.gradient(los,self.model.trainable_variables) \n",
    "            self.optim.apply_gradients(zip(dlossdpa, self.model.trainable_variables))\n",
    "            return los\n",
    "        \n",
    "        def train_and_update_batch(epochs, batch_size,t):\n",
    "            loss_batch = []\n",
    "            steps_per_epoch = int(t.shape[0]/batch_size)\n",
    "            \n",
    "            initial_loss = train_and_update(t).numpy()\n",
    "            print(f'initial loss : {initial_loss}\\n')\n",
    "            \n",
    "            for epoch in range(epochs):\n",
    "#                 print(f'Epoch {epoch} ', end = \".\")\n",
    "                for i in range(steps_per_epoch):\n",
    "                    t_batch = t[i*batch_size:batch_size*(i+1)]\n",
    "                    loss = train_and_update(t_batch).numpy()\n",
    "                    loss_batch.append(loss)\n",
    "                    \n",
    "#                     if i%(steps_per_epoch/10)==0:\n",
    "#                         print(end=\".\")\n",
    "                        \n",
    "#                     if epoch>6:\n",
    "#                         if tf.reduce_all(loss_batch[-1]<loss_batch[-6:-1]):\n",
    "#                             self.model.save_weights('saved_model'+str(loss_batch[-1]))\n",
    "#                             print(f'\\n best loss for epoch {epoch} : {loss_batch[-1]}') \n",
    "                        \n",
    "                        \n",
    "                if epoch%1000==0:   \n",
    "                    print(f'\\n loss for epoch {epoch} : {loss}')  \n",
    "            print(f'Final loss : {loss}')    \n",
    "            return loss_batch      \n",
    "                        \n",
    "                        \n",
    "        def train_whole_set(t):                \n",
    "            losses =[]\n",
    "            initial_loss = train_and_update(t).numpy()\n",
    "            print(f'initial loss : {initial_loss}')\n",
    "            losses.append(initial_loss)\n",
    "\n",
    "            for epoch in range(epochs):\n",
    "            #     print(f'epoch {epoch}')\n",
    "            #     print('epoch {}'.format(epoch),end = \".\")\n",
    "                loss = train_and_update(t).numpy()\n",
    "                losses.append(loss)\n",
    "            #     print(f'loss : {loss}')\n",
    "#                 if epoch>5:\n",
    "#                     if tf.reduce_all(losses[-1]<losses[-5:-1]):\n",
    "#                         self.model.save_weights('saved_model'+str(losses[-1]))\n",
    "#                         print(f'\\n best loss so far epoch {epoch} : {losses[-1]}')            \n",
    "\n",
    "                if epoch%1000==0:\n",
    "                    print(f'loss for epoch {epoch} : {loss}') \n",
    "            #         print(end = \".\")\n",
    "            print(f'Final loss : {loss}') \n",
    "            return losses\n",
    "        \n",
    "        if batch_mode == True:\n",
    "            losses = train_and_update_batch(epochs, batch_size,t)\n",
    "        else:\n",
    "            losses = train_whole_set(t)\n",
    "            \n",
    "        return losses                "
   ]
  },
  {
   "cell_type": "code",
   "execution_count": 10,
   "id": "36c60d06",
   "metadata": {},
   "outputs": [
    {
     "data": {
      "text/plain": [
       "<tf.Tensor: shape=(4,), dtype=float32, numpy=array([1., 0., 1., 0.], dtype=float32)>"
      ]
     },
     "execution_count": 10,
     "metadata": {},
     "output_type": "execute_result"
    }
   ],
   "source": [
    "optim = tf.keras.optimizers.Adam()\n",
    "epochs = 5000\n",
    "batch = 100\n",
    "u10,v10,u20,v20 = 1.,0.,1.,0.\n",
    "\n",
    "z_init = tf.constant(np.array([u10,v10,u20,v20]), dtype=tf.float32)\n",
    "# New idea z = [x,y]\n",
    "z_init"
   ]
  },
  {
   "cell_type": "code",
   "execution_count": 11,
   "id": "b403390e",
   "metadata": {},
   "outputs": [],
   "source": [
    "pinn = PINN(t, z_hat,z_init,optim)"
   ]
  },
  {
   "cell_type": "code",
   "execution_count": 12,
   "id": "286ce88b",
   "metadata": {},
   "outputs": [
    {
     "name": "stdout",
     "output_type": "stream",
     "text": [
      "initial loss : 4.926397323608398\n",
      "loss for epoch 0 : 3.24076771736145\n",
      "loss for epoch 1000 : 1.6653108104947023e-05\n",
      "loss for epoch 2000 : 1.8826203813659959e-06\n",
      "loss for epoch 3000 : 6.998661774559878e-07\n",
      "loss for epoch 4000 : 1.1202565701751155e-06\n",
      "Final loss : 2.4507599505341204e-07\n",
      "final loss 2.4507599505341204e-07 in 197.35772371292114 s\n"
     ]
    }
   ],
   "source": [
    "# batch_mode=False means without batches\n",
    "start = time.time()\n",
    "losss =  pinn.train_with_adam(batch_mode=False,epochs=epochs,batch_size=batch,t=t)\n",
    "print(f'final loss {losss[-1]} in {time.time() -start} s')"
   ]
  },
  {
   "cell_type": "code",
   "execution_count": 13,
   "id": "a4a395a9",
   "metadata": {},
   "outputs": [
    {
     "data": {
      "text/plain": [
       "[<matplotlib.lines.Line2D at 0x7f2308703d30>]"
      ]
     },
     "execution_count": 13,
     "metadata": {},
     "output_type": "execute_result"
    },
    {
     "data": {
      "image/png": "[encoded data removed]",
      "text/plain": [
       "<Figure size 432x288 with 1 Axes>"
      ]
     },
     "metadata": {
      "needs_background": "light"
     },
     "output_type": "display_data"
    }
   ],
   "source": [
    "plt.plot(losss)"
   ]
  },
  {
   "cell_type": "code",
   "execution_count": 14,
   "id": "fbd61d30",
   "metadata": {},
   "outputs": [
    {
     "data": {
      "text/plain": [
       "<matplotlib.legend.Legend at 0x7f23087874f0>"
      ]
     },
     "execution_count": 14,
     "metadata": {},
     "output_type": "execute_result"
    },
    {
     "data": {
      "image/png": "[encoded data removed]",
      "text/plain": [
       "<Figure size 432x288 with 1 Axes>"
      ]
     },
     "metadata": {
      "needs_background": "light"
     },
     "output_type": "display_data"
    }
   ],
   "source": [
    "# True solutions\n",
    "# u1_true = lambda t : (tf.math.exp(t)+tf.math.exp(-t))\n",
    "# v1_true = lambda t :  (tf.math.exp(t)-tf.math.exp(-t))\n",
    "\n",
    "# u2_true = u1_true(t)\n",
    "# v2_true = -v1_true(t)\n",
    "\n",
    "# plt.plot(t, u1_true(t) ,label = 'z1_real')\n",
    "plt.plot(t, z_hat(t) ,label = 'real_NN')\n",
    "\n",
    "# plt.plot(t, v1_true(t) ,label = 'Imag')\n",
    "plt.legend()"
   ]
  },
  {
   "cell_type": "code",
   "execution_count": 15,
   "id": "39cc4c3a",
   "metadata": {},
   "outputs": [
    {
     "data": {
      "text/plain": [
       "<matplotlib.legend.Legend at 0x7f22f45dc5b0>"
      ]
     },
     "execution_count": 15,
     "metadata": {},
     "output_type": "execute_result"
    },
    {
     "data": {
      "image/png": "[encoded data removed]",
      "text/plain": [
       "<Figure size 432x288 with 1 Axes>"
      ]
     },
     "metadata": {
      "needs_background": "light"
     },
     "output_type": "display_data"
    }
   ],
   "source": [
    "from scipy.integrate import solve_ivp, odeint, complex_ode,ode\n",
    "\n",
    "# Complex\n",
    "def rhs_complex(t,z):\n",
    "    z1,z2 = z\n",
    "    dz1dt = -np.conj(z2)*1.j\n",
    "    dz2dt = -np.conj(z1)*1.j\n",
    "    return [dz1dt,dz2dt]\n",
    "\n",
    "z0 = [1.,1.]\n",
    "\n",
    "rn = complex_ode(rhs_complex).set_initial_value(z0, 0.0)\n",
    "t1 = 1.02\n",
    "dt = 1./2000.\n",
    "x_list_cm = []\n",
    "y_list_cm = []\n",
    "t_list_cm = []\n",
    "while rn.successful() and rn.t < t1:\n",
    "#     print(rn.t,rn.integrate(rn.t+dt))\n",
    "    x_list_cm.append(rn.integrate(rn.t+dt).real[1])\n",
    "    y_list_cm.append(rn.integrate(rn.t+dt).imag[1])\n",
    "    t_list_cm.append(rn.t)\n",
    "    \n",
    "# plt.plot(t_list,x_list, label = 'ode_x')\n",
    "plt.plot(t_list_cm,x_list_cm, label = 'complex_ode_x')\n",
    "plt.plot(t_list_cm,y_list_cm, label = 'complex_ode_y')\n",
    "\n",
    "plt.legend()"
   ]
  },
  {
   "cell_type": "code",
   "execution_count": 16,
   "id": "c6418bb7",
   "metadata": {},
   "outputs": [
    {
     "data": {
      "image/png": "[encoded data removed]",
      "text/plain": [
       "<Figure size 432x288 with 1 Axes>"
      ]
     },
     "metadata": {
      "needs_background": "light"
     },
     "output_type": "display_data"
    }
   ],
   "source": [
    "plt.plot(t_list_cm,x_list_cm, label = 'complex_ode_x')\n",
    "plt.plot(t_list_cm,y_list_cm, label = 'complex_ode_y')\n",
    "plt.plot(t, z_hat(t) ,label = 'real_NN')\n",
    "plt.legend()\n",
    "plt.show()"
   ]
  },
  {
   "cell_type": "code",
   "execution_count": 24,
   "id": "9cebf298",
   "metadata": {},
   "outputs": [],
   "source": [
    "# with odeint\n",
    "def rhs(t,z):\n",
    "    u1,v1,u2,v2= z\n",
    "    du1dt = -v2\n",
    "    dv1dt = -u2\n",
    "    du2dt = -v1\n",
    "    dv2dt = -u1    \n",
    "    return [du1dt,dv1dt,du2dt,dv2dt]\n",
    "\n",
    "u10,v10,u20,v20 = 1.,0.,1.,0.\n",
    "z0 = np.array([u10,v10,u20,v20])\n",
    "rhs(t,z0)\n",
    "\n",
    "solution_x_y_odeint = odeint(func=rhs,y0=z0,t=t.numpy().ravel(),tfirst=True)"
   ]
  },
  {
   "cell_type": "code",
   "execution_count": 29,
   "id": "aa5b304c",
   "metadata": {},
   "outputs": [
    {
     "data": {
      "text/plain": [
       "array([[1.        ],\n",
       "       [1.00000013],\n",
       "       [1.0000005 ],\n",
       "       ...,\n",
       "       [1.5419057 ],\n",
       "       [1.54249302],\n",
       "       [1.54308072]])"
      ]
     },
     "execution_count": 29,
     "metadata": {},
     "output_type": "execute_result"
    }
   ],
   "source": [
    "solution_x_y_odeint[:,0][:,np.newaxis]"
   ]
  },
  {
   "cell_type": "code",
   "execution_count": 33,
   "id": "eeaae6f1",
   "metadata": {},
   "outputs": [
    {
     "data": {
      "image/png": "[encoded data removed]",
      "text/plain": [
       "<Figure size 432x288 with 1 Axes>"
      ]
     },
     "metadata": {
      "needs_background": "light"
     },
     "output_type": "display_data"
    }
   ],
   "source": [
    "plt.plot(t, z_hat(t)[:,0:1] ,label = 'u1_real_NN')\n",
    "plt.plot(t, solution_x_y_odeint[:,0][:,np.newaxis] ,label = 'u1_odeint')\n",
    "plt.legend()\n",
    "plt.show()"
   ]
  },
  {
   "cell_type": "code",
   "execution_count": 34,
   "id": "708eb546",
   "metadata": {},
   "outputs": [
    {
     "data": {
      "image/png": "[encoded data removed]",
      "text/plain": [
       "<Figure size 432x288 with 1 Axes>"
      ]
     },
     "metadata": {
      "needs_background": "light"
     },
     "output_type": "display_data"
    }
   ],
   "source": [
    "plt.plot(t, z_hat(t)[:,1:2] ,label = 'v1_NN')\n",
    "plt.plot(t, solution_x_y_odeint[:,1][:,np.newaxis] ,label = 'v1_odeint')\n",
    "plt.legend()\n",
    "plt.show()"
   ]
  },
  {
   "cell_type": "code",
   "execution_count": 35,
   "id": "3cd45a17",
   "metadata": {},
   "outputs": [
    {
     "data": {
      "image/png": "[encoded data removed]",
      "text/plain": [
       "<Figure size 432x288 with 1 Axes>"
      ]
     },
     "metadata": {
      "needs_background": "light"
     },
     "output_type": "display_data"
    }
   ],
   "source": [
    "plt.plot(t, z_hat(t)[:,2:3] ,label = 'u2_NN')\n",
    "plt.plot(t, solution_x_y_odeint[:,2][:,np.newaxis] ,label = 'u2_odeint')\n",
    "plt.legend()\n",
    "plt.show()"
   ]
  },
  {
   "cell_type": "code",
   "execution_count": 36,
   "id": "0c827e7a",
   "metadata": {},
   "outputs": [
    {
     "data": {
      "image/png": "[encoded data removed]",
      "text/plain": [
       "<Figure size 432x288 with 1 Axes>"
      ]
     },
     "metadata": {
      "needs_background": "light"
     },
     "output_type": "display_data"
    }
   ],
   "source": [
    "plt.plot(t, z_hat(t)[:,3:] ,label = 'v2_NN')\n",
    "plt.plot(t, solution_x_y_odeint[:,3][:,np.newaxis] ,label = 'v2_odeint')\n",
    "plt.legend()\n",
    "plt.show()"
   ]
  },
  {
   "cell_type": "code",
   "execution_count": null,
   "id": "6deeae0a",
   "metadata": {},
   "outputs": [],
   "source": []
  },
  {
   "cell_type": "code",
   "execution_count": null,
   "id": "ac087304",
   "metadata": {},
   "outputs": [],
   "source": []
  },
  {
   "cell_type": "code",
   "execution_count": 18,
   "id": "7682ce9a",
   "metadata": {},
   "outputs": [
    {
     "name": "stdout",
     "output_type": "stream",
     "text": [
      "initial loss : 1.183480776489887e-06\n",
      "\n",
      "called_mish\n",
      "called_mish\n",
      "called_mish\n",
      "called_mish\n",
      "called_mish\n",
      "called_mish\n",
      "called_mish\n",
      "called_mish\n",
      "called_mish\n",
      "called_mish\n",
      "\n",
      " loss for epoch 0 : 0.22820483148097992\n",
      "\n",
      " loss for epoch 1000 : 0.000270181248197332\n",
      "\n",
      " loss for epoch 2000 : 0.001130386139266193\n",
      "\n",
      " loss for epoch 3000 : 0.00019085322855971754\n",
      "\n",
      " loss for epoch 4000 : 0.00013847551599610597\n",
      "Final loss : 0.00035961702815257013\n",
      "final loss 0.00035961702815257013 in is 24.0s \n"
     ]
    }
   ],
   "source": [
    "# With batches\n",
    "lr = tf.keras.optimizers.schedules.PiecewiseConstantDecay([1000,3000],[1e-2,1e-3,5e-4])\n",
    "optim = tf.keras.optimizers.Adam(lr)\n",
    "pinn = PINN(t, z_hat,z_init,optim)\n",
    "start = time.time()\n",
    "losss =  pinn.train_with_adam(batch_mode=True,epochs=epochs,batch_size=batch,t=t)\n",
    "print(f'final loss {losss[-1]} in is {(time.time() -start)//60.}s ')"
   ]
  }
 ],
 "metadata": {
  "kernelspec": {
   "display_name": "Python 3 (ipykernel)",
   "language": "python",
   "name": "python3"
  },
  "language_info": {
   "codemirror_mode": {
    "name": "ipython",
    "version": 3
   },
   "file_extension": ".py",
   "mimetype": "text/x-python",
   "name": "python",
   "nbconvert_exporter": "python",
   "pygments_lexer": "ipython3",
   "version": "3.8.13"
  }
 },
 "nbformat": 4,
 "nbformat_minor": 5
}
