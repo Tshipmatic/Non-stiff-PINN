{
 "cells": [
  {
   "cell_type": "code",
   "execution_count": 2,
   "id": "db26a529",
   "metadata": {},
   "outputs": [],
   "source": [
    "import numpy as np\n",
    "import tensorflow as tf\n",
    "import matplotlib.pyplot as plt\n",
    "from tqdm.notebook import tnrange"
   ]
  },
  {
   "cell_type": "code",
   "execution_count": 5,
   "id": "83c63ecf",
   "metadata": {},
   "outputs": [],
   "source": [
    "class Sharp_grad_X:\n",
    "    def __init__(self,num_neuron, t_initial,t_final,k):\n",
    "        self.num_neuron = num_neuron\n",
    "        self.t0 = t_initial\n",
    "        self.tfi = t_final\n",
    "        self.k = k\n",
    "    \n",
    "        self.calculate_and_plot()\n",
    "    \n",
    "    def tune_hyper_parameters(self):\n",
    "        '''\n",
    "        Given the target number of neurons(num_neuron), the function we determine:\n",
    "        * number of training point in the interval t_initial and t_final\n",
    "        * the alpha and beta in the interval S_shape\n",
    "\n",
    "\n",
    "        NB :make sure that the length of the interval is 1.\n",
    "        '''\n",
    "    \n",
    "\n",
    "        num_trial_points = int(self.num_neuron/0.23)+1   #found imperically, tweak it as you please\n",
    "        M = num_trial_points//2\n",
    "\n",
    "        self.x = tf.cast(tf.linspace(self.t0,self.tfi,M)[:,None], tf.float32)\n",
    "\n",
    "        value = int((num_trial_points - 10)/10) + 4\n",
    "        # value = 10.\n",
    "\n",
    "        uniform_int_alpha = tf.initializers.RandomUniform(minval=-value, maxval=value,seed=1)\n",
    "        uniform_int_beta = tf.initializers.RandomUniform(minval=-value, maxval=value,seed=2)\n",
    "\n",
    "\n",
    "        alpha = uniform_int_alpha(shape=(num_trial_points,))\n",
    "        beta = uniform_int_beta(shape=(num_trial_points,))\n",
    "\n",
    "        C = -beta/alpha\n",
    "\n",
    "\n",
    "        good_alpha = []\n",
    "        good_beta = []\n",
    "        C_good = []\n",
    "        counter = 0\n",
    "\n",
    "        for i in tnrange(len(alpha)):\n",
    "            value = (2.945)/alpha[i]\n",
    "            low = C[i] - value\n",
    "            high = C[i] + value\n",
    "\n",
    "            if C[i] > self.x[0]  and C[i] <self.x[-1]:\n",
    "                counter +=1\n",
    "                good_alpha.append(alpha[i])\n",
    "                good_beta.append(beta[i])\n",
    "                C_good.append(C[i]) \n",
    "\n",
    "        return counter,good_alpha, good_beta      \n",
    "        \n",
    "    @staticmethod\n",
    "    def sigma(x,alpha,beta):\n",
    "        return 1./(1.+ tf.math.exp(-alpha*x -beta ))\n",
    "    \n",
    "    @staticmethod\n",
    "    def S_matrices(x_m_minus_2,alpha,beta):\n",
    "        with tf.autodiff.ForwardAccumulator(primals=x_m_minus_2,tangents=tf.ones_like(x_m_minus_2)) as outer:\n",
    "            with tf.autodiff.ForwardAccumulator(primals=x_m_minus_2,tangents=tf.ones_like(x_m_minus_2)) as inner:\n",
    "                S0 = Sharp_grad_X.sigma(x_m_minus_2,alpha,beta )\n",
    "            S1 = inner.jvp(S0)\n",
    "        S2 = outer.jvp(S1)  \n",
    "        return S0,S1,S2\n",
    "\n",
    "    @staticmethod\n",
    "    def B_matrices(init_array,alpha,beta):\n",
    "    #     xk = tf.constant(init_array,dtype=tf.float32)\n",
    "        xk = init_array\n",
    "        with tf.autodiff.ForwardAccumulator(primals=xk,tangents=tf.ones_like(xk)) as tape:\n",
    "            B0 = Sharp_grad_X.sigma(xk,alpha,beta )\n",
    "        B1 = tape.jvp(B0)\n",
    "        return B0,B1\n",
    "    \n",
    "    def calculate_and_plot(self):\n",
    "        neurons,good_alpha, good_beta   = self.tune_hyper_parameters()\n",
    "        print(f'neurons :{neurons}')\n",
    "        M = neurons//2\n",
    "        alpha = tf.convert_to_tensor(good_alpha,tf.float32)\n",
    "        beta = tf.convert_to_tensor(good_beta,tf.float32)\n",
    "\n",
    "        x_m_minus_2 = tf.linspace(self.x[1],self.x[-2],M-2)\n",
    "        k = self.k\n",
    "        S0,S1,S2 = self.S_matrices(x_m_minus_2,alpha,beta)\n",
    "        int_array = tf.concat([self.x[0],self.x[-1]],axis=0)[:,None]\n",
    "        B0,B1 = Sharp_grad_X.B_matrices(int_array,alpha,beta)\n",
    "\n",
    "        fg = np.zeros((M,1))\n",
    "        SB_matrix = np.zeros((M,neurons))\n",
    "        lhs_eqn = S2 + (4.*tf.pow(k*np.pi,2) - 1.)*S0\n",
    "        rhs_eqn = 4.*k*np.pi*tf.math.exp(x_m_minus_2)*tf.math.cos(2.*k*np.pi*x_m_minus_2)\n",
    "\n",
    "        lhs_BC =  B0\n",
    "        rhs_BC =  tf.zeros((2,1))\n",
    "        # \n",
    "\n",
    "        # First row == B0[0]\n",
    "        SB_matrix[0] = lhs_BC[0]\n",
    "        # Last row == B0[-1]\n",
    "        SB_matrix[-1] = lhs_BC[-1]\n",
    "        # inbetween == rhs_eqn\n",
    "        SB_matrix[1:-1] = lhs_eqn\n",
    "\n",
    "        # FG matrix\n",
    "        # First row == B0[0]\n",
    "        fg[0] = rhs_BC[0]\n",
    "        # Last row == B0[-1]\n",
    "        fg[-1] = rhs_BC[-1]\n",
    "        # inbetween == rhs_eqn\n",
    "        fg[1:-1] = rhs_eqn\n",
    "\n",
    "        weight = tf.linalg.pinv(SB_matrix)@fg\n",
    "        weight = tf.cast(weight, tf.float32)\n",
    "        u_hat = Sharp_grad_X.sigma(self.x, alpha, beta)@weight\n",
    "        u = lambda x: tf.math.exp(x)*tf.math.sin(2.*k*np.pi*x)\n",
    "        error = tf.norm(u_hat- u(self.x))\n",
    "        mse = tf.reduce_mean(tf.square(u_hat- u(self.x)))\n",
    "        residue = SB_matrix@weight - fg\n",
    "        res_nrom = tf.norm(residue)\n",
    "        res_mse = tf.reduce_mean(tf.square(residue))\n",
    "        print(f'Residue Norm  : {res_nrom}')\n",
    "        print(f'Residue mse  : {res_mse}')\n",
    "        print(f'Error : {tf.norm(error)}') \n",
    "        print(f'mse Error  : {mse}')\n",
    "        plt.plot(self.x,u(self.x))\n",
    "        plt.plot(self.x,u_hat, 'r--')\n",
    "        # plt.xlim(0.4)\n",
    "        # plt.ylim(-50.,50.)\n",
    "        plt.show()              \n"
   ]
  },
  {
   "cell_type": "code",
   "execution_count": 6,
   "id": "3fc75d75",
   "metadata": {},
   "outputs": [
    {
     "data": {
      "application/vnd.jupyter.widget-view+json": {
       "model_id": "8e07a5ecb43d4fa3a2cbaf554c39a60f",
       "version_major": 2,
       "version_minor": 0
      },
      "text/plain": [
       "  0%|          | 0/653 [00:00<?, ?it/s]"
      ]
     },
     "metadata": {},
     "output_type": "display_data"
    },
    {
     "name": "stdout",
     "output_type": "stream",
     "text": [
      "neurons :150\n",
      "Residue Norm  : 0.010112816467881203\n",
      "Residue mse  : 1.3635874438477913e-06\n",
      "Error : 0.25630515813827515\n",
      "mse Error  : 0.00020151023636572063\n"
     ]
    },
    {
     "data": {
      "image/png": "[encoded data removed]",
      "text/plain": [
       "<Figure size 432x288 with 1 Axes>"
      ]
     },
     "metadata": {
      "needs_background": "light"
     },
     "output_type": "display_data"
    }
   ],
   "source": [
    "num_neuron, t_initial,t_final,k = 150, 0.,1.,5\n",
    "test = Sharp_grad_X(num_neuron, t_initial,t_final,k)"
   ]
  },
  {
   "cell_type": "code",
   "execution_count": 23,
   "id": "57d5cc9f",
   "metadata": {},
   "outputs": [
    {
     "data": {
      "application/vnd.jupyter.widget-view+json": {
       "model_id": "34cc3e22b1764610a2fad698ddca7726",
       "version_major": 2,
       "version_minor": 0
      },
      "text/plain": [
       "  0%|          | 0/783 [00:00<?, ?it/s]"
      ]
     },
     "metadata": {},
     "output_type": "display_data"
    },
    {
     "name": "stdout",
     "output_type": "stream",
     "text": [
      "neurons :186\n",
      "Residue Norm  : nan\n",
      "Residue mse  : nan\n",
      "Error : nan\n",
      "mse Error  : nan\n"
     ]
    },
    {
     "name": "stderr",
     "output_type": "stream",
     "text": [
      "2023-02-08 01:05:40.311648: E ./tensorflow/core/kernels/linalg/svd_op_impl.h:110] Eigen::BDCSVD failed with error code 3\n"
     ]
    },
    {
     "data": {
      "image/png": "[encoded data removed]",
      "text/plain": [
       "<Figure size 432x288 with 1 Axes>"
      ]
     },
     "metadata": {
      "needs_background": "light"
     },
     "output_type": "display_data"
    }
   ],
   "source": [
    "# k = 1\n",
    "num_neuron, t_initial,t_final,k = 180, 0.,1.,5\n",
    "test = Sharp_grad_X(num_neuron, t_initial,t_final,k)"
   ]
  },
  {
   "cell_type": "code",
   "execution_count": null,
   "id": "887cfc53",
   "metadata": {},
   "outputs": [],
   "source": []
  }
 ],
 "metadata": {
  "kernelspec": {
   "display_name": "Python 3 (ipykernel)",
   "language": "python",
   "name": "python3"
  },
  "language_info": {
   "codemirror_mode": {
    "name": "ipython",
    "version": 3
   },
   "file_extension": ".py",
   "mimetype": "text/x-python",
   "name": "python",
   "nbconvert_exporter": "python",
   "pygments_lexer": "ipython3",
   "version": "3.8.13"
  }
 },
 "nbformat": 4,
 "nbformat_minor": 5
}
